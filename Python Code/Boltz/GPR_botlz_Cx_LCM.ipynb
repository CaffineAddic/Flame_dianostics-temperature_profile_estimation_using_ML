{
 "cells": [
  {
   "cell_type": "code",
   "execution_count": 38,
   "metadata": {},
   "outputs": [],
   "source": [
    "import numpy as np\n",
    "import matplotlib.pyplot as plt\n",
    "import os\n",
    "\n",
    "import GPy"
   ]
  },
  {
   "cell_type": "code",
   "execution_count": 39,
   "metadata": {},
   "outputs": [],
   "source": [
    "os.chdir('/home/saumya/Documents/Spec_data/boltz')"
   ]
  },
  {
   "cell_type": "code",
   "execution_count": 40,
   "metadata": {},
   "outputs": [],
   "source": [
    "x_dat = np.load('abs.npy').astype(np.half)\n",
    "\n",
    "# x_dat = np.reshape(x_dat, -1)[:, None]"
   ]
  },
  {
   "cell_type": "code",
   "execution_count": 41,
   "metadata": {},
   "outputs": [
    {
     "data": {
      "text/plain": [
       "(10000, 3000)"
      ]
     },
     "execution_count": 41,
     "metadata": {},
     "output_type": "execute_result"
    }
   ],
   "source": [
    "x_dat.shape"
   ]
  },
  {
   "cell_type": "code",
   "execution_count": 42,
   "metadata": {},
   "outputs": [],
   "source": [
    "os.chdir('/home/saumya/Documents/Flame_dianostics-temperature_profile_estimation_using_ML/spec_data/parameters_bolt')\n"
   ]
  },
  {
   "cell_type": "code",
   "execution_count": 43,
   "metadata": {},
   "outputs": [],
   "source": [
    "y_dat = np.load('param.npy')\n",
    "\n",
    "# y_dat = np.reshape(y_dat, -1)[:, None]\n",
    "\n",
    "# y_dat = y_dat[:10000]"
   ]
  },
  {
   "cell_type": "code",
   "execution_count": 44,
   "metadata": {},
   "outputs": [
    {
     "data": {
      "text/plain": [
       "(10000, 3)"
      ]
     },
     "execution_count": 44,
     "metadata": {},
     "output_type": "execute_result"
    }
   ],
   "source": [
    "y_dat.shape"
   ]
  },
  {
   "cell_type": "code",
   "execution_count": 45,
   "metadata": {},
   "outputs": [],
   "source": [
    "from sklearn.model_selection import train_test_split"
   ]
  },
  {
   "cell_type": "code",
   "execution_count": 46,
   "metadata": {},
   "outputs": [],
   "source": [
    "def train_val_test_split(X, y, val_size):\n",
    "    # test_size = 1 - train_size - val_size\n",
    "    X_train_val, X_test, y_train_val, y_test = train_test_split(X, y, test_size = val_size)\n",
    "    # relative_train_size = train_size / (val_size + train_size)\n",
    "    # X_train, X_val, y_train, y_val = train_test_split(X_train_val, y_train_val,\n",
    "                                                    #   train_size = relative_train_size, test_size = 1-relative_train_size)\n",
    "    return X_train_val, X_test, y_train_val, y_test"
   ]
  },
  {
   "cell_type": "code",
   "execution_count": 47,
   "metadata": {},
   "outputs": [],
   "source": [
    "X_train, X_test, Y_train, Y_test = train_val_test_split(x_dat, y_dat, .2)"
   ]
  },
  {
   "cell_type": "code",
   "execution_count": 48,
   "metadata": {},
   "outputs": [
    {
     "data": {
      "text/plain": [
       "[<matplotlib.lines.Line2D at 0x7fade387eeb0>]"
      ]
     },
     "execution_count": 48,
     "metadata": {},
     "output_type": "execute_result"
    },
    {
     "data": {
      "image/png": "[encoded data removed]",
      "text/plain": [
       "<Figure size 640x480 with 1 Axes>"
      ]
     },
     "metadata": {},
     "output_type": "display_data"
    }
   ],
   "source": [
    "plt.plot(x_dat[50])"
   ]
  },
  {
   "cell_type": "code",
   "execution_count": 49,
   "metadata": {},
   "outputs": [],
   "source": [
    "# LMC set up\n",
    "ks = [GPy.kern.RBF(np.shape(X_train)[1]) for i in range(1)]\n",
    "icm = GPy.util.multioutput.LCM(input_dim=np.shape(X_train)[1],num_outputs=1,kernels_list=ks)"
   ]
  },
  {
   "cell_type": "code",
   "execution_count": 50,
   "metadata": {},
   "outputs": [
    {
     "name": "stdout",
     "output_type": "stream",
     "text": [
      "  \u001b[1mICM0.          \u001b[0;0m  |         value  |  constraints  |  priors\n",
      "  \u001b[1mrbf.variance   \u001b[0;0m  |           1.0  |      +ve      |        \n",
      "  \u001b[1mrbf.lengthscale\u001b[0;0m  |           1.0  |      +ve      |        \n",
      "  \u001b[1mB.W            \u001b[0;0m  |  [0.61010737]  |               |        \n",
      "  \u001b[1mB.kappa        \u001b[0;0m  |           0.5  |      +ve      |        \n",
      "W matrix\n",
      "   \u001b[1mindex\u001b[0;0m  |    ICM0.B.W  |  constraints  |  priors\n",
      "  \u001b[1m[0 0]\u001b[0;0m  |  0.61010737  |               |        \n",
      "\n",
      "kappa vector\n",
      "   \u001b[1mindex\u001b[0;0m  |  ICM0.B.kappa  |  constraints  |  priors\n",
      "  \u001b[1m[0]  \u001b[0;0m  |    0.50000000  |      +ve      |        \n",
      "\n",
      "B matrix\n",
      " [[0.87223101]]\n"
     ]
    }
   ],
   "source": [
    "print(icm)\n",
    "print('W matrix\\n',icm.B.W)\n",
    "print('\\nkappa vector\\n',icm.B.kappa)\n",
    "print('\\nB matrix\\n',icm.B.B)"
   ]
  },
  {
   "cell_type": "code",
   "execution_count": 51,
   "metadata": {},
   "outputs": [],
   "source": [
    "m = GPy.models.GPCoregionalizedRegression([X_train],[Y_train],kernel=icm)\n",
    "m['.*rbf.var'].constrain_fixed(1.)\n",
    "# constrain if converge to reasonless extrema\n",
    "# m['mixed_noise.Gaussian_noise_0.variance'].constrain_bounded(0,1e-5)\n",
    "# m['mixed_noise.Gaussian_noise_1.variance'].constrain_bounded(0,1e-5)\n",
    "# m['mixed_noise.Gaussian_noise_2.variance'].constrain_bounded(0,1e-5)\n",
    "print(m)"
   ]
  },
  {
   "cell_type": "code",
   "execution_count": null,
   "metadata": {},
   "outputs": [
    {
     "name": "stdout",
     "output_type": "stream",
     "text": [
      "W matrix\n",
      "   \u001b[1mindex\u001b[0;0m  |  gp.ICM0.B.W  |  constraints  |  priors\n",
      "  \u001b[1m[0 0]\u001b[0;0m  |  -0.94934831  |               |        \n",
      "\n",
      "kappa vector\n",
      "   \u001b[1mindex\u001b[0;0m  |  gp.ICM0.B.kappa  |  constraints  |  priors\n",
      "  \u001b[1m[0]  \u001b[0;0m  |       0.50000000  |      +ve      |        \n"
     ]
    }
   ],
   "source": [
    "print('W matrix\\n',icm.B.W)\n",
    "print('\\nkappa vector\\n',icm.B.kappa)"
   ]
  },
  {
   "cell_type": "code",
   "execution_count": null,
   "metadata": {},
   "outputs": [
    {
     "data": {
      "text/plain": [
       "<paramz.optimization.optimization.opt_lbfgsb at 0x7fcf42369f10>"
      ]
     },
     "execution_count": 39,
     "metadata": {},
     "output_type": "execute_result"
    }
   ],
   "source": [
    "m.optimize()"
   ]
  },
  {
   "cell_type": "code",
   "execution_count": null,
   "metadata": {},
   "outputs": [
    {
     "name": "stdout",
     "output_type": "stream",
     "text": [
      "\n",
      "Name : gp\n",
      "Objective : 1707.8868821887118\n",
      "Number of Parameters : 5\n",
      "Number of Optimization Parameters : 4\n",
      "Updates : True\n",
      "Parameters:\n",
      "  \u001b[1mgp.                                  \u001b[0;0m  |                  value  |  constraints  |  priors\n",
      "  \u001b[1mICM0.rbf.variance                    \u001b[0;0m  |                    1.0  |   +ve fixed   |        \n",
      "  \u001b[1mICM0.rbf.lengthscale                 \u001b[0;0m  |    0.19772057200954662  |      +ve      |        \n",
      "  \u001b[1mICM0.B.W                             \u001b[0;0m  |        [-352.57863681]  |               |        \n",
      "  \u001b[1mICM0.B.kappa                         \u001b[0;0m  |  8.217984867727087e-22  |      +ve      |        \n",
      "  \u001b[1mmixed_noise.Gaussian_noise_0.variance\u001b[0;0m  |    0.08506061306498577  |      +ve      |        \n",
      "W matrix\n",
      "   \u001b[1mindex\u001b[0;0m  |  gp.ICM0.B.W  |  constraints  |  priors\n",
      "  \u001b[1m[0 0]\u001b[0;0m  |  -352.57863681  |               |        \n",
      "\n",
      "kappa vector\n",
      "   \u001b[1mindex\u001b[0;0m  |  gp.ICM0.B.kappa  |  constraints  |  priors\n",
      "  \u001b[1m[0]  \u001b[0;0m  |       0.00000000  |      +ve      |        \n",
      "\n",
      "B matrix\n",
      " [[124311.69513465]]\n"
     ]
    }
   ],
   "source": [
    "print(m)\n",
    "print('W matrix\\n',icm.B.W)\n",
    "print('\\nkappa vector\\n',icm.B.kappa)\n",
    "print('\\nB matrix\\n',icm.B.B)"
   ]
  },
  {
   "cell_type": "code",
   "execution_count": null,
   "metadata": {},
   "outputs": [],
   "source": [
    "newX = X_test"
   ]
  },
  {
   "cell_type": "code",
   "execution_count": null,
   "metadata": {},
   "outputs": [],
   "source": [
    "newX = np.concatenate((newX,np.zeros((np.shape(X_test)[0],1))),1)\n",
    "noise_dict = {'output_index':newX[:,-1].astype(int)}\n",
    "ys,var=m.predict(newX,Y_metadata=noise_dict)\n",
    "\n",
    "# Temper_test_=scalerT.inverse_transform(ys)\n"
   ]
  },
  {
   "cell_type": "code",
   "execution_count": null,
   "metadata": {},
   "outputs": [
    {
     "data": {
      "text/plain": [
       "array([[1798.49803972],\n",
       "       [1928.48136286],\n",
       "       [2176.46547019],\n",
       "       ...,\n",
       "       [2154.51222733],\n",
       "       [2009.45669668],\n",
       "       [1672.48849914]])"
      ]
     },
     "execution_count": 43,
     "metadata": {},
     "output_type": "execute_result"
    }
   ],
   "source": [
    "ys"
   ]
  },
  {
   "cell_type": "code",
   "execution_count": null,
   "metadata": {},
   "outputs": [
    {
     "data": {
      "text/plain": [
       "array([[1798.64986499],\n",
       "       [1928.79287929],\n",
       "       [2176.61766177],\n",
       "       ...,\n",
       "       [2154.91549155],\n",
       "       [2009.7209721 ],\n",
       "       [1672.07720772]])"
      ]
     },
     "execution_count": 44,
     "metadata": {},
     "output_type": "execute_result"
    }
   ],
   "source": [
    "Y_test"
   ]
  },
  {
   "cell_type": "code",
   "execution_count": null,
   "metadata": {},
   "outputs": [],
   "source": [
    "from sklearn import metrics"
   ]
  },
  {
   "cell_type": "code",
   "execution_count": null,
   "metadata": {},
   "outputs": [
    {
     "data": {
      "text/plain": [
       "2.6752493475026038e-08"
      ]
     },
     "execution_count": 46,
     "metadata": {},
     "output_type": "execute_result"
    }
   ],
   "source": [
    "conc_1 = metrics.mean_squared_log_error(np.array(ys), np.array(Y_test))\n",
    "conc_1"
   ]
  },
  {
   "cell_type": "code",
   "execution_count": null,
   "metadata": {},
   "outputs": [
    {
     "name": "stdout",
     "output_type": "stream",
     "text": [
      "The mean squared error between the real and predicted values are: 0.08853491243677762\n"
     ]
    }
   ],
   "source": [
    "conc_1 = metrics.mean_squared_error(np.array(ys), np.array(Y_test))\n",
    "print(f'The mean squared error between the real and predicted values are: {conc_1}')"
   ]
  }
 ],
 "metadata": {
  "kernelspec": {
   "display_name": "Python 3 (ipykernel)",
   "language": "python",
   "name": "python3"
  },
  "language_info": {
   "codemirror_mode": {
    "name": "ipython",
    "version": 3
   },
   "file_extension": ".py",
   "mimetype": "text/x-python",
   "name": "python",
   "nbconvert_exporter": "python",
   "pygments_lexer": "ipython3",
   "version": "3.9.18"
  }
 },
 "nbformat": 4,
 "nbformat_minor": 4
}
