{
 "cells": [
  {
   "cell_type": "code",
   "execution_count": 9,
   "metadata": {},
   "outputs": [],
   "source": [
    "import pylab as pb\n",
    "import GPy\n",
    "import numpy as np\n",
    "\n",
    "pb.interactive(False)"
   ]
  },
  {
   "cell_type": "code",
   "execution_count": 10,
   "metadata": {},
   "outputs": [],
   "source": [
    "#This functions generate data corresponding to two outputs\n",
    "f_output1 = lambda x: 4. * np.cos(x/5.) - .4*x - 35. + np.random.rand(x.size)[:,None] * 2.\n",
    "f_output2 = lambda x: 6. * np.cos(x/5.) + .2*x + 35. + np.random.rand(x.size)[:,None] * 8.\n",
    "\n",
    "\n",
    "#{X,Y} training set for each output\n",
    "X1 = np.random.rand(100)[:,None]; X1=X1*75\n",
    "X2 = np.random.rand(100)[:,None]; X2=X2*70 + 30\n",
    "Y1 = f_output1(X1)\n",
    "Y2 = f_output2(X2)\n",
    "#{X,Y} test set for each output\n",
    "Xt1 = np.random.rand(100)[:,None]*100\n",
    "Xt2 = np.random.rand(100)[:,None]*100\n",
    "Yt1 = f_output1(Xt1)\n",
    "Yt2 = f_output2(Xt2)"
   ]
  },
  {
   "cell_type": "code",
   "execution_count": 11,
   "metadata": {},
   "outputs": [
    {
     "name": "stdout",
     "output_type": "stream",
     "text": [
      "\n",
      "Name : gp\n",
      "Objective : 373.08077792479105\n",
      "Number of Parameters : 8\n",
      "Number of Optimization Parameters : 7\n",
      "Updates : True\n",
      "Parameters:\n",
      "  \u001b[1mgp.                                  \u001b[0;0m  |               value  |  constraints  |  priors\n",
      "  \u001b[1mICM.Mat32.variance                   \u001b[0;0m  |                 1.0  |   +ve fixed   |        \n",
      "  \u001b[1mICM.Mat32.lengthscale                \u001b[0;0m  |   1211.397804244578  |      +ve      |        \n",
      "  \u001b[1mICM.B.W                              \u001b[0;0m  |              (2, 1)  |               |        \n",
      "  \u001b[1mICM.B.kappa                          \u001b[0;0m  |                (2,)  |      +ve      |        \n",
      "  \u001b[1mmixed_noise.Gaussian_noise_0.variance\u001b[0;0m  |  0.3238206191950899  |      +ve      |        \n",
      "  \u001b[1mmixed_noise.Gaussian_noise_1.variance\u001b[0;0m  |   4.970105724250054  |      +ve      |        \n"
     ]
    },
    {
     "name": "stderr",
     "output_type": "stream",
     "text": [
      " /home/saumya/miniconda3/envs/tf/lib/python3.9/site-packages/GPy/kern/src/stationary.py:168: RuntimeWarning:overflow encountered in divide\n",
      " /home/saumya/miniconda3/envs/tf/lib/python3.9/site-packages/GPy/kern/src/stationary.py:489: RuntimeWarning:overflow encountered in multiply\n",
      " /home/saumya/miniconda3/envs/tf/lib/python3.9/site-packages/GPy/kern/src/stationary.py:489: RuntimeWarning:invalid value encountered in multiply\n",
      " /home/saumya/miniconda3/envs/tf/lib/python3.9/site-packages/GPy/kern/src/stationary.py:492: RuntimeWarning:overflow encountered in multiply\n",
      " /home/saumya/miniconda3/envs/tf/lib/python3.9/site-packages/GPy/kern/src/stationary.py:492: RuntimeWarning:invalid value encountered in multiply\n"
     ]
    }
   ],
   "source": [
    "K = GPy.kern.Matern32(1)\n",
    "icm = GPy.util.multioutput.ICM(input_dim=1, num_outputs=2, kernel=K)\n",
    "m = GPy.models.GPCoregionalizedRegression([X1, X2], [Y1, Y2], kernel=icm)\n",
    "#For this kernel, B.kappa encodes the variance now.\n",
    "m['.*Mat32.var'].constrain_fixed(1.) \n",
    "m.optimize()\n",
    "print(m)"
   ]
  },
  {
   "cell_type": "code",
   "execution_count": 12,
   "metadata": {},
   "outputs": [
    {
     "data": {
      "text/plain": [
       "<paramz.optimization.optimization.opt_lbfgsb at 0x7fc09c9e9eb0>"
      ]
     },
     "execution_count": 12,
     "metadata": {},
     "output_type": "execute_result"
    }
   ],
   "source": [
    "kernel = GPy.util.multioutput.ICM(input_dim=1,num_outputs=2,kernel=GPy.kern.Bias(input_dim=1))\n",
    "m = GPy.models.GPCoregionalizedRegression(X_list=[X1,X2],Y_list=[Y1,Y2],kernel=kernel)\n",
    "#B.kappa now encodes the variance.\n",
    "m['.*bias.var'].constrain_fixed(1) \n",
    "m['.*W'].constrain_fixed(0)\n",
    "m.optimize()\n",
    "\n",
    "Alt "
   ]
  },
  {
   "cell_type": "code",
   "execution_count": 13,
   "metadata": {},
   "outputs": [
    {
     "name": "stdout",
     "output_type": "stream",
     "text": [
      "[[100   1]\n",
      " [101   1]\n",
      " [102   1]\n",
      " [103   1]\n",
      " [104   1]\n",
      " [105   1]\n",
      " [106   1]\n",
      " [107   1]\n",
      " [108   1]\n",
      " [109   1]]\n"
     ]
    }
   ],
   "source": [
    "newX = np.arange(100,110)[:,None]\n",
    "newX = np.hstack([newX,np.ones_like(newX)])\n",
    "print(newX)"
   ]
  },
  {
   "cell_type": "code",
   "execution_count": 14,
   "metadata": {},
   "outputs": [],
   "source": [
    "noise_dict = {'output_index':newX[:,1:].astype(int)}"
   ]
  },
  {
   "cell_type": "code",
   "execution_count": 15,
   "metadata": {},
   "outputs": [
    {
     "data": {
      "text/plain": [
       "(array([[64.99408995],\n",
       "        [65.34465319],\n",
       "        [65.68768604],\n",
       "        [66.0232731 ],\n",
       "        [66.35149819],\n",
       "        [66.67244434],\n",
       "        [66.98619382],\n",
       "        [67.29282809],\n",
       "        [67.59242789],\n",
       "        [67.88507315]]),\n",
       " array([[ 7.33593179],\n",
       "        [ 9.24360347],\n",
       "        [12.21572235],\n",
       "        [16.47005211],\n",
       "        [22.21513687],\n",
       "        [29.6505505 ],\n",
       "        [38.96714038],\n",
       "        [50.34726559],\n",
       "        [63.96502993],\n",
       "        [79.98650959]]))"
      ]
     },
     "execution_count": 15,
     "metadata": {},
     "output_type": "execute_result"
    }
   ],
   "source": [
    "m.predict(newX,Y_metadata=noise_dict)"
   ]
  },
  {
   "cell_type": "code",
   "execution_count": null,
   "metadata": {},
   "outputs": [],
   "source": []
  }
 ],
 "metadata": {
  "kernelspec": {
   "display_name": "tf",
   "language": "python",
   "name": "python3"
  },
  "language_info": {
   "codemirror_mode": {
    "name": "ipython",
    "version": 3
   },
   "file_extension": ".py",
   "mimetype": "text/x-python",
   "name": "python",
   "nbconvert_exporter": "python",
   "pygments_lexer": "ipython3",
   "version": "3.9.18"
  }
 },
 "nbformat": 4,
 "nbformat_minor": 2
}
