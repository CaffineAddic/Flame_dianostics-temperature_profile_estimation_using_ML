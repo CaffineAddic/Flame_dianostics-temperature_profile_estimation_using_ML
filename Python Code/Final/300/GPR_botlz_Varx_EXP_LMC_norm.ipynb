{
 "cells": [
  {
   "cell_type": "code",
   "execution_count": 1,
   "metadata": {},
   "outputs": [],
   "source": [
    "import numpy as np\n",
    "import matplotlib.pyplot as plt\n",
    "import os\n",
    "\n",
    "from sklearn.preprocessing import StandardScaler\n",
    "import GPy"
   ]
  },
  {
   "cell_type": "code",
   "execution_count": 2,
   "metadata": {},
   "outputs": [],
   "source": [
    "os.chdir('/home/saumya/Documents/FINAL_DATA_300/Spec')"
   ]
  },
  {
   "cell_type": "code",
   "execution_count": 3,
   "metadata": {},
   "outputs": [],
   "source": [
    "x_dat = np.load('abs_SNR_clean_new.npy')\n",
    "# x_dat = np.reshape(x_dat, -1)[:, None]"
   ]
  },
  {
   "cell_type": "code",
   "execution_count": 4,
   "metadata": {},
   "outputs": [
    {
     "data": {
      "text/plain": [
       "(12500, 3000)"
      ]
     },
     "execution_count": 4,
     "metadata": {},
     "output_type": "execute_result"
    }
   ],
   "source": [
    "x_dat.shape"
   ]
  },
  {
   "cell_type": "code",
   "execution_count": 5,
   "metadata": {},
   "outputs": [
    {
     "data": {
      "text/plain": [
       "array([[0.000106  , 0.00010616, 0.0001063 , ..., 0.0003343 , 0.0003338 ,\n",
       "        0.0003335 ],\n",
       "       [0.000106  , 0.00010616, 0.0001063 , ..., 0.0003343 , 0.0003338 ,\n",
       "        0.0003335 ],\n",
       "       [0.000106  , 0.00010616, 0.0001063 , ..., 0.0003343 , 0.0003338 ,\n",
       "        0.0003335 ],\n",
       "       ...,\n",
       "       [0.001553  , 0.001555  , 0.001558  , ..., 0.002968  , 0.002964  ,\n",
       "        0.00296   ],\n",
       "       [0.00155   , 0.001553  , 0.001555  , ..., 0.002964  , 0.00296   ,\n",
       "        0.002958  ],\n",
       "       [0.001547  , 0.00155   , 0.001553  , ..., 0.00296   , 0.002956  ,\n",
       "        0.002954  ]], dtype=float16)"
      ]
     },
     "execution_count": 5,
     "metadata": {},
     "output_type": "execute_result"
    }
   ],
   "source": [
    "x_dat"
   ]
  },
  {
   "cell_type": "code",
   "execution_count": 6,
   "metadata": {},
   "outputs": [],
   "source": [
    "os.chdir('/home/saumya/Documents/FINAL_DATA_300/Param_profile')"
   ]
  },
  {
   "cell_type": "code",
   "execution_count": 7,
   "metadata": {},
   "outputs": [],
   "source": [
    "y_dat_std = np.load('final_param_300.npy')\n",
    "\n",
    "# y_dat = np.reshape(y_dat, -1)[:, None]\n",
    "\n",
    "# y_dat = y_dat[:10000]"
   ]
  },
  {
   "cell_type": "code",
   "execution_count": 8,
   "metadata": {},
   "outputs": [],
   "source": [
    "os.chdir('/home/saumya/Documents/FINAL_DATA_300/Model_data/LMC')"
   ]
  },
  {
   "cell_type": "code",
   "execution_count": 9,
   "metadata": {},
   "outputs": [],
   "source": [
    "y_A1_T = StandardScaler().fit(np.reshape(y_dat_std[:,0],-1)[:,None])\n",
    "y_A2_T = StandardScaler().fit(np.reshape(y_dat_std[:,1],-1)[:,None])\n",
    "y_A3_T = StandardScaler().fit(np.reshape(y_dat_std[:,2],-1)[:,None])"
   ]
  },
  {
   "cell_type": "code",
   "execution_count": 10,
   "metadata": {},
   "outputs": [],
   "source": [
    "y_A1_d = y_A1_T.transform(np.reshape(y_dat_std[:,0],-1)[:,None])\n",
    "y_A2_d = y_A2_T.transform(np.reshape(y_dat_std[:,1],-1)[:,None])\n",
    "y_A3_d = y_A3_T.transform(np.reshape(y_dat_std[:,2],-1)[:,None])"
   ]
  },
  {
   "cell_type": "code",
   "execution_count": 11,
   "metadata": {},
   "outputs": [],
   "source": [
    "import pickle\n",
    "\n",
    "\n",
    "with open('LMC_A1.pkl', 'wb') as file:\n",
    "    pickle.dump(y_A1_T, file)\n",
    "\n",
    "with open('LMC_A2.pkl', 'wb') as file:\n",
    "    pickle.dump(y_A2_T, file)\n",
    "\n",
    "with open('LMC_A3.pkl', 'wb') as file:\n",
    "    pickle.dump(y_A3_T, file)"
   ]
  },
  {
   "cell_type": "code",
   "execution_count": 12,
   "metadata": {},
   "outputs": [],
   "source": [
    "y_dat = np.column_stack((y_A1_d, y_A2_d, y_A3_d))"
   ]
  },
  {
   "cell_type": "code",
   "execution_count": 13,
   "metadata": {},
   "outputs": [],
   "source": [
    "# import pickle\n",
    "\n",
    "# import pickle\n",
    "# with open('y_d_T_ICM.pkl', 'wb') as file:\n",
    "#     pickle.dump(y_dat_transform, file)"
   ]
  },
  {
   "cell_type": "code",
   "execution_count": 14,
   "metadata": {},
   "outputs": [],
   "source": [
    "from sklearn.model_selection import train_test_split"
   ]
  },
  {
   "cell_type": "code",
   "execution_count": 15,
   "metadata": {},
   "outputs": [],
   "source": [
    "def train_val_test_split(X, y, val_size):\n",
    "    # test_size = 1 - train_size - val_size\n",
    "    X_train_val, X_test, y_train_val, y_test = train_test_split(X, y, test_size = val_size)\n",
    "    # relative_train_size = train_size / (val_size + train_size)\n",
    "    # X_train, X_val, y_train, y_val = train_test_split(X_train_val, y_train_val,\n",
    "                                                    #   train_size = relative_train_size, test_size = 1-relative_train_size)\n",
    "    return X_train_val, X_test, y_train_val, y_test"
   ]
  },
  {
   "cell_type": "code",
   "execution_count": 16,
   "metadata": {},
   "outputs": [],
   "source": [
    "X_train, X_test, Y_train, Y_test = train_val_test_split(x_dat, y_dat, .2)"
   ]
  },
  {
   "cell_type": "code",
   "execution_count": 17,
   "metadata": {},
   "outputs": [
    {
     "data": {
      "text/plain": [
       "-1.697749375254331"
      ]
     },
     "execution_count": 17,
     "metadata": {},
     "output_type": "execute_result"
    }
   ],
   "source": [
    "(y_dat[2][0])"
   ]
  },
  {
   "cell_type": "code",
   "execution_count": 18,
   "metadata": {},
   "outputs": [
    {
     "data": {
      "text/plain": [
       "[<matplotlib.lines.Line2D at 0x71b8f62d0e30>]"
      ]
     },
     "execution_count": 18,
     "metadata": {},
     "output_type": "execute_result"
    },
    {
     "data": {
      "image/png": "[encoded data removed]",
      "text/plain": [
       "<Figure size 640x480 with 1 Axes>"
      ]
     },
     "metadata": {},
     "output_type": "display_data"
    }
   ],
   "source": [
    "plt.plot(x_dat[1200])"
   ]
  },
  {
   "cell_type": "code",
   "execution_count": 19,
   "metadata": {},
   "outputs": [
    {
     "data": {
      "text/plain": [
       "0.0389"
      ]
     },
     "execution_count": 19,
     "metadata": {},
     "output_type": "execute_result"
    }
   ],
   "source": [
    "max(x_dat[1200])"
   ]
  },
  {
   "cell_type": "code",
   "execution_count": 20,
   "metadata": {},
   "outputs": [],
   "source": [
    "# LMC set up\n",
    "ks = [GPy.kern.RBF(np.shape(X_train)[1]) for i in range(1)]\n",
    "icm = GPy.util.multioutput.LCM(input_dim=np.shape(X_train)[1],num_outputs=1,kernels_list=ks)"
   ]
  },
  {
   "cell_type": "code",
   "execution_count": 21,
   "metadata": {
    "scrolled": true
   },
   "outputs": [
    {
     "name": "stdout",
     "output_type": "stream",
     "text": [
      "  \u001b[1mICM0.          \u001b[0;0m  |         value  |  constraints  |  priors\n",
      "  \u001b[1mrbf.variance   \u001b[0;0m  |           1.0  |      +ve      |        \n",
      "  \u001b[1mrbf.lengthscale\u001b[0;0m  |           1.0  |      +ve      |        \n",
      "  \u001b[1mB.W            \u001b[0;0m  |  [-1.0764046]  |               |        \n",
      "  \u001b[1mB.kappa        \u001b[0;0m  |           0.5  |      +ve      |        \n"
     ]
    }
   ],
   "source": [
    "print(icm)\n",
    "# print('W matrix\\n',icm.B.W)\n",
    "# print('\\nkappa vector\\n',icm.B.kappa)\n",
    "# print('\\nB matrix\\n',icm.B.B)"
   ]
  },
  {
   "cell_type": "code",
   "execution_count": 22,
   "metadata": {},
   "outputs": [
    {
     "data": {
      "text/plain": [
       "(10000, 3)"
      ]
     },
     "execution_count": 22,
     "metadata": {},
     "output_type": "execute_result"
    }
   ],
   "source": [
    "Y_train.shape"
   ]
  },
  {
   "cell_type": "code",
   "execution_count": 23,
   "metadata": {},
   "outputs": [
    {
     "name": "stdout",
     "output_type": "stream",
     "text": [
      "\n",
      "Name : gp\n",
      "Objective : 34869.378918835864\n",
      "Number of Parameters : 5\n",
      "Number of Optimization Parameters : 4\n",
      "Updates : True\n",
      "Parameters:\n",
      "  \u001b[1mgp.                                  \u001b[0;0m  |         value  |  constraints  |  priors\n",
      "  \u001b[1mICM0.rbf.variance                    \u001b[0;0m  |           1.0  |   +ve fixed   |        \n",
      "  \u001b[1mICM0.rbf.lengthscale                 \u001b[0;0m  |           1.0  |      +ve      |        \n",
      "  \u001b[1mICM0.B.W                             \u001b[0;0m  |  [-1.0764046]  |               |        \n",
      "  \u001b[1mICM0.B.kappa                         \u001b[0;0m  |           0.5  |      +ve      |        \n",
      "  \u001b[1mmixed_noise.Gaussian_noise_0.variance\u001b[0;0m  |           1.0  |      +ve      |        \n"
     ]
    }
   ],
   "source": [
    "m = GPy.models.GPCoregionalizedRegression([X_train],[Y_train],kernel=icm)\n",
    "m['.*rbf.var'].constrain_fixed(1.)\n",
    "# constrain if converge to reasonless extrema\n",
    "# m['mixed_noise.Gaussian_noise_0.variance'].constrain_bounded(0,1e-5)\n",
    "# m['mixed_noise.Gaussian_noise_1.variance'].constrain_bounded(0,1e-5)\n",
    "# m['mixed_noise.Gaussian_noise_2.variance'].constrain_bounded(0,1e-5)\n",
    "print(m)"
   ]
  },
  {
   "cell_type": "code",
   "execution_count": 24,
   "metadata": {},
   "outputs": [],
   "source": [
    "# print('W matrix\\n',icm.B.W)\n",
    "# print('\\nkappa vector\\n',icm.B.kappa)"
   ]
  },
  {
   "cell_type": "code",
   "execution_count": 25,
   "metadata": {},
   "outputs": [
    {
     "data": {
      "application/vnd.jupyter.widget-view+json": {
       "model_id": "b9968548d66d40d9bd023cd9371426fd",
       "version_major": 2,
       "version_minor": 0
      },
      "text/plain": [
       "HBox(children=(VBox(children=(IntProgress(value=0, max=1000), HTML(value=''))), Box(children=(HTML(value=''),)…"
      ]
     },
     "metadata": {},
     "output_type": "display_data"
    },
    {
     "data": {
      "text/plain": [
       "<paramz.optimization.optimization.opt_lbfgsb at 0x71ba6400fa70>"
      ]
     },
     "execution_count": 25,
     "metadata": {},
     "output_type": "execute_result"
    }
   ],
   "source": [
    "m.optimize(messages=True)"
   ]
  },
  {
   "cell_type": "code",
   "execution_count": 26,
   "metadata": {},
   "outputs": [],
   "source": [
    "with open('gpr_LMC_Norm.pkl', 'wb') as file:\n",
    "    pickle.dump(m, file)"
   ]
  },
  {
   "cell_type": "code",
   "execution_count": 27,
   "metadata": {},
   "outputs": [
    {
     "name": "stdout",
     "output_type": "stream",
     "text": [
      "\n",
      "Name : gp\n",
      "Objective : 15972.425068068962\n",
      "Number of Parameters : 5\n",
      "Number of Optimization Parameters : 4\n",
      "Updates : True\n",
      "Parameters:\n",
      "  \u001b[1mgp.                                  \u001b[0;0m  |                value  |  constraints  |  priors\n",
      "  \u001b[1mICM0.rbf.variance                    \u001b[0;0m  |                  1.0  |   +ve fixed   |        \n",
      "  \u001b[1mICM0.rbf.lengthscale                 \u001b[0;0m  |  0.20005777926041396  |      +ve      |        \n",
      "  \u001b[1mICM0.B.W                             \u001b[0;0m  |      [-111.78755444]  |               |        \n",
      "  \u001b[1mICM0.B.kappa                         \u001b[0;0m  |    9.613874551245926  |      +ve      |        \n",
      "  \u001b[1mmixed_noise.Gaussian_noise_0.variance\u001b[0;0m  |   0.1315150579543501  |      +ve      |        \n"
     ]
    }
   ],
   "source": [
    "print(m)\n",
    "# print('W matrix\\n',icm.B.W)\n",
    "# print('\\nkappa vector\\n',icm.B.kappa)\n",
    "# print('\\nB matrix\\n',icm.B.B)"
   ]
  },
  {
   "cell_type": "code",
   "execution_count": 28,
   "metadata": {},
   "outputs": [],
   "source": [
    "newX = X_test"
   ]
  },
  {
   "cell_type": "code",
   "execution_count": 29,
   "metadata": {},
   "outputs": [],
   "source": [
    "newX = np.concatenate((newX,np.zeros((np.shape(X_test)[0],1))),1)\n",
    "noise_dict = {'output_index':newX[:,-1].astype(int)}\n",
    "ys_norm,var=m.predict(newX,Y_metadata=noise_dict)\n",
    "\n",
    "# Temper_test_=scalerT.inverse_transform(ys)\n"
   ]
  },
  {
   "cell_type": "code",
   "execution_count": 30,
   "metadata": {},
   "outputs": [
    {
     "data": {
      "text/plain": [
       "array([ 0.39425584, -0.11282599,  0.11445848, ..., -1.24094154,\n",
       "       -0.30913597, -0.45279398])"
      ]
     },
     "execution_count": 30,
     "metadata": {},
     "output_type": "execute_result"
    }
   ],
   "source": [
    "ys_norm[:,0]"
   ]
  },
  {
   "cell_type": "code",
   "execution_count": 31,
   "metadata": {},
   "outputs": [
    {
     "data": {
      "text/plain": [
       "array([ 0.38112741, -0.10394384,  0.10394384, ..., -1.21267813,\n",
       "       -0.31183152, -0.4504233 ])"
      ]
     },
     "execution_count": 31,
     "metadata": {},
     "output_type": "execute_result"
    }
   ],
   "source": [
    "Y_test[:,0]"
   ]
  },
  {
   "cell_type": "code",
   "execution_count": 32,
   "metadata": {},
   "outputs": [],
   "source": [
    "ys = np.zeros_like(ys_norm)\n",
    "Y_test_real = np.zeros_like(Y_test)"
   ]
  },
  {
   "cell_type": "code",
   "execution_count": 33,
   "metadata": {},
   "outputs": [],
   "source": [
    "ys[:, 0] = y_A1_T.inverse_transform(ys_norm[:,0].reshape(-1,1)).ravel()\n",
    "ys[:, 1] = y_A2_T.inverse_transform(ys_norm[:,1].reshape(-1,1)).ravel()\n",
    "ys[:, 2] = y_A3_T.inverse_transform(ys_norm[:,2].reshape(-1,1)).ravel()"
   ]
  },
  {
   "cell_type": "code",
   "execution_count": 34,
   "metadata": {},
   "outputs": [],
   "source": [
    "Y_test_real[:, 0] = y_A1_T.inverse_transform(Y_test[:,0].reshape(-1,1)).ravel()\n",
    "Y_test_real[:, 1] = y_A2_T.inverse_transform(Y_test[:,1].reshape(-1,1)).ravel()\n",
    "Y_test_real[:, 2] = y_A3_T.inverse_transform(Y_test[:,2].reshape(-1,1)).ravel()"
   ]
  },
  {
   "cell_type": "code",
   "execution_count": 35,
   "metadata": {},
   "outputs": [
    {
     "data": {
      "text/plain": [
       "array([ 1.81721791, -1.22945429,  1.45542164, ..., -3.91218118,\n",
       "        0.37311393, -0.32814601])"
      ]
     },
     "execution_count": 35,
     "metadata": {},
     "output_type": "execute_result"
    }
   ],
   "source": [
    "ys[:,0]-Y_test_real[:,0]"
   ]
  },
  {
   "cell_type": "code",
   "execution_count": 36,
   "metadata": {},
   "outputs": [
    {
     "data": {
      "text/plain": [
       "[<matplotlib.lines.Line2D at 0x71b8f1870440>]"
      ]
     },
     "execution_count": 36,
     "metadata": {},
     "output_type": "execute_result"
    },
    {
     "data": {
      "image/png": "[encoded data removed]",
      "text/plain": [
       "<Figure size 640x480 with 1 Axes>"
      ]
     },
     "metadata": {},
     "output_type": "display_data"
    }
   ],
   "source": [
    "plt.plot(ys[1000])\n",
    "\n",
    "plt.plot(Y_test_real[1000])"
   ]
  },
  {
   "cell_type": "code",
   "execution_count": 37,
   "metadata": {},
   "outputs": [
    {
     "data": {
      "text/plain": [
       "array([[ 1.81721791,  0.03186841,  0.35368989],\n",
       "       [-1.22945429, -0.30407952,  1.56385696],\n",
       "       [ 1.45542164, -0.00688619,  0.83384722],\n",
       "       ...,\n",
       "       [-3.91218118, -0.22611736,  2.45344091],\n",
       "       [ 0.37311393,  0.03671002, -0.13014056],\n",
       "       [-0.32814601, -0.13883392,  0.19035403]])"
      ]
     },
     "execution_count": 37,
     "metadata": {},
     "output_type": "execute_result"
    }
   ],
   "source": [
    "ys-Y_test_real"
   ]
  },
  {
   "cell_type": "code",
   "execution_count": 38,
   "metadata": {},
   "outputs": [
    {
     "data": {
      "text/plain": [
       "array([[5.90755102e+02, 5.50000000e-01, 1.09183673e+01],\n",
       "       [5.23612245e+02, 1.00000000e+00, 3.20408163e+00],\n",
       "       [5.52387755e+02, 5.50000000e-01, 1.20204082e+01],\n",
       "       ...,\n",
       "       [3.70142857e+02, 7.75000000e-01, 3.73673469e+01],\n",
       "       [4.94836735e+02, 5.50000000e-01, 3.29591837e+01],\n",
       "       [4.75653061e+02, 7.75000000e-01, 4.17755102e+01]])"
      ]
     },
     "execution_count": 38,
     "metadata": {},
     "output_type": "execute_result"
    }
   ],
   "source": [
    "Y_test_real"
   ]
  },
  {
   "cell_type": "code",
   "execution_count": 39,
   "metadata": {},
   "outputs": [],
   "source": [
    "from sklearn import metrics"
   ]
  },
  {
   "cell_type": "code",
   "execution_count": 40,
   "metadata": {},
   "outputs": [
    {
     "name": "stdout",
     "output_type": "stream",
     "text": [
      "The mean squared error between the real and predicted values are: 0.03421742490885235\n"
     ]
    }
   ],
   "source": [
    "conc_1 = metrics.mean_squared_error(np.array(ys[:, 1]), np.array(Y_test_real[:, 1]))\n",
    "print(f'The mean squared error between the real and predicted values are: {conc_1}')"
   ]
  },
  {
   "cell_type": "code",
   "execution_count": 41,
   "metadata": {},
   "outputs": [
    {
     "name": "stdout",
     "output_type": "stream",
     "text": [
      "The mean squared error between the real and predicted values are: 9.979032504668764\n"
     ]
    }
   ],
   "source": [
    "conc_1 = metrics.mean_squared_error(np.array(ys[:, 2]), np.array(Y_test_real[:, 2]))\n",
    "print(f'The mean squared error between the real and predicted values are: {conc_1}')"
   ]
  },
  {
   "cell_type": "code",
   "execution_count": 42,
   "metadata": {},
   "outputs": [
    {
     "name": "stdout",
     "output_type": "stream",
     "text": [
      "The mean squared error between the real and predicted values are: 104.33161259154761\n"
     ]
    }
   ],
   "source": [
    "conc_1 = metrics.mean_squared_error(np.array(ys[:, 0]), np.array(Y_test_real[:, 0]))\n",
    "print(f'The mean squared error between the real and predicted values are: {conc_1}')"
   ]
  },
  {
   "cell_type": "code",
   "execution_count": 43,
   "metadata": {},
   "outputs": [
    {
     "data": {
      "text/plain": [
       "38.11495417370832"
      ]
     },
     "execution_count": 43,
     "metadata": {},
     "output_type": "execute_result"
    }
   ],
   "source": [
    "metrics.mean_squared_error(ys, Y_test_real)"
   ]
  },
  {
   "cell_type": "code",
   "execution_count": 44,
   "metadata": {},
   "outputs": [],
   "source": [
    "np.save(\"true_vals_lmc\", Y_test_real)"
   ]
  },
  {
   "cell_type": "code",
   "execution_count": 45,
   "metadata": {},
   "outputs": [],
   "source": [
    "np.save(\"pred_vals_lmc\", ys)\n"
   ]
  },
  {
   "cell_type": "code",
   "execution_count": 46,
   "metadata": {},
   "outputs": [
    {
     "data": {
      "text/plain": [
       "'/home/saumya/Documents/FINAL_DATA_300/Model_data/LMC'"
      ]
     },
     "execution_count": 46,
     "metadata": {},
     "output_type": "execute_result"
    }
   ],
   "source": [
    "pwd"
   ]
  },
  {
   "cell_type": "code",
   "execution_count": null,
   "metadata": {},
   "outputs": [],
   "source": []
  }
 ],
 "metadata": {
  "kernelspec": {
   "display_name": "Python 3 (ipykernel)",
   "language": "python",
   "name": "python3"
  },
  "language_info": {
   "codemirror_mode": {
    "name": "ipython",
    "version": 3
   },
   "file_extension": ".py",
   "mimetype": "text/x-python",
   "name": "python",
   "nbconvert_exporter": "python",
   "pygments_lexer": "ipython3",
   "version": "3.12.2"
  }
 },
 "nbformat": 4,
 "nbformat_minor": 4
}
