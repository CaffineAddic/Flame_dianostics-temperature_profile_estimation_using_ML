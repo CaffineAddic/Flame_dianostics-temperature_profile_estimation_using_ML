{
 "cells": [
  {
   "cell_type": "code",
   "execution_count": 1,
   "metadata": {},
   "outputs": [],
   "source": [
    "import numpy as np\n",
    "import matplotlib.pyplot as plt\n",
    "import os\n",
    "\n",
    "from sklearn.preprocessing import StandardScaler\n",
    "import GPy"
   ]
  },
  {
   "cell_type": "code",
   "execution_count": 2,
   "metadata": {},
   "outputs": [],
   "source": [
    "os.chdir('/home/saumya/Documents/FINAL_DATA_FINAL/Spec')"
   ]
  },
  {
   "cell_type": "code",
   "execution_count": 3,
   "metadata": {},
   "outputs": [],
   "source": [
    "x_dat = np.load('ABS_noisy_SNR_new.npy')\n",
    "# x_dat = np.reshape(x_dat, -1)[:, None]"
   ]
  },
  {
   "cell_type": "code",
   "execution_count": 4,
   "metadata": {},
   "outputs": [
    {
     "data": {
      "text/plain": [
       "(5250, 3000)"
      ]
     },
     "execution_count": 4,
     "metadata": {},
     "output_type": "execute_result"
    }
   ],
   "source": [
    "x_dat.shape"
   ]
  },
  {
   "cell_type": "code",
   "execution_count": 5,
   "metadata": {},
   "outputs": [
    {
     "data": {
      "text/plain": [
       "array([[ 8.1122e-05,  3.8922e-05,  3.0088e-04, ...,  1.8597e-04,\n",
       "         3.8815e-04,  3.9840e-04],\n",
       "       [ 1.8311e-04,  1.3924e-04,  5.5134e-05, ...,  4.8876e-04,\n",
       "         3.0565e-04,  3.2973e-04],\n",
       "       [ 9.8586e-05,  2.2447e-04,  3.7432e-05, ...,  4.4417e-04,\n",
       "         6.7234e-04,  1.1837e-04],\n",
       "       ...,\n",
       "       [ 1.2817e-03,  1.1425e-03, -2.2423e-04, ...,  3.1528e-03,\n",
       "         2.0695e-03,  2.2812e-03],\n",
       "       [ 1.8377e-03,  3.2349e-03,  2.9545e-03, ...,  3.9520e-03,\n",
       "         2.8610e-03,  4.5738e-03],\n",
       "       [ 2.7771e-03,  6.2847e-04, -7.3099e-04, ...,  1.0796e-03,\n",
       "         3.5896e-03,  3.0384e-03]], dtype=float16)"
      ]
     },
     "execution_count": 5,
     "metadata": {},
     "output_type": "execute_result"
    }
   ],
   "source": [
    "x_dat"
   ]
  },
  {
   "cell_type": "code",
   "execution_count": 6,
   "metadata": {},
   "outputs": [],
   "source": [
    "os.chdir('/home/saumya/Documents/FINAL_DATA_FINAL/Param_profile')"
   ]
  },
  {
   "cell_type": "code",
   "execution_count": 7,
   "metadata": {},
   "outputs": [],
   "source": [
    "y_dat_std = np.load('final_param_FINAL.npy')\n",
    "\n",
    "# y_dat = np.reshape(y_dat, -1)[:, None]\n",
    "\n",
    "# y_dat = y_dat[:10000]"
   ]
  },
  {
   "cell_type": "code",
   "execution_count": 8,
   "metadata": {},
   "outputs": [],
   "source": [
    "os.chdir('/home/saumya/Documents/FINAL_DATA_FINAL/Model_data_noisy/ICM')"
   ]
  },
  {
   "cell_type": "code",
   "execution_count": 9,
   "metadata": {},
   "outputs": [],
   "source": [
    "y_A1_T = StandardScaler().fit(np.reshape(y_dat_std[:,0],-1)[:,None])\n",
    "y_A2_T = StandardScaler().fit(np.reshape(y_dat_std[:,1],-1)[:,None])\n",
    "y_A3_T = StandardScaler().fit(np.reshape(y_dat_std[:,2],-1)[:,None])"
   ]
  },
  {
   "cell_type": "code",
   "execution_count": 10,
   "metadata": {},
   "outputs": [],
   "source": [
    "y_A1_d = y_A1_T.transform(np.reshape(y_dat_std[:,0],-1)[:,None])\n",
    "y_A2_d = y_A2_T.transform(np.reshape(y_dat_std[:,1],-1)[:,None])\n",
    "y_A3_d = y_A3_T.transform(np.reshape(y_dat_std[:,2],-1)[:,None])"
   ]
  },
  {
   "cell_type": "code",
   "execution_count": 11,
   "metadata": {},
   "outputs": [],
   "source": [
    "import pickle\n",
    "\n",
    "\n",
    "with open('ICM_A1.pkl', 'wb') as file:\n",
    "    pickle.dump(y_A1_T, file)\n",
    "\n",
    "with open('ICM_A2.pkl', 'wb') as file:\n",
    "    pickle.dump(y_A2_T, file)\n",
    "\n",
    "with open('ICM_A3.pkl', 'wb') as file:\n",
    "    pickle.dump(y_A3_T, file)"
   ]
  },
  {
   "cell_type": "code",
   "execution_count": 12,
   "metadata": {},
   "outputs": [],
   "source": [
    "y_dat = np.column_stack((y_A1_d, y_A2_d, y_A3_d))"
   ]
  },
  {
   "cell_type": "code",
   "execution_count": 13,
   "metadata": {},
   "outputs": [],
   "source": [
    "# import pickle\n",
    "\n",
    "# import pickle\n",
    "# with open('y_d_T_ICM.pkl', 'wb') as file:\n",
    "#     pickle.dump(y_dat_transform, file)"
   ]
  },
  {
   "cell_type": "code",
   "execution_count": 14,
   "metadata": {},
   "outputs": [],
   "source": [
    "from sklearn.model_selection import train_test_split"
   ]
  },
  {
   "cell_type": "code",
   "execution_count": 15,
   "metadata": {},
   "outputs": [],
   "source": [
    "def train_val_test_split(X, y, val_size):\n",
    "    # test_size = 1 - train_size - val_size\n",
    "    X_train_val, X_test, y_train_val, y_test = train_test_split(X, y, test_size = val_size)\n",
    "    # relative_train_size = train_size / (val_size + train_size)\n",
    "    # X_train, X_val, y_train, y_val = train_test_split(X_train_val, y_train_val,\n",
    "                                                    #   train_size = relative_train_size, test_size = 1-relative_train_size)\n",
    "    return X_train_val, X_test, y_train_val, y_test"
   ]
  },
  {
   "cell_type": "code",
   "execution_count": 16,
   "metadata": {},
   "outputs": [],
   "source": [
    "X_train, X_test, Y_train, Y_test = train_val_test_split(x_dat, y_dat, .2)"
   ]
  },
  {
   "cell_type": "code",
   "execution_count": 17,
   "metadata": {},
   "outputs": [
    {
     "data": {
      "text/plain": [
       "-1.6201851746019653"
      ]
     },
     "execution_count": 17,
     "metadata": {},
     "output_type": "execute_result"
    }
   ],
   "source": [
    "(y_dat[2][0])"
   ]
  },
  {
   "cell_type": "code",
   "execution_count": 18,
   "metadata": {},
   "outputs": [
    {
     "data": {
      "text/plain": [
       "[<matplotlib.lines.Line2D at 0x78e96919f590>]"
      ]
     },
     "execution_count": 18,
     "metadata": {},
     "output_type": "execute_result"
    },
    {
     "data": {
      "image/png": "[encoded data removed]",
      "text/plain": [
       "<Figure size 640x480 with 1 Axes>"
      ]
     },
     "metadata": {},
     "output_type": "display_data"
    }
   ],
   "source": [
    "plt.plot(x_dat[1200])"
   ]
  },
  {
   "cell_type": "code",
   "execution_count": 19,
   "metadata": {},
   "outputs": [
    {
     "data": {
      "text/plain": [
       "0.05112"
      ]
     },
     "execution_count": 19,
     "metadata": {},
     "output_type": "execute_result"
    }
   ],
   "source": [
    "max(x_dat[1200])"
   ]
  },
  {
   "cell_type": "code",
   "execution_count": 20,
   "metadata": {},
   "outputs": [],
   "source": [
    "# ICM model set up\n",
    "ks = GPy.kern.RBF(np.shape(X_train)[1])\n",
    "icm = GPy.util.multioutput.ICM(input_dim=np.shape(X_train)[1],num_outputs=1,kernel=ks)"
   ]
  },
  {
   "cell_type": "code",
   "execution_count": 21,
   "metadata": {
    "scrolled": true
   },
   "outputs": [
    {
     "name": "stdout",
     "output_type": "stream",
     "text": [
      "  \u001b[1mICM.           \u001b[0;0m  |         value  |  constraints  |  priors\n",
      "  \u001b[1mrbf.variance   \u001b[0;0m  |           1.0  |      +ve      |        \n",
      "  \u001b[1mrbf.lengthscale\u001b[0;0m  |           1.0  |      +ve      |        \n",
      "  \u001b[1mB.W            \u001b[0;0m  |  [0.06903751]  |               |        \n",
      "  \u001b[1mB.kappa        \u001b[0;0m  |           0.5  |      +ve      |        \n"
     ]
    }
   ],
   "source": [
    "print(icm)\n",
    "# print('W matrix\\n',icm.B.W)\n",
    "# print('\\nkappa vector\\n',icm.B.kappa)\n",
    "# print('\\nB matrix\\n',icm.B.B)"
   ]
  },
  {
   "cell_type": "code",
   "execution_count": 22,
   "metadata": {},
   "outputs": [
    {
     "data": {
      "text/plain": [
       "(4200, 3)"
      ]
     },
     "execution_count": 22,
     "metadata": {},
     "output_type": "execute_result"
    }
   ],
   "source": [
    "Y_train.shape"
   ]
  },
  {
   "cell_type": "code",
   "execution_count": 23,
   "metadata": {},
   "outputs": [
    {
     "name": "stdout",
     "output_type": "stream",
     "text": [
      "\n",
      "Name : gp\n",
      "Objective : 15352.631162659538\n",
      "Number of Parameters : 5\n",
      "Number of Optimization Parameters : 4\n",
      "Updates : True\n",
      "Parameters:\n",
      "  \u001b[1mgp.                                  \u001b[0;0m  |         value  |  constraints  |  priors\n",
      "  \u001b[1mICM.rbf.variance                     \u001b[0;0m  |           1.0  |   +ve fixed   |        \n",
      "  \u001b[1mICM.rbf.lengthscale                  \u001b[0;0m  |           1.0  |      +ve      |        \n",
      "  \u001b[1mICM.B.W                              \u001b[0;0m  |  [0.06903751]  |               |        \n",
      "  \u001b[1mICM.B.kappa                          \u001b[0;0m  |           0.5  |      +ve      |        \n",
      "  \u001b[1mmixed_noise.Gaussian_noise_0.variance\u001b[0;0m  |           1.0  |      +ve      |        \n"
     ]
    }
   ],
   "source": [
    "m = GPy.models.GPCoregionalizedRegression([X_train],[Y_train],kernel=icm)\n",
    "m['.*rbf.var'].constrain_fixed(1.)\n",
    "# constrain if converge to reasonless extrema\n",
    "# m['mixed_noise.Gaussian_noise_0.variance'].constrain_bounded(0,1e-5)\n",
    "# m['mixed_noise.Gaussian_noise_1.variance'].constrain_bounded(0,1e-5)\n",
    "# m['mixed_noise.Gaussian_noise_2.variance'].constrain_bounded(0,1e-5)\n",
    "print(m)"
   ]
  },
  {
   "cell_type": "code",
   "execution_count": 24,
   "metadata": {},
   "outputs": [],
   "source": [
    "# print('W matrix\\n',icm.B.W)\n",
    "# print('\\nkappa vector\\n',icm.B.kappa)"
   ]
  },
  {
   "cell_type": "code",
   "execution_count": 25,
   "metadata": {},
   "outputs": [
    {
     "data": {
      "application/vnd.jupyter.widget-view+json": {
       "model_id": "86a19d44f0b54657aa4eaf1af1308afc",
       "version_major": 2,
       "version_minor": 0
      },
      "text/plain": [
       "HBox(children=(VBox(children=(IntProgress(value=0, max=1000), HTML(value=''))), Box(children=(HTML(value=''),)…"
      ]
     },
     "metadata": {},
     "output_type": "display_data"
    },
    {
     "data": {
      "text/plain": [
       "<paramz.optimization.optimization.opt_lbfgsb at 0x78e96991f260>"
      ]
     },
     "execution_count": 25,
     "metadata": {},
     "output_type": "execute_result"
    }
   ],
   "source": [
    "m.optimize(messages=True)"
   ]
  },
  {
   "cell_type": "code",
   "execution_count": 26,
   "metadata": {},
   "outputs": [],
   "source": [
    "with open('gpr_ICM_Norm.pkl', 'wb') as file:\n",
    "    pickle.dump(m, file)"
   ]
  },
  {
   "cell_type": "code",
   "execution_count": 27,
   "metadata": {},
   "outputs": [
    {
     "name": "stdout",
     "output_type": "stream",
     "text": [
      "\n",
      "Name : gp\n",
      "Objective : 12534.542163951966\n",
      "Number of Parameters : 5\n",
      "Number of Optimization Parameters : 4\n",
      "Updates : True\n",
      "Parameters:\n",
      "  \u001b[1mgp.                                  \u001b[0;0m  |                value  |  constraints  |  priors\n",
      "  \u001b[1mICM.rbf.variance                     \u001b[0;0m  |                  1.0  |   +ve fixed   |        \n",
      "  \u001b[1mICM.rbf.lengthscale                  \u001b[0;0m  |  0.14576708086278012  |      +ve      |        \n",
      "  \u001b[1mICM.B.W                              \u001b[0;0m  |          [0.8399537]  |               |        \n",
      "  \u001b[1mICM.B.kappa                          \u001b[0;0m  |   1.4358008142678282  |      +ve      |        \n",
      "  \u001b[1mmixed_noise.Gaussian_noise_0.variance\u001b[0;0m  |   0.3292773342151624  |      +ve      |        \n"
     ]
    }
   ],
   "source": [
    "print(m)\n",
    "# print('W matrix\\n',icm.B.W)\n",
    "# print('\\nkappa vector\\n',icm.B.kappa)\n",
    "# print('\\nB matrix\\n',icm.B.B)"
   ]
  },
  {
   "cell_type": "code",
   "execution_count": 28,
   "metadata": {},
   "outputs": [],
   "source": [
    "newX = X_test"
   ]
  },
  {
   "cell_type": "code",
   "execution_count": 29,
   "metadata": {},
   "outputs": [],
   "source": [
    "newX = np.concatenate((newX,np.zeros((np.shape(X_test)[0],1))),1)\n",
    "noise_dict = {'output_index':newX[:,-1].astype(int)}\n",
    "ys_norm,var=m.predict(newX,Y_metadata=noise_dict)\n",
    "\n",
    "# Temper_test_=scalerT.inverse_transform(ys)\n"
   ]
  },
  {
   "cell_type": "code",
   "execution_count": 30,
   "metadata": {},
   "outputs": [
    {
     "data": {
      "text/plain": [
       "array([-0.06481271,  0.89328208,  0.13944955, ..., -0.53895031,\n",
       "        0.32782261, -0.41205547])"
      ]
     },
     "execution_count": 30,
     "metadata": {},
     "output_type": "execute_result"
    }
   ],
   "source": [
    "ys_norm[:,0]"
   ]
  },
  {
   "cell_type": "code",
   "execution_count": 31,
   "metadata": {},
   "outputs": [
    {
     "data": {
      "text/plain": [
       "array([-0.23145502,  1.15727512,  0.69436507, ..., -0.69436507,\n",
       "       -0.23145502,  0.46291005])"
      ]
     },
     "execution_count": 31,
     "metadata": {},
     "output_type": "execute_result"
    }
   ],
   "source": [
    "Y_test[:,0]"
   ]
  },
  {
   "cell_type": "code",
   "execution_count": 32,
   "metadata": {},
   "outputs": [],
   "source": [
    "ys = np.zeros_like(ys_norm)\n",
    "Y_test_real = np.zeros_like(Y_test)"
   ]
  },
  {
   "cell_type": "code",
   "execution_count": 33,
   "metadata": {},
   "outputs": [],
   "source": [
    "ys[:, 0] = y_A1_T.inverse_transform(ys_norm[:,0].reshape(-1,1)).ravel()\n",
    "ys[:, 1] = y_A2_T.inverse_transform(ys_norm[:,1].reshape(-1,1)).ravel()\n",
    "ys[:, 2] = y_A3_T.inverse_transform(ys_norm[:,2].reshape(-1,1)).ravel()"
   ]
  },
  {
   "cell_type": "code",
   "execution_count": 34,
   "metadata": {},
   "outputs": [],
   "source": [
    "Y_test_real[:, 0] = y_A1_T.inverse_transform(Y_test[:,0].reshape(-1,1)).ravel()\n",
    "Y_test_real[:, 1] = y_A2_T.inverse_transform(Y_test[:,1].reshape(-1,1)).ravel()\n",
    "Y_test_real[:, 2] = y_A3_T.inverse_transform(Y_test[:,2].reshape(-1,1)).ravel()"
   ]
  },
  {
   "cell_type": "code",
   "execution_count": 35,
   "metadata": {},
   "outputs": [
    {
     "data": {
      "text/plain": [
       "array([  24.17065914,  -38.29091057,  -80.48780454, ...,   22.54215805,\n",
       "         81.12050831, -126.90950359])"
      ]
     },
     "execution_count": 35,
     "metadata": {},
     "output_type": "execute_result"
    }
   ],
   "source": [
    "ys[:,0]-Y_test_real[:,0]"
   ]
  },
  {
   "cell_type": "code",
   "execution_count": 36,
   "metadata": {},
   "outputs": [
    {
     "data": {
      "text/plain": [
       "[<matplotlib.lines.Line2D at 0x78e964ef20c0>]"
      ]
     },
     "execution_count": 36,
     "metadata": {},
     "output_type": "execute_result"
    },
    {
     "data": {
      "image/png": "[encoded data removed]",
      "text/plain": [
       "<Figure size 640x480 with 1 Axes>"
      ]
     },
     "metadata": {},
     "output_type": "display_data"
    }
   ],
   "source": [
    "plt.plot(ys[1000])\n",
    "\n",
    "plt.plot(Y_test_real[1000])"
   ]
  },
  {
   "cell_type": "code",
   "execution_count": 37,
   "metadata": {},
   "outputs": [
    {
     "data": {
      "text/plain": [
       "array([[  24.17065914,    2.13502778,   -0.93861871],\n",
       "       [ -38.29091057,   -3.46259353,    4.04757194],\n",
       "       [ -80.48780454,   -3.64113275,    8.8610185 ],\n",
       "       ...,\n",
       "       [  22.54215805,   -0.90649846,    3.35637316],\n",
       "       [  81.12050831,    4.06058493,   -6.9359786 ],\n",
       "       [-126.90950359,   -2.67055888,   14.4894469 ]])"
      ]
     },
     "execution_count": 37,
     "metadata": {},
     "output_type": "execute_result"
    }
   ],
   "source": [
    "ys-Y_test_real"
   ]
  },
  {
   "cell_type": "code",
   "execution_count": 38,
   "metadata": {},
   "outputs": [
    {
     "data": {
      "text/plain": [
       "array([[504.42857143,   4.        ,  40.70588235],\n",
       "       [705.85714286,  10.        ,  37.52941176],\n",
       "       [638.71428571,  10.        ,  13.70588235],\n",
       "       ...,\n",
       "       [437.28571429,   7.        ,  16.88235294],\n",
       "       [504.42857143,   1.        ,  23.23529412],\n",
       "       [605.14285714,   8.        ,   1.        ]])"
      ]
     },
     "execution_count": 38,
     "metadata": {},
     "output_type": "execute_result"
    }
   ],
   "source": [
    "Y_test_real"
   ]
  },
  {
   "cell_type": "code",
   "execution_count": 39,
   "metadata": {},
   "outputs": [],
   "source": [
    "from sklearn import metrics"
   ]
  },
  {
   "cell_type": "code",
   "execution_count": 40,
   "metadata": {},
   "outputs": [
    {
     "name": "stdout",
     "output_type": "stream",
     "text": [
      "The mean squared error between the real and predicted values are: 5.815627830931631\n"
     ]
    }
   ],
   "source": [
    "conc_1 = metrics.mean_squared_error(np.array(ys[:, 1]), np.array(Y_test_real[:, 1]))\n",
    "print(f'The mean squared error between the real and predicted values are: {conc_1}')"
   ]
  },
  {
   "cell_type": "code",
   "execution_count": 41,
   "metadata": {},
   "outputs": [
    {
     "name": "stdout",
     "output_type": "stream",
     "text": [
      "The mean squared error between the real and predicted values are: 52.68689184643845\n"
     ]
    }
   ],
   "source": [
    "conc_1 = metrics.mean_squared_error(np.array(ys[:, 2]), np.array(Y_test_real[:, 2]))\n",
    "print(f'The mean squared error between the real and predicted values are: {conc_1}')"
   ]
  },
  {
   "cell_type": "code",
   "execution_count": 42,
   "metadata": {},
   "outputs": [
    {
     "name": "stdout",
     "output_type": "stream",
     "text": [
      "The mean squared error between the real and predicted values are: 2248.1900413406293\n"
     ]
    }
   ],
   "source": [
    "conc_1 = metrics.mean_squared_error(np.array(ys[:, 0]), np.array(Y_test_real[:, 0]))\n",
    "print(f'The mean squared error between the real and predicted values are: {conc_1}')"
   ]
  },
  {
   "cell_type": "code",
   "execution_count": 43,
   "metadata": {},
   "outputs": [
    {
     "data": {
      "text/plain": [
       "768.8975203393326"
      ]
     },
     "execution_count": 43,
     "metadata": {},
     "output_type": "execute_result"
    }
   ],
   "source": [
    "metrics.mean_squared_error(ys, Y_test_real)"
   ]
  },
  {
   "cell_type": "code",
   "execution_count": 44,
   "metadata": {},
   "outputs": [],
   "source": [
    "np.save(\"true_vals_icm\", Y_test_real)"
   ]
  },
  {
   "cell_type": "code",
   "execution_count": 45,
   "metadata": {},
   "outputs": [],
   "source": [
    "np.save(\"pred_vals_icm\", ys)\n"
   ]
  }
 ],
 "metadata": {
  "kernelspec": {
   "display_name": "Python 3 (ipykernel)",
   "language": "python",
   "name": "python3"
  },
  "language_info": {
   "codemirror_mode": {
    "name": "ipython",
    "version": 3
   },
   "file_extension": ".py",
   "mimetype": "text/x-python",
   "name": "python",
   "nbconvert_exporter": "python",
   "pygments_lexer": "ipython3",
   "version": "3.12.2"
  }
 },
 "nbformat": 4,
 "nbformat_minor": 4
}
