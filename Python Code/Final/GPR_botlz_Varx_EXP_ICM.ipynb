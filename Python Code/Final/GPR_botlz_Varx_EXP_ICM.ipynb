{
 "cells": [
  {
   "cell_type": "code",
   "execution_count": 56,
   "metadata": {},
   "outputs": [],
   "source": [
    "import numpy as np\n",
    "import matplotlib.pyplot as plt\n",
    "import os\n",
    "\n",
    "from sklearn.preprocessing import StandardScaler\n",
    "import GPy"
   ]
  },
  {
   "cell_type": "code",
   "execution_count": 57,
   "metadata": {},
   "outputs": [],
   "source": [
    "os.chdir('/home/saumya/Documents/Flame_dianostics-temperature_profile_estimation_using_ML-main/spec_data/New_final')"
   ]
  },
  {
   "cell_type": "code",
   "execution_count": 58,
   "metadata": {},
   "outputs": [],
   "source": [
    "x_dat = np.load('ABS_noisy_SNR_new.npy').astype(np.half)\n",
    "# x_dat = np.reshape(x_dat, -1)[:, None]"
   ]
  },
  {
   "cell_type": "code",
   "execution_count": 59,
   "metadata": {},
   "outputs": [
    {
     "data": {
      "text/plain": [
       "(12500, 3000)"
      ]
     },
     "execution_count": 59,
     "metadata": {},
     "output_type": "execute_result"
    }
   ],
   "source": [
    "x_dat.shape"
   ]
  },
  {
   "cell_type": "code",
   "execution_count": 60,
   "metadata": {},
   "outputs": [
    {
     "data": {
      "text/plain": [
       "array([[3.600e-05, 3.844e-05, 2.837e-05, ..., 4.733e-05, 5.478e-05,\n",
       "        4.387e-05],\n",
       "       [2.068e-05, 2.652e-05, 2.497e-05, ..., 6.682e-05, 7.761e-05,\n",
       "        5.633e-05],\n",
       "       [1.049e-05, 4.423e-05, 2.927e-05, ..., 7.147e-05, 1.000e-04,\n",
       "        7.272e-05],\n",
       "       ...,\n",
       "       [9.294e-04, 7.172e-04, 2.909e-05, ..., 7.749e-04, 3.695e-04,\n",
       "        5.455e-04],\n",
       "       [2.177e-04, 8.788e-04, 4.585e-04, ..., 5.589e-04, 7.362e-04,\n",
       "        8.240e-04],\n",
       "       [8.302e-04, 3.266e-04, 6.490e-04, ..., 9.861e-04, 4.880e-04,\n",
       "        7.000e-04]], dtype=float16)"
      ]
     },
     "execution_count": 60,
     "metadata": {},
     "output_type": "execute_result"
    }
   ],
   "source": [
    "x_dat"
   ]
  },
  {
   "cell_type": "code",
   "execution_count": 61,
   "metadata": {},
   "outputs": [],
   "source": [
    "os.chdir('/home/saumya/Documents/data/snr')"
   ]
  },
  {
   "cell_type": "code",
   "execution_count": 62,
   "metadata": {},
   "outputs": [],
   "source": [
    "y_dat_std = np.load('param_SNR.npy')\n",
    "\n",
    "# y_dat = np.reshape(y_dat, -1)[:, None]\n",
    "\n",
    "# y_dat = y_dat[:10000]"
   ]
  },
  {
   "cell_type": "code",
   "execution_count": 63,
   "metadata": {},
   "outputs": [
    {
     "data": {
      "text/plain": [
       "(12500, 3)"
      ]
     },
     "execution_count": 63,
     "metadata": {},
     "output_type": "execute_result"
    }
   ],
   "source": [
    "y_dat_std.shape"
   ]
  },
  {
   "cell_type": "code",
   "execution_count": 65,
   "metadata": {},
   "outputs": [],
   "source": [
    "y_dat = y_dat_transform.transform(y_dat_std)"
   ]
  },
  {
   "cell_type": "code",
   "execution_count": 66,
   "metadata": {},
   "outputs": [],
   "source": [
    "from sklearn.model_selection import train_test_split"
   ]
  },
  {
   "cell_type": "code",
   "execution_count": 67,
   "metadata": {},
   "outputs": [],
   "source": [
    "def train_val_test_split(X, y, val_size):\n",
    "    # test_size = 1 - train_size - val_size\n",
    "    X_train_val, X_test, y_train_val, y_test = train_test_split(X, y, test_size = val_size)\n",
    "    # relative_train_size = train_size / (val_size + train_size)\n",
    "    # X_train, X_val, y_train, y_val = train_test_split(X_train_val, y_train_val,\n",
    "                                                    #   train_size = relative_train_size, test_size = 1-relative_train_size)\n",
    "    return X_train_val, X_test, y_train_val, y_test"
   ]
  },
  {
   "cell_type": "code",
   "execution_count": 68,
   "metadata": {},
   "outputs": [],
   "source": [
    "X_train, X_test, Y_train, Y_test = train_val_test_split(x_dat, y_dat, .2)"
   ]
  },
  {
   "cell_type": "code",
   "execution_count": 69,
   "metadata": {},
   "outputs": [
    {
     "data": {
      "text/plain": [
       "[<matplotlib.lines.Line2D at 0x74bf744673b0>]"
      ]
     },
     "execution_count": 69,
     "metadata": {},
     "output_type": "execute_result"
    },
    {
     "data": {
      "image/png": "[encoded data removed]",
      "text/plain": [
       "<Figure size 640x480 with 1 Axes>"
      ]
     },
     "metadata": {},
     "output_type": "display_data"
    }
   ],
   "source": [
    "plt.plot(x_dat[2])"
   ]
  },
  {
   "cell_type": "code",
   "execution_count": 70,
   "metadata": {},
   "outputs": [],
   "source": [
    "# LMC set up\n",
    "ks = [GPy.kern.RBF(np.shape(X_train)[1]) for i in range(1)]\n",
    "icm = GPy.util.multioutput.LCM(input_dim=np.shape(X_train)[1],num_outputs=1,kernels_list=ks)"
   ]
  },
  {
   "cell_type": "code",
   "execution_count": 71,
   "metadata": {
    "scrolled": true
   },
   "outputs": [
    {
     "name": "stdout",
     "output_type": "stream",
     "text": [
      "  \u001b[1mICM0.          \u001b[0;0m  |          value  |  constraints  |  priors\n",
      "  \u001b[1mrbf.variance   \u001b[0;0m  |            1.0  |      +ve      |        \n",
      "  \u001b[1mrbf.lengthscale\u001b[0;0m  |            1.0  |      +ve      |        \n",
      "  \u001b[1mB.W            \u001b[0;0m  |  [-0.68419873]  |               |        \n",
      "  \u001b[1mB.kappa        \u001b[0;0m  |            0.5  |      +ve      |        \n"
     ]
    }
   ],
   "source": [
    "print(icm)\n",
    "# print('W matrix\\n',icm.B.W)\n",
    "# print('\\nkappa vector\\n',icm.B.kappa)\n",
    "# print('\\nB matrix\\n',icm.B.B)"
   ]
  },
  {
   "cell_type": "code",
   "execution_count": 72,
   "metadata": {},
   "outputs": [
    {
     "data": {
      "text/plain": [
       "[array([[ 7.983e-01, -2.747e-04],\n",
       "        [-5.889e-01, -2.747e-04],\n",
       "        [-6.572e-01,  7.070e-01],\n",
       "        ...,\n",
       "        [-7.280e-01, -7.070e-01],\n",
       "        [ 5.889e-01, -2.747e-04],\n",
       "        [ 8.667e-01,  1.415e+00]], dtype=float16),\n",
       " array([-1.213 , -1.352 ,  1.628 , ..., -0.1736, -1.559 ,  0.7275],\n",
       "       dtype=float16)]"
      ]
     },
     "execution_count": 72,
     "metadata": {},
     "output_type": "execute_result"
    }
   ],
   "source": [
    "[Y_train[:,:-1], Y_train[:,-1]]"
   ]
  },
  {
   "cell_type": "code",
   "execution_count": 73,
   "metadata": {},
   "outputs": [],
   "source": [
    "# m = GPy.models.GPCoregionalizedRegression([X_train, X_train, X_train],[np.reshape(Y_train[:, 0], -1)[:, None], np.reshape(Y_train[:, 1], -1)[:, None], np.reshape(Y_train[:, 2], -1)[:, None]],kernel=icm)\n"
   ]
  },
  {
   "cell_type": "code",
   "execution_count": 74,
   "metadata": {},
   "outputs": [
    {
     "name": "stdout",
     "output_type": "stream",
     "text": [
      "\n",
      "Name : gp\n",
      "Objective : 37779.972113157346\n",
      "Number of Parameters : 5\n",
      "Number of Optimization Parameters : 4\n",
      "Updates : True\n",
      "Parameters:\n",
      "  \u001b[1mgp.                                  \u001b[0;0m  |          value  |  constraints  |  priors\n",
      "  \u001b[1mICM0.rbf.variance                    \u001b[0;0m  |            1.0  |   +ve fixed   |        \n",
      "  \u001b[1mICM0.rbf.lengthscale                 \u001b[0;0m  |            1.0  |      +ve      |        \n",
      "  \u001b[1mICM0.B.W                             \u001b[0;0m  |  [-0.68419873]  |               |        \n",
      "  \u001b[1mICM0.B.kappa                         \u001b[0;0m  |            0.5  |      +ve      |        \n",
      "  \u001b[1mmixed_noise.Gaussian_noise_0.variance\u001b[0;0m  |            1.0  |      +ve      |        \n"
     ]
    }
   ],
   "source": [
    "m = GPy.models.GPCoregionalizedRegression([X_train],[Y_train],kernel=icm)\n",
    "m['.*rbf.var'].constrain_fixed(1.)\n",
    "# constrain if converge to reasonless extrema\n",
    "# m['mixed_noise.Gaussian_noise_0.variance'].constrain_bounded(0,1e-5)\n",
    "# m['mixed_noise.Gaussian_noise_1.variance'].constrain_bounded(0,1e-5)\n",
    "# m['mixed_noise.Gaussian_noise_2.variance'].constrain_bounded(0,1e-5)\n",
    "print(m)"
   ]
  },
  {
   "cell_type": "code",
   "execution_count": 75,
   "metadata": {},
   "outputs": [],
   "source": [
    "# print('W matrix\\n',icm.B.W)\n",
    "# print('\\nkappa vector\\n',icm.B.kappa)"
   ]
  },
  {
   "cell_type": "code",
   "execution_count": 76,
   "metadata": {},
   "outputs": [
    {
     "data": {
      "application/vnd.jupyter.widget-view+json": {
       "model_id": "5ee166e6058b40b9b2aeaf9eb5bb5ca4",
       "version_major": 2,
       "version_minor": 0
      },
      "text/plain": [
       "HBox(children=(VBox(children=(IntProgress(value=0, max=1000), HTML(value=''))), Box(children=(HTML(value=''),)…"
      ]
     },
     "metadata": {},
     "output_type": "display_data"
    }
   ],
   "source": [
    "m.optimize(messages=True)"
   ]
  },
  {
   "cell_type": "code",
   "execution_count": null,
   "metadata": {},
   "outputs": [
    {
     "name": "stdout",
     "output_type": "stream",
     "text": [
      "\n",
      "Name : gp\n",
      "Objective : 30054.088728678133\n",
      "Number of Parameters : 5\n",
      "Number of Optimization Parameters : 4\n",
      "Updates : True\n",
      "Parameters:\n",
      "  \u001b[1mgp.                                  \u001b[0;0m  |                value  |  constraints  |  priors\n",
      "  \u001b[1mICM0.rbf.variance                    \u001b[0;0m  |                  1.0  |   +ve fixed   |        \n",
      "  \u001b[1mICM0.rbf.lengthscale                 \u001b[0;0m  |  0.05206268728672002  |      +ve      |        \n",
      "  \u001b[1mICM0.B.W                             \u001b[0;0m  |        [-1.87478502]  |               |        \n",
      "  \u001b[1mICM0.B.kappa                         \u001b[0;0m  |   0.6897713012814027  |      +ve      |        \n",
      "  \u001b[1mmixed_noise.Gaussian_noise_0.variance\u001b[0;0m  |  0.38146064466621965  |      +ve      |        \n"
     ]
    }
   ],
   "source": [
    "print(m)\n",
    "# print('W matrix\\n',icm.B.W)\n",
    "# print('\\nkappa vector\\n',icm.B.kappa)\n",
    "# print('\\nB matrix\\n',icm.B.B)"
   ]
  },
  {
   "cell_type": "code",
   "execution_count": null,
   "metadata": {},
   "outputs": [],
   "source": [
    "newX = X_test"
   ]
  },
  {
   "cell_type": "code",
   "execution_count": null,
   "metadata": {},
   "outputs": [],
   "source": [
    "newX = np.concatenate((newX,np.zeros((np.shape(X_test)[0],1))),1)\n",
    "noise_dict = {'output_index':newX[:,-1].astype(int)}\n",
    "ys,var=m.predict(newX,Y_metadata=noise_dict)\n",
    "\n",
    "# Temper_test_=scalerT.inverse_transform(ys)\n"
   ]
  },
  {
   "cell_type": "code",
   "execution_count": null,
   "metadata": {},
   "outputs": [
    {
     "data": {
      "text/plain": [
       "array([[-1.33135657,  0.05075283,  0.2271048 ],\n",
       "       [-0.18743303,  0.16328018,  1.56966306],\n",
       "       [ 0.74175681, -0.10976807,  1.16581956],\n",
       "       ...,\n",
       "       [ 0.31504306, -0.01918896, -1.34611377],\n",
       "       [ 1.2696924 , -0.01851441, -0.21881713],\n",
       "       [-0.53058283,  0.02261122,  1.16366932]])"
      ]
     },
     "execution_count": 39,
     "metadata": {},
     "output_type": "execute_result"
    }
   ],
   "source": [
    "ys"
   ]
  },
  {
   "cell_type": "code",
   "execution_count": null,
   "metadata": {},
   "outputs": [
    {
     "data": {
      "text/plain": [
       "[<matplotlib.lines.Line2D at 0x74bf692fd790>]"
      ]
     },
     "execution_count": 40,
     "metadata": {},
     "output_type": "execute_result"
    },
    {
     "data": {
      "image/png": "[encoded data removed]",
      "text/plain": [
       "<Figure size 640x480 with 1 Axes>"
      ]
     },
     "metadata": {},
     "output_type": "display_data"
    }
   ],
   "source": [
    "plt.plot(ys[1030])\n",
    "\n",
    "plt.plot(Y_train[1030])"
   ]
  },
  {
   "cell_type": "code",
   "execution_count": null,
   "metadata": {},
   "outputs": [
    {
     "data": {
      "text/plain": [
       "array([[-1.33135657,  0.05075283,  0.2271048 ],\n",
       "       [-0.18743303,  0.16328018,  1.56966306],\n",
       "       [ 0.74175681, -0.10976807,  1.16581956],\n",
       "       ...,\n",
       "       [ 0.31504306, -0.01918896, -1.34611377],\n",
       "       [ 1.2696924 , -0.01851441, -0.21881713],\n",
       "       [-0.53058283,  0.02261122,  1.16366932]])"
      ]
     },
     "execution_count": 50,
     "metadata": {},
     "output_type": "execute_result"
    }
   ],
   "source": [
    "ys"
   ]
  },
  {
   "cell_type": "code",
   "execution_count": null,
   "metadata": {},
   "outputs": [
    {
     "data": {
      "text/plain": [
       "array([[-1.282e+00,  7.070e-01,  3.479e-02],\n",
       "       [-1.733e-01, -2.747e-04,  1.698e+00],\n",
       "       [ 7.261e-01, -7.070e-01,  1.145e+00],\n",
       "       ...,\n",
       "       [ 1.047e-01, -1.414e+00, -1.144e+00],\n",
       "       [ 1.214e+00, -1.414e+00, -1.736e-01],\n",
       "       [-5.200e-01, -1.414e+00,  1.214e+00]], dtype=float16)"
      ]
     },
     "execution_count": 51,
     "metadata": {},
     "output_type": "execute_result"
    }
   ],
   "source": [
    "Y_test"
   ]
  },
  {
   "cell_type": "code",
   "execution_count": null,
   "metadata": {},
   "outputs": [],
   "source": [
    "from sklearn import metrics"
   ]
  },
  {
   "cell_type": "code",
   "execution_count": null,
   "metadata": {},
   "outputs": [
    {
     "name": "stdout",
     "output_type": "stream",
     "text": [
      "The mean squared error between the real and predicted values are: 1.0100054404104133\n"
     ]
    }
   ],
   "source": [
    "conc_1 = metrics.mean_squared_error(np.array(ys[:, 1]), np.array(Y_test[:, 1]))\n",
    "print(f'The mean squared error between the real and predicted values are: {conc_1}')"
   ]
  },
  {
   "cell_type": "code",
   "execution_count": null,
   "metadata": {},
   "outputs": [
    {
     "name": "stdout",
     "output_type": "stream",
     "text": [
      "The mean squared error between the real and predicted values are: 0.13359799001076508\n"
     ]
    }
   ],
   "source": [
    "conc_1 = metrics.mean_squared_error(np.array(ys[:, 2]), np.array(Y_test[:, 2]))\n",
    "print(f'The mean squared error between the real and predicted values are: {conc_1}')"
   ]
  },
  {
   "cell_type": "code",
   "execution_count": null,
   "metadata": {},
   "outputs": [
    {
     "name": "stdout",
     "output_type": "stream",
     "text": [
      "The mean squared error between the real and predicted values are: 0.07755413270335845\n"
     ]
    }
   ],
   "source": [
    "conc_1 = metrics.mean_squared_error(np.array(ys[:, 0]), np.array(Y_test[:, 0]))\n",
    "print(f'The mean squared error between the real and predicted values are: {conc_1}')"
   ]
  },
  {
   "cell_type": "code",
   "execution_count": null,
   "metadata": {},
   "outputs": [
    {
     "data": {
      "text/plain": [
       "0.4070525210415132"
      ]
     },
     "execution_count": 55,
     "metadata": {},
     "output_type": "execute_result"
    }
   ],
   "source": [
    "metrics.mean_squared_error(ys, Y_test)"
   ]
  },
  {
   "cell_type": "code",
   "execution_count": null,
   "metadata": {},
   "outputs": [],
   "source": []
  }
 ],
 "metadata": {
  "kernelspec": {
   "display_name": "Python 3 (ipykernel)",
   "language": "python",
   "name": "python3"
  },
  "language_info": {
   "codemirror_mode": {
    "name": "ipython",
    "version": 3
   },
   "file_extension": ".py",
   "mimetype": "text/x-python",
   "name": "python",
   "nbconvert_exporter": "python",
   "pygments_lexer": "ipython3",
   "version": "3.12.2"
  }
 },
 "nbformat": 4,
 "nbformat_minor": 4
}
