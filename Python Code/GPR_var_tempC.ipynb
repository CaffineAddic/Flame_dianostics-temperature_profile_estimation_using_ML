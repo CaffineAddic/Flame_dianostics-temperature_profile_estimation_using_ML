{
 "cells": [
  {
   "cell_type": "code",
   "execution_count": 45,
   "metadata": {},
   "outputs": [],
   "source": [
    "import numpy as np\n",
    "import matplotlib.pyplot as plt\n",
    "import os\n",
    "\n",
    "import GPy"
   ]
  },
  {
   "cell_type": "code",
   "execution_count": 46,
   "metadata": {},
   "outputs": [],
   "source": [
    "os.chdir('/home/saumya/Documents/Spec_data/')"
   ]
  },
  {
   "cell_type": "code",
   "execution_count": 47,
   "metadata": {},
   "outputs": [],
   "source": [
    "x_dat = np.load('abs.npy').astype(np.half)\n",
    "\n",
    "x_dat = x_dat[:100]"
   ]
  },
  {
   "cell_type": "code",
   "execution_count": 48,
   "metadata": {},
   "outputs": [],
   "source": [
    "y_dat = np.load('temp.npy')\n",
    "\n",
    "y_dat = np.reshape(y_dat, -1)[:, None]\n",
    "\n",
    "y_dat = y_dat[:100]"
   ]
  },
  {
   "cell_type": "code",
   "execution_count": 49,
   "metadata": {},
   "outputs": [],
   "source": [
    "from sklearn.model_selection import train_test_split"
   ]
  },
  {
   "cell_type": "code",
   "execution_count": 50,
   "metadata": {},
   "outputs": [],
   "source": [
    "def train_val_test_split(X, y, val_size):\n",
    "    # test_size = 1 - train_size - val_size\n",
    "    X_train_val, X_test, y_train_val, y_test = train_test_split(X, y, test_size = val_size)\n",
    "    # relative_train_size = train_size / (val_size + train_size)\n",
    "    # X_train, X_val, y_train, y_val = train_test_split(X_train_val, y_train_val,\n",
    "                                                    #   train_size = relative_train_size, test_size = 1-relative_train_size)\n",
    "    return X_train_val, X_test, y_train_val, y_test"
   ]
  },
  {
   "cell_type": "code",
   "execution_count": 51,
   "metadata": {},
   "outputs": [],
   "source": [
    "X_train, X_test, Y_train, Y_test = train_val_test_split(x_dat, y_dat, .2)"
   ]
  },
  {
   "cell_type": "code",
   "execution_count": 52,
   "metadata": {},
   "outputs": [
    {
     "data": {
      "text/plain": [
       "[<matplotlib.lines.Line2D at 0x7f726c98beb0>]"
      ]
     },
     "execution_count": 52,
     "metadata": {},
     "output_type": "execute_result"
    },
    {
     "data": {
      "image/png": "[encoded data removed]",
      "text/plain": [
       "<Figure size 640x480 with 1 Axes>"
      ]
     },
     "metadata": {},
     "output_type": "display_data"
    }
   ],
   "source": [
    "plt.plot(x_dat[50])"
   ]
  },
  {
   "cell_type": "code",
   "execution_count": 60,
   "metadata": {},
   "outputs": [
    {
     "name": "stdout",
     "output_type": "stream",
     "text": [
      "[1503.50035004]\n"
     ]
    }
   ],
   "source": [
    "print(y_dat[50])"
   ]
  },
  {
   "cell_type": "code",
   "execution_count": 53,
   "metadata": {},
   "outputs": [],
   "source": [
    "# ICM model set up\n",
    "ks = GPy.kern.RBF(np.shape(X_train)[1])\n",
    "icm = GPy.util.multioutput.ICM(input_dim=np.shape(X_train)[1],num_outputs=1,kernel=ks)"
   ]
  },
  {
   "cell_type": "code",
   "execution_count": 54,
   "metadata": {},
   "outputs": [
    {
     "name": "stdout",
     "output_type": "stream",
     "text": [
      "  \u001b[1mICM.           \u001b[0;0m  |        value  |  constraints  |  priors\n",
      "  \u001b[1mrbf.variance   \u001b[0;0m  |          1.0  |      +ve      |        \n",
      "  \u001b[1mrbf.lengthscale\u001b[0;0m  |          1.0  |      +ve      |        \n",
      "  \u001b[1mB.W            \u001b[0;0m  |  [0.4692287]  |               |        \n",
      "  \u001b[1mB.kappa        \u001b[0;0m  |          0.5  |      +ve      |        \n",
      "W matrix\n",
      "   \u001b[1mindex\u001b[0;0m  |    ICM.B.W  |  constraints  |  priors\n",
      "  \u001b[1m[0 0]\u001b[0;0m  |  0.46922870  |               |        \n",
      "\n",
      "kappa vector\n",
      "   \u001b[1mindex\u001b[0;0m  |  ICM.B.kappa  |  constraints  |  priors\n",
      "  \u001b[1m[0]  \u001b[0;0m  |   0.50000000  |      +ve      |        \n",
      "\n",
      "B matrix\n",
      " [[0.72017557]]\n"
     ]
    }
   ],
   "source": [
    "print(icm)\n",
    "print('W matrix\\n',icm.B.W)\n",
    "print('\\nkappa vector\\n',icm.B.kappa)\n",
    "print('\\nB matrix\\n',icm.B.B)"
   ]
  },
  {
   "cell_type": "code",
   "execution_count": 55,
   "metadata": {},
   "outputs": [
    {
     "name": "stdout",
     "output_type": "stream",
     "text": [
      "\n",
      "Name : gp\n",
      "Objective : 1542491.054498557\n",
      "Number of Parameters : 5\n",
      "Number of Optimization Parameters : 4\n",
      "Updates : True\n",
      "Parameters:\n",
      "  \u001b[1mgp.                                  \u001b[0;0m  |        value  |  constraints  |  priors\n",
      "  \u001b[1mICM.rbf.variance                     \u001b[0;0m  |          1.0  |   +ve fixed   |        \n",
      "  \u001b[1mICM.rbf.lengthscale                  \u001b[0;0m  |          1.0  |      +ve      |        \n",
      "  \u001b[1mICM.B.W                              \u001b[0;0m  |  [0.4692287]  |               |        \n",
      "  \u001b[1mICM.B.kappa                          \u001b[0;0m  |          0.5  |      +ve      |        \n",
      "  \u001b[1mmixed_noise.Gaussian_noise_0.variance\u001b[0;0m  |          1.0  |      +ve      |        \n"
     ]
    }
   ],
   "source": [
    "m = GPy.models.GPCoregionalizedRegression([X_train],[Y_train],kernel=icm)\n",
    "m['.*rbf.var'].constrain_fixed(1.)\n",
    "# constrain if converge to reasonless extrema\n",
    "# m['mixed_noise.Gaussian_noise_0.variance'].constrain_bounded(0,1e-5)\n",
    "# m['mixed_noise.Gaussian_noise_1.variance'].constrain_bounded(0,1e-5)\n",
    "# m['mixed_noise.Gaussian_noise_2.variance'].constrain_bounded(0,1e-5)\n",
    "print(m)"
   ]
  },
  {
   "cell_type": "code",
   "execution_count": 56,
   "metadata": {},
   "outputs": [
    {
     "name": "stdout",
     "output_type": "stream",
     "text": [
      "W matrix\n",
      "   \u001b[1mindex\u001b[0;0m  |  gp.ICM.B.W  |  constraints  |  priors\n",
      "  \u001b[1m[0 0]\u001b[0;0m  |  0.46922870  |               |        \n",
      "\n",
      "kappa vector\n",
      "   \u001b[1mindex\u001b[0;0m  |  gp.ICM.B.kappa  |  constraints  |  priors\n",
      "  \u001b[1m[0]  \u001b[0;0m  |      0.50000000  |      +ve      |        \n"
     ]
    }
   ],
   "source": [
    "print('W matrix\\n',icm.B.W)\n",
    "print('\\nkappa vector\\n',icm.B.kappa)"
   ]
  },
  {
   "cell_type": "code",
   "execution_count": 57,
   "metadata": {},
   "outputs": [
    {
     "data": {
      "text/plain": [
       "<paramz.optimization.optimization.opt_lbfgsb at 0x7f72713be940>"
      ]
     },
     "execution_count": 57,
     "metadata": {},
     "output_type": "execute_result"
    }
   ],
   "source": [
    "m.optimize()"
   ]
  },
  {
   "cell_type": "code",
   "execution_count": 58,
   "metadata": {},
   "outputs": [
    {
     "name": "stdout",
     "output_type": "stream",
     "text": [
      "\n",
      "Name : gp\n",
      "Objective : 35.26407372281493\n",
      "Number of Parameters : 5\n",
      "Number of Optimization Parameters : 4\n",
      "Updates : True\n",
      "Parameters:\n",
      "  \u001b[1mgp.                                  \u001b[0;0m  |                    value  |  constraints  |  priors\n",
      "  \u001b[1mICM.rbf.variance                     \u001b[0;0m  |                      1.0  |   +ve fixed   |        \n",
      "  \u001b[1mICM.rbf.lengthscale                  \u001b[0;0m  |        1.041645485709489  |      +ve      |        \n",
      "  \u001b[1mICM.B.W                              \u001b[0;0m  |           [1504.9193119]  |               |        \n",
      "  \u001b[1mICM.B.kappa                          \u001b[0;0m  |  1.7494293299965035e-145  |      +ve      |        \n",
      "  \u001b[1mmixed_noise.Gaussian_noise_0.variance\u001b[0;0m  |      0.09375303048142786  |      +ve      |        \n",
      "W matrix\n",
      "   \u001b[1mindex\u001b[0;0m  |  gp.ICM.B.W  |  constraints  |  priors\n",
      "  \u001b[1m[0 0]\u001b[0;0m  |  1504.91931190  |               |        \n",
      "\n",
      "kappa vector\n",
      "   \u001b[1mindex\u001b[0;0m  |  gp.ICM.B.kappa  |  constraints  |  priors\n",
      "  \u001b[1m[0]  \u001b[0;0m  |      0.00000000  |      +ve      |        \n",
      "\n",
      "B matrix\n",
      " [[2264782.13532595]]\n"
     ]
    }
   ],
   "source": [
    "print(m)\n",
    "print('W matrix\\n',icm.B.W)\n",
    "print('\\nkappa vector\\n',icm.B.kappa)\n",
    "print('\\nB matrix\\n',icm.B.B)"
   ]
  },
  {
   "cell_type": "code",
   "execution_count": 59,
   "metadata": {},
   "outputs": [
    {
     "ename": "IndexError",
     "evalue": "index 3000 is out of bounds for axis 1 with size 3000",
     "output_type": "error",
     "traceback": [
      "\u001b[0;31m---------------------------------------------------------------------------\u001b[0m",
      "\u001b[0;31mIndexError\u001b[0m                                Traceback (most recent call last)",
      "File \u001b[0;32m~/.conda/envs/tf2/lib/python3.9/site-packages/GPy/kern/src/kern.py:115\u001b[0m, in \u001b[0;36mKern._slice_X\u001b[0;34m(self, X)\u001b[0m\n\u001b[1;32m    114\u001b[0m \u001b[39mtry\u001b[39;00m:\n\u001b[0;32m--> 115\u001b[0m     \u001b[39mreturn\u001b[39;00m X[:, \u001b[39mself\u001b[39;49m\u001b[39m.\u001b[39;49m_all_dims_active]\u001b[39m.\u001b[39mastype(\u001b[39m'\u001b[39m\u001b[39mfloat\u001b[39m\u001b[39m'\u001b[39m)\n\u001b[1;32m    116\u001b[0m \u001b[39mexcept\u001b[39;00m:\n",
      "\u001b[0;31mIndexError\u001b[0m: index 3000 is out of bounds for axis 1 with size 3000",
      "\nDuring handling of the above exception, another exception occurred:\n",
      "\u001b[0;31mIndexError\u001b[0m                                Traceback (most recent call last)",
      "\u001b[1;32m/home/saumya/Documents/Flame_dianostics-temperature_profile_estimation_using_ML/Python Code/GPR_var_tempC.ipynb Cell 15\u001b[0m line \u001b[0;36m1\n\u001b[0;32m----> <a href='vscode-notebook-cell:/home/saumya/Documents/Flame_dianostics-temperature_profile_estimation_using_ML/Python%20Code/GPR_var_tempC.ipynb#X52sZmlsZQ%3D%3D?line=0'>1</a>\u001b[0m m\u001b[39m.\u001b[39;49mpredict(X_test)\n",
      "File \u001b[0;32m~/.conda/envs/tf2/lib/python3.9/site-packages/GPy/core/gp.py:346\u001b[0m, in \u001b[0;36mGP.predict\u001b[0;34m(self, Xnew, full_cov, Y_metadata, kern, likelihood, include_likelihood)\u001b[0m\n\u001b[1;32m    310\u001b[0m \u001b[39m\u001b[39m\u001b[39m\"\"\"\u001b[39;00m\n\u001b[1;32m    311\u001b[0m \u001b[39mPredict the function(s) at the new point(s) Xnew. This includes the\u001b[39;00m\n\u001b[1;32m    312\u001b[0m \u001b[39mlikelihood variance added to the predicted underlying function\u001b[39;00m\n\u001b[0;32m   (...)\u001b[0m\n\u001b[1;32m    342\u001b[0m \u001b[39minterval) use :py:func:`~GPy.core.gp.GP.predict_quantiles`.\u001b[39;00m\n\u001b[1;32m    343\u001b[0m \u001b[39m\"\"\"\u001b[39;00m\n\u001b[1;32m    345\u001b[0m \u001b[39m# Predict the latent function values\u001b[39;00m\n\u001b[0;32m--> 346\u001b[0m mean, var \u001b[39m=\u001b[39m \u001b[39mself\u001b[39;49m\u001b[39m.\u001b[39;49m_raw_predict(Xnew, full_cov\u001b[39m=\u001b[39;49mfull_cov, kern\u001b[39m=\u001b[39;49mkern)\n\u001b[1;32m    348\u001b[0m \u001b[39mif\u001b[39;00m include_likelihood:\n\u001b[1;32m    349\u001b[0m     \u001b[39m# now push through likelihood\u001b[39;00m\n\u001b[1;32m    350\u001b[0m     \u001b[39mif\u001b[39;00m likelihood \u001b[39mis\u001b[39;00m \u001b[39mNone\u001b[39;00m:\n",
      "File \u001b[0;32m~/.conda/envs/tf2/lib/python3.9/site-packages/GPy/core/gp.py:303\u001b[0m, in \u001b[0;36mGP._raw_predict\u001b[0;34m(self, Xnew, full_cov, kern)\u001b[0m\n\u001b[1;32m    290\u001b[0m \u001b[39mdef\u001b[39;00m \u001b[39m_raw_predict\u001b[39m(\u001b[39mself\u001b[39m, Xnew, full_cov\u001b[39m=\u001b[39m\u001b[39mFalse\u001b[39;00m, kern\u001b[39m=\u001b[39m\u001b[39mNone\u001b[39;00m):\n\u001b[1;32m    291\u001b[0m \u001b[39m    \u001b[39m\u001b[39m\"\"\"\u001b[39;00m\n\u001b[1;32m    292\u001b[0m \u001b[39m    For making predictions, does not account for normalization or likelihood\u001b[39;00m\n\u001b[1;32m    293\u001b[0m \n\u001b[0;32m   (...)\u001b[0m\n\u001b[1;32m    301\u001b[0m \u001b[39m        \\Sigma := \\texttt{Likelihood.variance / Approximate likelihood covariance}\u001b[39;00m\n\u001b[1;32m    302\u001b[0m \u001b[39m    \"\"\"\u001b[39;00m\n\u001b[0;32m--> 303\u001b[0m     mu, var \u001b[39m=\u001b[39m \u001b[39mself\u001b[39;49m\u001b[39m.\u001b[39;49mposterior\u001b[39m.\u001b[39;49m_raw_predict(kern\u001b[39m=\u001b[39;49m\u001b[39mself\u001b[39;49m\u001b[39m.\u001b[39;49mkern \u001b[39mif\u001b[39;49;00m kern \u001b[39mis\u001b[39;49;00m \u001b[39mNone\u001b[39;49;00m \u001b[39melse\u001b[39;49;00m kern, Xnew\u001b[39m=\u001b[39;49mXnew, pred_var\u001b[39m=\u001b[39;49m\u001b[39mself\u001b[39;49m\u001b[39m.\u001b[39;49m_predictive_variable, full_cov\u001b[39m=\u001b[39;49mfull_cov)\n\u001b[1;32m    304\u001b[0m     \u001b[39mif\u001b[39;00m \u001b[39mself\u001b[39m\u001b[39m.\u001b[39mmean_function \u001b[39mis\u001b[39;00m \u001b[39mnot\u001b[39;00m \u001b[39mNone\u001b[39;00m:\n\u001b[1;32m    305\u001b[0m         mu \u001b[39m+\u001b[39m\u001b[39m=\u001b[39m \u001b[39mself\u001b[39m\u001b[39m.\u001b[39mmean_function\u001b[39m.\u001b[39mf(Xnew)\n",
      "File \u001b[0;32m~/.conda/envs/tf2/lib/python3.9/site-packages/GPy/inference/latent_function_inference/posterior.py:276\u001b[0m, in \u001b[0;36mPosteriorExact._raw_predict\u001b[0;34m(self, kern, Xnew, pred_var, full_cov)\u001b[0m\n\u001b[1;32m    274\u001b[0m \u001b[39mdef\u001b[39;00m \u001b[39m_raw_predict\u001b[39m(\u001b[39mself\u001b[39m, kern, Xnew, pred_var, full_cov\u001b[39m=\u001b[39m\u001b[39mFalse\u001b[39;00m):\n\u001b[0;32m--> 276\u001b[0m     Kx \u001b[39m=\u001b[39m kern\u001b[39m.\u001b[39;49mK(pred_var, Xnew)\n\u001b[1;32m    277\u001b[0m     mu \u001b[39m=\u001b[39m np\u001b[39m.\u001b[39mdot(Kx\u001b[39m.\u001b[39mT, \u001b[39mself\u001b[39m\u001b[39m.\u001b[39mwoodbury_vector)\n\u001b[1;32m    278\u001b[0m     \u001b[39mif\u001b[39;00m \u001b[39mlen\u001b[39m(mu\u001b[39m.\u001b[39mshape) \u001b[39m==\u001b[39m \u001b[39m1\u001b[39m:\n",
      "File \u001b[0;32m~/.conda/envs/tf2/lib/python3.9/site-packages/GPy/kern/src/kernel_slice_operations.py:117\u001b[0m, in \u001b[0;36m_slice_K.<locals>.wrap\u001b[0;34m(self, X, X2, *a, **kw)\u001b[0m\n\u001b[1;32m    115\u001b[0m \u001b[39m@wraps\u001b[39m(f)\n\u001b[1;32m    116\u001b[0m \u001b[39mdef\u001b[39;00m \u001b[39mwrap\u001b[39m(\u001b[39mself\u001b[39m, X, X2 \u001b[39m=\u001b[39m \u001b[39mNone\u001b[39;00m, \u001b[39m*\u001b[39ma, \u001b[39m*\u001b[39m\u001b[39m*\u001b[39mkw):\n\u001b[0;32m--> 117\u001b[0m     \u001b[39mwith\u001b[39;00m _Slice_wrap(\u001b[39mself\u001b[39;49m, X, X2) \u001b[39mas\u001b[39;00m s:\n\u001b[1;32m    118\u001b[0m         ret \u001b[39m=\u001b[39m f(\u001b[39mself\u001b[39m, s\u001b[39m.\u001b[39mX, s\u001b[39m.\u001b[39mX2, \u001b[39m*\u001b[39ma, \u001b[39m*\u001b[39m\u001b[39m*\u001b[39mkw)\n\u001b[1;32m    119\u001b[0m     \u001b[39mreturn\u001b[39;00m ret\n",
      "File \u001b[0;32m~/.conda/envs/tf2/lib/python3.9/site-packages/GPy/kern/src/kernel_slice_operations.py:73\u001b[0m, in \u001b[0;36m_Slice_wrap.__init__\u001b[0;34m(self, k, X, X2, diag, ret_shape)\u001b[0m\n\u001b[1;32m     71\u001b[0m     \u001b[39mself\u001b[39m\u001b[39m.\u001b[39mk\u001b[39m.\u001b[39m_check_active_dims(X)\n\u001b[1;32m     72\u001b[0m     \u001b[39mself\u001b[39m\u001b[39m.\u001b[39mX \u001b[39m=\u001b[39m \u001b[39mself\u001b[39m\u001b[39m.\u001b[39mk\u001b[39m.\u001b[39m_slice_X(X)\n\u001b[0;32m---> 73\u001b[0m     \u001b[39mself\u001b[39m\u001b[39m.\u001b[39mX2 \u001b[39m=\u001b[39m \u001b[39mself\u001b[39;49m\u001b[39m.\u001b[39;49mk\u001b[39m.\u001b[39;49m_slice_X(X2) \u001b[39mif\u001b[39;00m X2 \u001b[39mis\u001b[39;00m \u001b[39mnot\u001b[39;00m \u001b[39mNone\u001b[39;00m \u001b[39melse\u001b[39;00m X2\n\u001b[1;32m     74\u001b[0m     \u001b[39mself\u001b[39m\u001b[39m.\u001b[39mret \u001b[39m=\u001b[39m \u001b[39mTrue\u001b[39;00m\n\u001b[1;32m     75\u001b[0m \u001b[39melse\u001b[39;00m:\n",
      "File \u001b[0;32m~/.conda/envs/tf2/lib/python3.9/site-packages/decorator.py:232\u001b[0m, in \u001b[0;36mdecorate.<locals>.fun\u001b[0;34m(*args, **kw)\u001b[0m\n\u001b[1;32m    230\u001b[0m \u001b[39mif\u001b[39;00m \u001b[39mnot\u001b[39;00m kwsyntax:\n\u001b[1;32m    231\u001b[0m     args, kw \u001b[39m=\u001b[39m fix(args, kw, sig)\n\u001b[0;32m--> 232\u001b[0m \u001b[39mreturn\u001b[39;00m caller(func, \u001b[39m*\u001b[39;49m(extras \u001b[39m+\u001b[39;49m args), \u001b[39m*\u001b[39;49m\u001b[39m*\u001b[39;49mkw)\n",
      "File \u001b[0;32m~/.conda/envs/tf2/lib/python3.9/site-packages/paramz/caching.py:283\u001b[0m, in \u001b[0;36mCache_this.__call__.<locals>.g\u001b[0;34m(obj, *args, **kw)\u001b[0m\n\u001b[1;32m    281\u001b[0m \u001b[39melse\u001b[39;00m:\n\u001b[1;32m    282\u001b[0m     cacher \u001b[39m=\u001b[39m cache[\u001b[39mself\u001b[39m\u001b[39m.\u001b[39mf] \u001b[39m=\u001b[39m Cacher(\u001b[39mself\u001b[39m\u001b[39m.\u001b[39mf, \u001b[39mself\u001b[39m\u001b[39m.\u001b[39mlimit, \u001b[39mself\u001b[39m\u001b[39m.\u001b[39mignore_args, \u001b[39mself\u001b[39m\u001b[39m.\u001b[39mforce_kwargs, cacher_enabled\u001b[39m=\u001b[39mcache\u001b[39m.\u001b[39mcaching_enabled)\n\u001b[0;32m--> 283\u001b[0m \u001b[39mreturn\u001b[39;00m cacher(\u001b[39m*\u001b[39;49margs, \u001b[39m*\u001b[39;49m\u001b[39m*\u001b[39;49mkw)\n",
      "File \u001b[0;32m~/.conda/envs/tf2/lib/python3.9/site-packages/paramz/caching.py:172\u001b[0m, in \u001b[0;36mCacher.__call__\u001b[0;34m(self, *args, **kw)\u001b[0m\n\u001b[1;32m    168\u001b[0m         \u001b[39m# 2: if anything is not cachable, we will just return the operation, without caching\u001b[39;00m\n\u001b[1;32m    169\u001b[0m         \u001b[39mif\u001b[39;00m reduce(\u001b[39mlambda\u001b[39;00m a, b: a \u001b[39mor\u001b[39;00m (\u001b[39mnot\u001b[39;00m (\u001b[39misinstance\u001b[39m(b, Observable) \u001b[39mor\u001b[39;00m b \u001b[39mis\u001b[39;00m \u001b[39mNone\u001b[39;00m \u001b[39mor\u001b[39;00m \u001b[39misinstance\u001b[39m(b, Number) \u001b[39mor\u001b[39;00m \u001b[39misinstance\u001b[39m(b, \u001b[39mstr\u001b[39m))), inputs, \u001b[39mFalse\u001b[39;00m):\n\u001b[1;32m    170\u001b[0m \u001b[39m#             print 'WARNING: '+self.operation.__name__ + ' not cacheable!'\u001b[39;00m\n\u001b[1;32m    171\u001b[0m \u001b[39m#             print [not (isinstance(b, Observable)) for b in inputs]\u001b[39;00m\n\u001b[0;32m--> 172\u001b[0m             \u001b[39mreturn\u001b[39;00m \u001b[39mself\u001b[39;49m\u001b[39m.\u001b[39;49moperation(\u001b[39m*\u001b[39;49margs, \u001b[39m*\u001b[39;49m\u001b[39m*\u001b[39;49mkw)\n\u001b[1;32m    173\u001b[0m         \u001b[39m# 3&4: check whether this cache_id has been cached, then has it changed?\u001b[39;00m\n\u001b[1;32m    174\u001b[0m         not_seen \u001b[39m=\u001b[39m \u001b[39mnot\u001b[39;00m(cache_id \u001b[39min\u001b[39;00m \u001b[39mself\u001b[39m\u001b[39m.\u001b[39minputs_changed)\n",
      "File \u001b[0;32m~/.conda/envs/tf2/lib/python3.9/site-packages/GPy/kern/src/kern.py:117\u001b[0m, in \u001b[0;36mKern._slice_X\u001b[0;34m(self, X)\u001b[0m\n\u001b[1;32m    115\u001b[0m     \u001b[39mreturn\u001b[39;00m X[:, \u001b[39mself\u001b[39m\u001b[39m.\u001b[39m_all_dims_active]\u001b[39m.\u001b[39mastype(\u001b[39m'\u001b[39m\u001b[39mfloat\u001b[39m\u001b[39m'\u001b[39m)\n\u001b[1;32m    116\u001b[0m \u001b[39mexcept\u001b[39;00m:\n\u001b[0;32m--> 117\u001b[0m     \u001b[39mreturn\u001b[39;00m X[:, \u001b[39mself\u001b[39;49m\u001b[39m.\u001b[39;49m_all_dims_active]\n",
      "\u001b[0;31mIndexError\u001b[0m: index 3000 is out of bounds for axis 1 with size 3000"
     ]
    }
   ],
   "source": [
    "m.predict(X_test)"
   ]
  },
  {
   "cell_type": "code",
   "execution_count": null,
   "metadata": {},
   "outputs": [],
   "source": []
  }
 ],
 "metadata": {
  "kernelspec": {
   "display_name": "torch",
   "language": "python",
   "name": "python3"
  },
  "language_info": {
   "codemirror_mode": {
    "name": "ipython",
    "version": 3
   },
   "file_extension": ".py",
   "mimetype": "text/x-python",
   "name": "python",
   "nbconvert_exporter": "python",
   "pygments_lexer": "ipython3",
   "version": "3.9.18"
  }
 },
 "nbformat": 4,
 "nbformat_minor": 2
}
