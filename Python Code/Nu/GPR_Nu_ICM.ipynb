{
 "cells": [
  {
   "cell_type": "code",
   "execution_count": 1,
   "metadata": {},
   "outputs": [],
   "source": [
    "import numpy as np\n",
    "import matplotlib.pyplot as plt\n",
    "import os\n",
    "from sklearn.preprocessing import StandardScaler\n",
    "\n",
    "\n",
    "import GPy"
   ]
  },
  {
   "cell_type": "code",
   "execution_count": 2,
   "metadata": {},
   "outputs": [],
   "source": [
    "os.chdir('/home/saumya/Documents/Spec_data/Temp_Nu')"
   ]
  },
  {
   "cell_type": "code",
   "execution_count": 3,
   "metadata": {},
   "outputs": [],
   "source": [
    "x_dat = np.load('abs_Nu_10000.npy').astype(np.half)\n",
    "\n",
    "# x_dat_ss = x_dat\n",
    "x_dat_t = StandardScaler().fit(x_dat)\n",
    "\n",
    "x_dat_ss = x_dat_t.transform(x_dat)\n",
    "\n",
    "# x_dat = np.reshape(x_dat, -1)[:, None]"
   ]
  },
  {
   "cell_type": "code",
   "execution_count": 4,
   "metadata": {},
   "outputs": [
    {
     "data": {
      "text/plain": [
       "(10000, 3000)"
      ]
     },
     "execution_count": 4,
     "metadata": {},
     "output_type": "execute_result"
    }
   ],
   "source": [
    "x_dat.shape"
   ]
  },
  {
   "cell_type": "code",
   "execution_count": 5,
   "metadata": {},
   "outputs": [],
   "source": [
    "y_dat = np.load('/home/saumya/Documents/Spec_data/profiles/Temp_profile_10000.npy').astype(np.half)\n",
    "\n",
    "\n",
    "# y_dat_ss = y_dat\n",
    "y_dat_t = StandardScaler().fit(y_dat)\n",
    "\n",
    "y_dat_ss = y_dat_t.transform(y_dat)\n",
    "# y_dat = np.reshape(y_dat, -1)[:, None]"
   ]
  },
  {
   "cell_type": "code",
   "execution_count": 6,
   "metadata": {},
   "outputs": [
    {
     "data": {
      "text/plain": [
       "[<matplotlib.lines.Line2D at 0x7a40c1ffe9f0>]"
      ]
     },
     "execution_count": 6,
     "metadata": {},
     "output_type": "execute_result"
    },
    {
     "data": {
      "image/png": "[encoded data removed]",
      "text/plain": [
       "<Figure size 640x480 with 1 Axes>"
      ]
     },
     "metadata": {},
     "output_type": "display_data"
    }
   ],
   "source": [
    "plt.plot(y_dat_ss[0])"
   ]
  },
  {
   "cell_type": "code",
   "execution_count": 7,
   "metadata": {},
   "outputs": [],
   "source": [
    "from sklearn.model_selection import train_test_split"
   ]
  },
  {
   "cell_type": "code",
   "execution_count": 8,
   "metadata": {},
   "outputs": [],
   "source": [
    "def train_val_test_split(X, y, val_size):\n",
    "    # test_size = 1 - train_size - val_size\n",
    "    X_train_val, X_test, y_train_val, y_test = train_test_split(X, y, test_size = val_size)\n",
    "    # relative_train_size = train_size / (val_size + train_size)\n",
    "    # X_train, X_val, y_train, y_val = train_test_split(X_train_val, y_train_val,\n",
    "                                                    #   train_size = relative_train_size, test_size = 1-relative_train_size)\n",
    "    return X_train_val, X_test, y_train_val, y_test"
   ]
  },
  {
   "cell_type": "code",
   "execution_count": 9,
   "metadata": {},
   "outputs": [],
   "source": [
    "X_train, X_test, Y_train, Y_test = train_val_test_split(x_dat, y_dat_ss, .2)"
   ]
  },
  {
   "cell_type": "code",
   "execution_count": 10,
   "metadata": {},
   "outputs": [],
   "source": [
    "# LMC set up\n",
    "ks = [GPy.kern.RBF(np.shape(X_train)[1]),GPy.kern.RBF(np.shape(X_train)[1]),GPy.kern.RBF(np.shape(X_train)[1]), GPy.kern.RBF(np.shape(X_train)[1])] \n",
    "icm = GPy.util.multioutput.LCM(input_dim=np.shape(X_train)[1],num_outputs=1,kernels_list=ks)"
   ]
  },
  {
   "cell_type": "code",
   "execution_count": 11,
   "metadata": {},
   "outputs": [
    {
     "name": "stdout",
     "output_type": "stream",
     "text": [
      "  \u001b[1msum.                \u001b[0;0m  |         value  |  constraints  |  priors\n",
      "  \u001b[1mICM0.rbf.variance   \u001b[0;0m  |           1.0  |      +ve      |        \n",
      "  \u001b[1mICM0.rbf.lengthscale\u001b[0;0m  |           1.0  |      +ve      |        \n",
      "  \u001b[1mICM0.B.W            \u001b[0;0m  |  [0.68801731]  |               |        \n",
      "  \u001b[1mICM0.B.kappa        \u001b[0;0m  |           0.5  |      +ve      |        \n",
      "  \u001b[1mICM1.rbf.variance   \u001b[0;0m  |           1.0  |      +ve      |        \n",
      "  \u001b[1mICM1.rbf.lengthscale\u001b[0;0m  |           1.0  |      +ve      |        \n",
      "  \u001b[1mICM1.B.W            \u001b[0;0m  |  [0.01961809]  |               |        \n",
      "  \u001b[1mICM1.B.kappa        \u001b[0;0m  |           0.5  |      +ve      |        \n",
      "  \u001b[1mICM2.rbf.variance   \u001b[0;0m  |           1.0  |      +ve      |        \n",
      "  \u001b[1mICM2.rbf.lengthscale\u001b[0;0m  |           1.0  |      +ve      |        \n",
      "  \u001b[1mICM2.B.W            \u001b[0;0m  |  [0.04133999]  |               |        \n",
      "  \u001b[1mICM2.B.kappa        \u001b[0;0m  |           0.5  |      +ve      |        \n",
      "  \u001b[1mICM3.rbf.variance   \u001b[0;0m  |           1.0  |      +ve      |        \n",
      "  \u001b[1mICM3.rbf.lengthscale\u001b[0;0m  |           1.0  |      +ve      |        \n",
      "  \u001b[1mICM3.B.W            \u001b[0;0m  |   [1.0177351]  |               |        \n",
      "  \u001b[1mICM3.B.kappa        \u001b[0;0m  |           0.5  |      +ve      |        \n"
     ]
    }
   ],
   "source": [
    "print(icm)\n",
    "# "
   ]
  },
  {
   "cell_type": "code",
   "execution_count": 12,
   "metadata": {},
   "outputs": [
    {
     "name": "stdout",
     "output_type": "stream",
     "text": [
      "\n",
      "Name : gp\n",
      "Objective : 2939990.7652458744\n",
      "Number of Parameters : 17\n",
      "Number of Optimization Parameters : 17\n",
      "Updates : True\n",
      "Parameters:\n",
      "  \u001b[1mgp.                                  \u001b[0;0m  |         value  |  constraints  |  priors\n",
      "  \u001b[1msum.ICM0.rbf.variance                \u001b[0;0m  |           1.0  |      +ve      |        \n",
      "  \u001b[1msum.ICM0.rbf.lengthscale             \u001b[0;0m  |           1.0  |      +ve      |        \n",
      "  \u001b[1msum.ICM0.B.W                         \u001b[0;0m  |  [0.68801731]  |               |        \n",
      "  \u001b[1msum.ICM0.B.kappa                     \u001b[0;0m  |           0.5  |      +ve      |        \n",
      "  \u001b[1msum.ICM1.rbf.variance                \u001b[0;0m  |           1.0  |      +ve      |        \n",
      "  \u001b[1msum.ICM1.rbf.lengthscale             \u001b[0;0m  |           1.0  |      +ve      |        \n",
      "  \u001b[1msum.ICM1.B.W                         \u001b[0;0m  |  [0.01961809]  |               |        \n",
      "  \u001b[1msum.ICM1.B.kappa                     \u001b[0;0m  |           0.5  |      +ve      |        \n",
      "  \u001b[1msum.ICM2.rbf.variance                \u001b[0;0m  |           1.0  |      +ve      |        \n",
      "  \u001b[1msum.ICM2.rbf.lengthscale             \u001b[0;0m  |           1.0  |      +ve      |        \n",
      "  \u001b[1msum.ICM2.B.W                         \u001b[0;0m  |  [0.04133999]  |               |        \n",
      "  \u001b[1msum.ICM2.B.kappa                     \u001b[0;0m  |           0.5  |      +ve      |        \n",
      "  \u001b[1msum.ICM3.rbf.variance                \u001b[0;0m  |           1.0  |      +ve      |        \n",
      "  \u001b[1msum.ICM3.rbf.lengthscale             \u001b[0;0m  |           1.0  |      +ve      |        \n",
      "  \u001b[1msum.ICM3.B.W                         \u001b[0;0m  |   [1.0177351]  |               |        \n",
      "  \u001b[1msum.ICM3.B.kappa                     \u001b[0;0m  |           0.5  |      +ve      |        \n",
      "  \u001b[1mmixed_noise.Gaussian_noise_0.variance\u001b[0;0m  |           1.0  |      +ve      |        \n"
     ]
    }
   ],
   "source": [
    "m = GPy.models.GPCoregionalizedRegression([X_train],[Y_train],kernel=icm)\n",
    "# m['.*rbf.var'].constrain_fixed(1.)\n",
    "\n",
    "\n",
    "# m['.*ICM.*var'].unconstrain()\n",
    "# m['.*ICM0.*var'].constrain_fixed(1.)\n",
    "# m['.*ICM0.*W'].constrain_fixed(0)\n",
    "# m['.*ICM1.*var'].constrain_fixed(1.)\n",
    "# m['.*ICM1.*W'].constrain_fixed(0)\n",
    "\n",
    "\n",
    "# constrain if converge to reasonless extrema\n",
    "# m['mixed_noise.Gaussian_noise_0.variance'].constrain_bounded(0,1e-5)\n",
    "# m['mixed_noise.Gaussian_noise_1. variance'].constrain_bounded(0,1e-5)\n",
    "# m['mixed_noise.Gaussian_noise_2.variance'].constrain_bounded(0,1e-5)\n",
    "print(m)"
   ]
  },
  {
   "cell_type": "code",
   "execution_count": 13,
   "metadata": {},
   "outputs": [],
   "source": [
    "# print('W matrix\\n',icm.B.W)\n",
    "# print('\\nkappa vector\\n',icm.B.kappa)"
   ]
  },
  {
   "cell_type": "code",
   "execution_count": 14,
   "metadata": {},
   "outputs": [
    {
     "data": {
      "text/plain": [
       "<paramz.optimization.optimization.opt_lbfgsb at 0x7a40b80510a0>"
      ]
     },
     "execution_count": 14,
     "metadata": {},
     "output_type": "execute_result"
    }
   ],
   "source": [
    "m.optimize()"
   ]
  },
  {
   "cell_type": "code",
   "execution_count": 15,
   "metadata": {},
   "outputs": [
    {
     "name": "stdout",
     "output_type": "stream",
     "text": [
      "\n",
      "Name : gp\n",
      "Objective : 2760010.4958536597\n",
      "Number of Parameters : 17\n",
      "Number of Optimization Parameters : 17\n",
      "Updates : True\n",
      "Parameters:\n",
      "  \u001b[1mgp.                                  \u001b[0;0m  |                value  |  constraints  |  priors\n",
      "  \u001b[1msum.ICM0.rbf.variance                \u001b[0;0m  |   17.561214945263302  |      +ve      |        \n",
      "  \u001b[1msum.ICM0.rbf.lengthscale             \u001b[0;0m  |    32.69707983872184  |      +ve      |        \n",
      "  \u001b[1msum.ICM0.B.W                         \u001b[0;0m  |        [19.09217059]  |               |        \n",
      "  \u001b[1msum.ICM0.B.kappa                     \u001b[0;0m  |   2.0153316184081995  |      +ve      |        \n",
      "  \u001b[1msum.ICM1.rbf.variance                \u001b[0;0m  |    1.787183289071728  |      +ve      |        \n",
      "  \u001b[1msum.ICM1.rbf.lengthscale             \u001b[0;0m  |    15.28936381098059  |      +ve      |        \n",
      "  \u001b[1msum.ICM1.B.W                         \u001b[0;0m  |         [0.06582882]  |               |        \n",
      "  \u001b[1msum.ICM1.B.kappa                     \u001b[0;0m  |   1.2393308968114098  |      +ve      |        \n",
      "  \u001b[1msum.ICM2.rbf.variance                \u001b[0;0m  |   1.7158343640215499  |      +ve      |        \n",
      "  \u001b[1msum.ICM2.rbf.lengthscale             \u001b[0;0m  |   18.151063377740012  |      +ve      |        \n",
      "  \u001b[1msum.ICM2.B.W                         \u001b[0;0m  |         [0.06415935]  |               |        \n",
      "  \u001b[1msum.ICM2.B.kappa                     \u001b[0;0m  |   1.1804101513147995  |      +ve      |        \n",
      "  \u001b[1msum.ICM3.rbf.variance                \u001b[0;0m  |   15.035747638463224  |      +ve      |        \n",
      "  \u001b[1msum.ICM3.rbf.lengthscale             \u001b[0;0m  |  0.08561890005264192  |      +ve      |        \n",
      "  \u001b[1msum.ICM3.B.W                         \u001b[0;0m  |        [21.47046275]  |               |        \n",
      "  \u001b[1msum.ICM3.B.kappa                     \u001b[0;0m  |   2.0672664940866925  |      +ve      |        \n",
      "  \u001b[1mmixed_noise.Gaussian_noise_0.variance\u001b[0;0m  |   0.5606135760855654  |      +ve      |        \n"
     ]
    }
   ],
   "source": [
    "print(m)\n",
    "# print('W matrix\\n',icm.B.W)  \n",
    "\n",
    "# print('\\nkappa vector\\n',icm.B.kappa)\n",
    "# print('\\nB matrix\\n',icm.B.B)"
   ]
  },
  {
   "cell_type": "code",
   "execution_count": 16,
   "metadata": {},
   "outputs": [],
   "source": [
    "newX = X_test\n",
    "newX = np.concatenate((newX,np.zeros((np.shape(X_test)[0],1))),1)\n",
    "noise_dict = {'output_index':newX[:,-1].astype(int)}\n",
    "ys,var=m.predict(newX,Y_metadata=noise_dict)\n",
    "\n",
    "# Temper_test_=scalerT.inverse_transform(ys)\n"
   ]
  },
  {
   "cell_type": "code",
   "execution_count": 17,
   "metadata": {
    "scrolled": true
   },
   "outputs": [
    {
     "data": {
      "text/plain": [
       "array([[-0.56438965, -0.56473293, -0.56497536, ..., -0.56768798,\n",
       "        -0.56712959, -0.56640607],\n",
       "       [ 0.67206944,  0.67207911,  0.67186828, ...,  0.75006205,\n",
       "         0.74982785,  0.74938392],\n",
       "       [-0.40835729, -0.41019038, -0.41206254, ..., -0.62339216,\n",
       "        -0.62102237, -0.61793875],\n",
       "       ...,\n",
       "       [ 0.19584599,  0.196255  ,  0.19692339, ...,  0.08314952,\n",
       "         0.08287438,  0.0826418 ],\n",
       "       [-0.47491802, -0.47653129, -0.4776976 , ..., -0.53611381,\n",
       "        -0.53494224, -0.53369029],\n",
       "       [-0.06750516, -0.0683034 , -0.06930445, ...,  0.17535321,\n",
       "         0.17638366,  0.17740443]])"
      ]
     },
     "execution_count": 17,
     "metadata": {},
     "output_type": "execute_result"
    }
   ],
   "source": [
    "ys"
   ]
  },
  {
   "cell_type": "code",
   "execution_count": 22,
   "metadata": {},
   "outputs": [
    {
     "data": {
      "text/plain": [
       "[<matplotlib.lines.Line2D at 0x7a40b2bfe180>]"
      ]
     },
     "execution_count": 22,
     "metadata": {},
     "output_type": "execute_result"
    },
    {
     "data": {
      "image/png": "[encoded data removed]",
      "text/plain": [
       "<Figure size 640x480 with 1 Axes>"
      ]
     },
     "metadata": {},
     "output_type": "display_data"
    }
   ],
   "source": [
    "plt.plot(ys[10])\n",
    "plt.plot(Y_test[10])"
   ]
  },
  {
   "cell_type": "code",
   "execution_count": 19,
   "metadata": {},
   "outputs": [
    {
     "data": {
      "text/plain": [
       "array([[-0.56438965, -0.56473293, -0.56497536, ..., -0.56768798,\n",
       "        -0.56712959, -0.56640607],\n",
       "       [ 0.67206944,  0.67207911,  0.67186828, ...,  0.75006205,\n",
       "         0.74982785,  0.74938392],\n",
       "       [-0.40835729, -0.41019038, -0.41206254, ..., -0.62339216,\n",
       "        -0.62102237, -0.61793875],\n",
       "       ...,\n",
       "       [ 0.19584599,  0.196255  ,  0.19692339, ...,  0.08314952,\n",
       "         0.08287438,  0.0826418 ],\n",
       "       [-0.47491802, -0.47653129, -0.4776976 , ..., -0.53611381,\n",
       "        -0.53494224, -0.53369029],\n",
       "       [-0.06750516, -0.0683034 , -0.06930445, ...,  0.17535321,\n",
       "         0.17638366,  0.17740443]])"
      ]
     },
     "execution_count": 19,
     "metadata": {},
     "output_type": "execute_result"
    }
   ],
   "source": [
    "ys"
   ]
  },
  {
   "cell_type": "code",
   "execution_count": 20,
   "metadata": {},
   "outputs": [],
   "source": [
    "from sklearn import metrics"
   ]
  },
  {
   "cell_type": "code",
   "execution_count": 21,
   "metadata": {},
   "outputs": [
    {
     "name": "stdout",
     "output_type": "stream",
     "text": [
      "The mean squared error between the real and predicted values are: 57.82124180365671%\n"
     ]
    }
   ],
   "source": [
    "conc_1 = metrics.mean_squared_error(np.array(ys), np.array(Y_test))\n",
    "print(f'The mean squared error between the real and predicted values are: {conc_1*100}%')"
   ]
  },
  {
   "cell_type": "code",
   "execution_count": null,
   "metadata": {},
   "outputs": [],
   "source": []
  }
 ],
 "metadata": {
  "kernelspec": {
   "display_name": "Python 3 (ipykernel)",
   "language": "python",
   "name": "python3"
  },
  "language_info": {
   "codemirror_mode": {
    "name": "ipython",
    "version": 3
   },
   "file_extension": ".py",
   "mimetype": "text/x-python",
   "name": "python",
   "nbconvert_exporter": "python",
   "pygments_lexer": "ipython3",
   "version": "3.12.2"
  }
 },
 "nbformat": 4,
 "nbformat_minor": 4
}
