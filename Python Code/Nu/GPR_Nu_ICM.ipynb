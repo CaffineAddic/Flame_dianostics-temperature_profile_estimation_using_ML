{
 "cells": [
  {
   "cell_type": "code",
   "execution_count": 8,
   "metadata": {},
   "outputs": [],
   "source": [
    "import numpy as np\n",
    "import matplotlib.pyplot as plt\n",
    "import os\n",
    "\n",
    "import GPy"
   ]
  },
  {
   "cell_type": "code",
   "execution_count": 9,
   "metadata": {},
   "outputs": [],
   "source": [
    "os.chdir('/home/saumya/Documents/Spec_data/Temp_Nu/')"
   ]
  },
  {
   "cell_type": "code",
   "execution_count": 10,
   "metadata": {},
   "outputs": [],
   "source": [
    "x_dat = np.load('abs_Nu.npy').astype(np.half)\n",
    "# x_dat = np.reshape(x_dat, -1)[:, None]"
   ]
  },
  {
   "cell_type": "code",
   "execution_count": 11,
   "metadata": {},
   "outputs": [
    {
     "data": {
      "text/plain": [
       "(10000, 3000)"
      ]
     },
     "execution_count": 11,
     "metadata": {},
     "output_type": "execute_result"
    }
   ],
   "source": [
    "x_dat.shape"
   ]
  },
  {
   "cell_type": "code",
   "execution_count": 12,
   "metadata": {},
   "outputs": [],
   "source": [
    "y_dat = np.load('/home/saumya/Documents/Spec_data/profiles/Temp_profile.npy').astype(np.half)\n",
    "\n",
    "# y_dat = np.reshape(y_dat, -1)[:, None]"
   ]
  },
  {
   "cell_type": "code",
   "execution_count": 13,
   "metadata": {},
   "outputs": [
    {
     "data": {
      "text/plain": [
       "(10000, 300)"
      ]
     },
     "execution_count": 13,
     "metadata": {},
     "output_type": "execute_result"
    }
   ],
   "source": [
    "y_dat.shape"
   ]
  },
  {
   "cell_type": "code",
   "execution_count": 14,
   "metadata": {},
   "outputs": [],
   "source": [
    "from sklearn.model_selection import train_test_split"
   ]
  },
  {
   "cell_type": "code",
   "execution_count": 15,
   "metadata": {},
   "outputs": [],
   "source": [
    "def train_val_test_split(X, y, val_size):\n",
    "    # test_size = 1 - train_size - val_size\n",
    "    X_train_val, X_test, y_train_val, y_test = train_test_split(X, y, test_size = val_size)\n",
    "    # relative_train_size = train_size / (val_size + train_size)\n",
    "    # X_train, X_val, y_train, y_val = train_test_split(X_train_val, y_train_val,\n",
    "                                                    #   train_size = relative_train_size, test_size = 1-relative_train_size)\n",
    "    return X_train_val, X_test, y_train_val, y_test"
   ]
  },
  {
   "cell_type": "code",
   "execution_count": 16,
   "metadata": {},
   "outputs": [],
   "source": [
    "X_train, X_test, Y_train, Y_test = train_val_test_split(x_dat, y_dat, .2)"
   ]
  },
  {
   "cell_type": "code",
   "execution_count": 17,
   "metadata": {},
   "outputs": [
    {
     "data": {
      "text/plain": [
       "[<matplotlib.lines.Line2D at 0x7fe3509333d0>]"
      ]
     },
     "execution_count": 17,
     "metadata": {},
     "output_type": "execute_result"
    },
    {
     "data": {
      "image/png": "[encoded data removed]",
      "text/plain": [
       "<Figure size 640x480 with 1 Axes>"
      ]
     },
     "metadata": {},
     "output_type": "display_data"
    }
   ],
   "source": [
    "plt.plot(x_dat[50])"
   ]
  },
  {
   "cell_type": "code",
   "execution_count": 19,
   "metadata": {},
   "outputs": [],
   "source": [
    "# ICM model set up\n",
    "ks = GPy.kern.RBF(np.shape(X_train)[1])\n",
    "icm = GPy.util.multioutput.ICM(input_dim=np.shape(X_train)[1],num_outputs=1,kernel=ks)"
   ]
  },
  {
   "cell_type": "code",
   "execution_count": 20,
   "metadata": {},
   "outputs": [
    {
     "name": "stdout",
     "output_type": "stream",
     "text": [
      "  \u001b[1mICM.           \u001b[0;0m  |         value  |  constraints  |  priors\n",
      "  \u001b[1mrbf.variance   \u001b[0;0m  |           1.0  |      +ve      |        \n",
      "  \u001b[1mrbf.lengthscale\u001b[0;0m  |           1.0  |      +ve      |        \n",
      "  \u001b[1mB.W            \u001b[0;0m  |  [0.00031816]  |               |        \n",
      "  \u001b[1mB.kappa        \u001b[0;0m  |           0.5  |      +ve      |        \n",
      "W matrix\n",
      "   \u001b[1mindex\u001b[0;0m  |        ICM.B.W  |  constraints  |  priors\n",
      "  \u001b[1m[0 0]\u001b[0;0m  |     0.00031816  |               |        \n",
      "\n",
      "kappa vector\n",
      "   \u001b[1mindex\u001b[0;0m  |  ICM.B.kappa  |  constraints  |  priors\n",
      "  \u001b[1m[0]  \u001b[0;0m  |   0.50000000  |      +ve      |        \n",
      "\n",
      "B matrix\n",
      " [[0.5000001]]\n"
     ]
    }
   ],
   "source": [
    "print(icm)\n",
    "print('W matrix\\n',icm.B.W)\n",
    "print('\\nkappa vector\\n',icm.B.kappa)\n",
    "print('\\nB matrix\\n',icm.B.B)"
   ]
  },
  {
   "cell_type": "code",
   "execution_count": 21,
   "metadata": {},
   "outputs": [
    {
     "name": "stdout",
     "output_type": "stream",
     "text": [
      "\n",
      "Name : gp\n",
      "Objective : 37709251750.15136\n",
      "Number of Parameters : 5\n",
      "Number of Optimization Parameters : 4\n",
      "Updates : True\n",
      "Parameters:\n",
      "  \u001b[1mgp.                                  \u001b[0;0m  |         value  |  constraints  |  priors\n",
      "  \u001b[1mICM.rbf.variance                     \u001b[0;0m  |           1.0  |   +ve fixed   |        \n",
      "  \u001b[1mICM.rbf.lengthscale                  \u001b[0;0m  |           1.0  |      +ve      |        \n",
      "  \u001b[1mICM.B.W                              \u001b[0;0m  |  [0.00031816]  |               |        \n",
      "  \u001b[1mICM.B.kappa                          \u001b[0;0m  |           0.5  |      +ve      |        \n",
      "  \u001b[1mmixed_noise.Gaussian_noise_0.variance\u001b[0;0m  |           1.0  |      +ve      |        \n"
     ]
    }
   ],
   "source": [
    "m = GPy.models.GPCoregionalizedRegression([X_train],[Y_train],kernel=icm)\n",
    "m['.*rbf.var'].constrain_fixed(1.)\n",
    "# constrain if converge to reasonless extrema\n",
    "# m['mixed_noise.Gaussian_noise_0.variance'].constrain_bounded(0,1e-5)\n",
    "# m['mixed_noise.Gaussian_noise_1.variance'].constrain_bounded(0,1e-5)\n",
    "# m['mixed_noise.Gaussian_noise_2.variance'].constrain_bounded(0,1e-5)\n",
    "print(m)"
   ]
  },
  {
   "cell_type": "code",
   "execution_count": 22,
   "metadata": {},
   "outputs": [
    {
     "name": "stdout",
     "output_type": "stream",
     "text": [
      "W matrix\n",
      "   \u001b[1mindex\u001b[0;0m  |     gp.ICM.B.W  |  constraints  |  priors\n",
      "  \u001b[1m[0 0]\u001b[0;0m  |     0.00031816  |               |        \n",
      "\n",
      "kappa vector\n",
      "   \u001b[1mindex\u001b[0;0m  |  gp.ICM.B.kappa  |  constraints  |  priors\n",
      "  \u001b[1m[0]  \u001b[0;0m  |      0.50000000  |      +ve      |        \n"
     ]
    }
   ],
   "source": [
    "print('W matrix\\n',icm.B.W)\n",
    "print('\\nkappa vector\\n',icm.B.kappa)"
   ]
  },
  {
   "cell_type": "code",
   "execution_count": 23,
   "metadata": {},
   "outputs": [
    {
     "name": "stdout",
     "output_type": "stream",
     "text": [
      "KeyboardInterrupt caught, calling on_optimization_end() to round things up\n"
     ]
    },
    {
     "ename": "KeyboardInterrupt",
     "evalue": "",
     "output_type": "error",
     "traceback": [
      "\u001b[0;31m---------------------------------------------------------------------------\u001b[0m",
      "\u001b[0;31mKeyboardInterrupt\u001b[0m                         Traceback (most recent call last)",
      "\u001b[1;32m/home/saumya/Documents/Flame_dianostics-temperature_profile_estimation_using_ML/Python Code/Nu/GPR_Nu_ICM.ipynb Cell 15\u001b[0m line \u001b[0;36m1\n\u001b[0;32m----> <a href='vscode-notebook-cell:/home/saumya/Documents/Flame_dianostics-temperature_profile_estimation_using_ML/Python%20Code/Nu/GPR_Nu_ICM.ipynb#X20sZmlsZQ%3D%3D?line=0'>1</a>\u001b[0m m\u001b[39m.\u001b[39;49moptimize()\n",
      "File \u001b[0;32m~/.conda/envs/tf2/lib/python3.9/site-packages/GPy/core/gp.py:679\u001b[0m, in \u001b[0;36mGP.optimize\u001b[0;34m(self, optimizer, start, messages, max_iters, ipython_notebook, clear_after_finish, **kwargs)\u001b[0m\n\u001b[1;32m    677\u001b[0m \u001b[39mself\u001b[39m\u001b[39m.\u001b[39minference_method\u001b[39m.\u001b[39mon_optimization_start()\n\u001b[1;32m    678\u001b[0m \u001b[39mtry\u001b[39;00m:\n\u001b[0;32m--> 679\u001b[0m     ret \u001b[39m=\u001b[39m \u001b[39msuper\u001b[39;49m(GP, \u001b[39mself\u001b[39;49m)\u001b[39m.\u001b[39;49moptimize(optimizer, start, messages, max_iters, ipython_notebook, clear_after_finish, \u001b[39m*\u001b[39;49m\u001b[39m*\u001b[39;49mkwargs)\n\u001b[1;32m    680\u001b[0m \u001b[39mexcept\u001b[39;00m \u001b[39mKeyboardInterrupt\u001b[39;00m:\n\u001b[1;32m    681\u001b[0m     \u001b[39mprint\u001b[39m(\u001b[39m\"\u001b[39m\u001b[39mKeyboardInterrupt caught, calling on_optimization_end() to round things up\u001b[39m\u001b[39m\"\u001b[39m)\n",
      "File \u001b[0;32m~/.conda/envs/tf2/lib/python3.9/site-packages/paramz/model.py:111\u001b[0m, in \u001b[0;36mModel.optimize\u001b[0;34m(self, optimizer, start, messages, max_iters, ipython_notebook, clear_after_finish, **kwargs)\u001b[0m\n\u001b[1;32m    108\u001b[0m     opt \u001b[39m=\u001b[39m optimizer(max_iters\u001b[39m=\u001b[39mmax_iters, \u001b[39m*\u001b[39m\u001b[39m*\u001b[39mkwargs)\n\u001b[1;32m    110\u001b[0m \u001b[39mwith\u001b[39;00m VerboseOptimization(\u001b[39mself\u001b[39m, opt, maxiters\u001b[39m=\u001b[39mmax_iters, verbose\u001b[39m=\u001b[39mmessages, ipython_notebook\u001b[39m=\u001b[39mipython_notebook, clear_after_finish\u001b[39m=\u001b[39mclear_after_finish) \u001b[39mas\u001b[39;00m vo:\n\u001b[0;32m--> 111\u001b[0m     opt\u001b[39m.\u001b[39;49mrun(start, f_fp\u001b[39m=\u001b[39;49m\u001b[39mself\u001b[39;49m\u001b[39m.\u001b[39;49m_objective_grads, f\u001b[39m=\u001b[39;49m\u001b[39mself\u001b[39;49m\u001b[39m.\u001b[39;49m_objective, fp\u001b[39m=\u001b[39;49m\u001b[39mself\u001b[39;49m\u001b[39m.\u001b[39;49m_grads)\n\u001b[1;32m    113\u001b[0m \u001b[39mself\u001b[39m\u001b[39m.\u001b[39moptimizer_array \u001b[39m=\u001b[39m opt\u001b[39m.\u001b[39mx_opt\n\u001b[1;32m    115\u001b[0m \u001b[39mself\u001b[39m\u001b[39m.\u001b[39moptimization_runs\u001b[39m.\u001b[39mappend(opt)\n",
      "File \u001b[0;32m~/.conda/envs/tf2/lib/python3.9/site-packages/paramz/optimization/optimization.py:51\u001b[0m, in \u001b[0;36mOptimizer.run\u001b[0;34m(self, x_init, **kwargs)\u001b[0m\n\u001b[1;32m     49\u001b[0m \u001b[39mdef\u001b[39;00m \u001b[39mrun\u001b[39m(\u001b[39mself\u001b[39m, x_init, \u001b[39m*\u001b[39m\u001b[39m*\u001b[39mkwargs):\n\u001b[1;32m     50\u001b[0m     start \u001b[39m=\u001b[39m dt\u001b[39m.\u001b[39mdatetime\u001b[39m.\u001b[39mnow()\n\u001b[0;32m---> 51\u001b[0m     \u001b[39mself\u001b[39;49m\u001b[39m.\u001b[39;49mopt(x_init, \u001b[39m*\u001b[39;49m\u001b[39m*\u001b[39;49mkwargs)\n\u001b[1;32m     52\u001b[0m     end \u001b[39m=\u001b[39m dt\u001b[39m.\u001b[39mdatetime\u001b[39m.\u001b[39mnow()\n\u001b[1;32m     53\u001b[0m     \u001b[39mself\u001b[39m\u001b[39m.\u001b[39mtime \u001b[39m=\u001b[39m \u001b[39mstr\u001b[39m(end \u001b[39m-\u001b[39m start)\n",
      "File \u001b[0;32m~/.conda/envs/tf2/lib/python3.9/site-packages/paramz/optimization/optimization.py:124\u001b[0m, in \u001b[0;36mopt_lbfgsb.opt\u001b[0;34m(self, x_init, f_fp, f, fp)\u001b[0m\n\u001b[1;32m    121\u001b[0m \u001b[39mif\u001b[39;00m \u001b[39mself\u001b[39m\u001b[39m.\u001b[39mbfgs_factor \u001b[39mis\u001b[39;00m \u001b[39mnot\u001b[39;00m \u001b[39mNone\u001b[39;00m:\n\u001b[1;32m    122\u001b[0m     opt_dict[\u001b[39m'\u001b[39m\u001b[39mfactr\u001b[39m\u001b[39m'\u001b[39m] \u001b[39m=\u001b[39m \u001b[39mself\u001b[39m\u001b[39m.\u001b[39mbfgs_factor\n\u001b[0;32m--> 124\u001b[0m opt_result \u001b[39m=\u001b[39m optimize\u001b[39m.\u001b[39;49mfmin_l_bfgs_b(f_fp, x_init, maxfun\u001b[39m=\u001b[39;49m\u001b[39mself\u001b[39;49m\u001b[39m.\u001b[39;49mmax_iters, maxiter\u001b[39m=\u001b[39;49m\u001b[39mself\u001b[39;49m\u001b[39m.\u001b[39;49mmax_iters, \u001b[39m*\u001b[39;49m\u001b[39m*\u001b[39;49mopt_dict)\n\u001b[1;32m    125\u001b[0m \u001b[39mself\u001b[39m\u001b[39m.\u001b[39mx_opt \u001b[39m=\u001b[39m opt_result[\u001b[39m0\u001b[39m]\n\u001b[1;32m    126\u001b[0m \u001b[39mself\u001b[39m\u001b[39m.\u001b[39mf_opt \u001b[39m=\u001b[39m f_fp(\u001b[39mself\u001b[39m\u001b[39m.\u001b[39mx_opt)[\u001b[39m0\u001b[39m]\n",
      "File \u001b[0;32m~/.conda/envs/tf2/lib/python3.9/site-packages/scipy/optimize/_lbfgsb_py.py:199\u001b[0m, in \u001b[0;36mfmin_l_bfgs_b\u001b[0;34m(func, x0, fprime, args, approx_grad, bounds, m, factr, pgtol, epsilon, iprint, maxfun, maxiter, disp, callback, maxls)\u001b[0m\n\u001b[1;32m    187\u001b[0m callback \u001b[39m=\u001b[39m _wrap_callback(callback)\n\u001b[1;32m    188\u001b[0m opts \u001b[39m=\u001b[39m {\u001b[39m'\u001b[39m\u001b[39mdisp\u001b[39m\u001b[39m'\u001b[39m: disp,\n\u001b[1;32m    189\u001b[0m         \u001b[39m'\u001b[39m\u001b[39miprint\u001b[39m\u001b[39m'\u001b[39m: iprint,\n\u001b[1;32m    190\u001b[0m         \u001b[39m'\u001b[39m\u001b[39mmaxcor\u001b[39m\u001b[39m'\u001b[39m: m,\n\u001b[0;32m   (...)\u001b[0m\n\u001b[1;32m    196\u001b[0m         \u001b[39m'\u001b[39m\u001b[39mcallback\u001b[39m\u001b[39m'\u001b[39m: callback,\n\u001b[1;32m    197\u001b[0m         \u001b[39m'\u001b[39m\u001b[39mmaxls\u001b[39m\u001b[39m'\u001b[39m: maxls}\n\u001b[0;32m--> 199\u001b[0m res \u001b[39m=\u001b[39m _minimize_lbfgsb(fun, x0, args\u001b[39m=\u001b[39;49margs, jac\u001b[39m=\u001b[39;49mjac, bounds\u001b[39m=\u001b[39;49mbounds,\n\u001b[1;32m    200\u001b[0m                        \u001b[39m*\u001b[39;49m\u001b[39m*\u001b[39;49mopts)\n\u001b[1;32m    201\u001b[0m d \u001b[39m=\u001b[39m {\u001b[39m'\u001b[39m\u001b[39mgrad\u001b[39m\u001b[39m'\u001b[39m: res[\u001b[39m'\u001b[39m\u001b[39mjac\u001b[39m\u001b[39m'\u001b[39m],\n\u001b[1;32m    202\u001b[0m      \u001b[39m'\u001b[39m\u001b[39mtask\u001b[39m\u001b[39m'\u001b[39m: res[\u001b[39m'\u001b[39m\u001b[39mmessage\u001b[39m\u001b[39m'\u001b[39m],\n\u001b[1;32m    203\u001b[0m      \u001b[39m'\u001b[39m\u001b[39mfuncalls\u001b[39m\u001b[39m'\u001b[39m: res[\u001b[39m'\u001b[39m\u001b[39mnfev\u001b[39m\u001b[39m'\u001b[39m],\n\u001b[1;32m    204\u001b[0m      \u001b[39m'\u001b[39m\u001b[39mnit\u001b[39m\u001b[39m'\u001b[39m: res[\u001b[39m'\u001b[39m\u001b[39mnit\u001b[39m\u001b[39m'\u001b[39m],\n\u001b[1;32m    205\u001b[0m      \u001b[39m'\u001b[39m\u001b[39mwarnflag\u001b[39m\u001b[39m'\u001b[39m: res[\u001b[39m'\u001b[39m\u001b[39mstatus\u001b[39m\u001b[39m'\u001b[39m]}\n\u001b[1;32m    206\u001b[0m f \u001b[39m=\u001b[39m res[\u001b[39m'\u001b[39m\u001b[39mfun\u001b[39m\u001b[39m'\u001b[39m]\n",
      "File \u001b[0;32m~/.conda/envs/tf2/lib/python3.9/site-packages/scipy/optimize/_lbfgsb_py.py:307\u001b[0m, in \u001b[0;36m_minimize_lbfgsb\u001b[0;34m(fun, x0, args, jac, bounds, disp, maxcor, ftol, gtol, eps, maxfun, maxiter, iprint, callback, maxls, finite_diff_rel_step, **unknown_options)\u001b[0m\n\u001b[1;32m    304\u001b[0m     \u001b[39melse\u001b[39;00m:\n\u001b[1;32m    305\u001b[0m         iprint \u001b[39m=\u001b[39m disp\n\u001b[0;32m--> 307\u001b[0m sf \u001b[39m=\u001b[39m _prepare_scalar_function(fun, x0, jac\u001b[39m=\u001b[39;49mjac, args\u001b[39m=\u001b[39;49margs, epsilon\u001b[39m=\u001b[39;49meps,\n\u001b[1;32m    308\u001b[0m                               bounds\u001b[39m=\u001b[39;49mnew_bounds,\n\u001b[1;32m    309\u001b[0m                               finite_diff_rel_step\u001b[39m=\u001b[39;49mfinite_diff_rel_step)\n\u001b[1;32m    311\u001b[0m func_and_grad \u001b[39m=\u001b[39m sf\u001b[39m.\u001b[39mfun_and_grad\n\u001b[1;32m    313\u001b[0m fortran_int \u001b[39m=\u001b[39m _lbfgsb\u001b[39m.\u001b[39mtypes\u001b[39m.\u001b[39mintvar\u001b[39m.\u001b[39mdtype\n",
      "File \u001b[0;32m~/.conda/envs/tf2/lib/python3.9/site-packages/scipy/optimize/_optimize.py:383\u001b[0m, in \u001b[0;36m_prepare_scalar_function\u001b[0;34m(fun, x0, jac, args, bounds, epsilon, finite_diff_rel_step, hess)\u001b[0m\n\u001b[1;32m    379\u001b[0m     bounds \u001b[39m=\u001b[39m (\u001b[39m-\u001b[39mnp\u001b[39m.\u001b[39minf, np\u001b[39m.\u001b[39minf)\n\u001b[1;32m    381\u001b[0m \u001b[39m# ScalarFunction caches. Reuse of fun(x) during grad\u001b[39;00m\n\u001b[1;32m    382\u001b[0m \u001b[39m# calculation reduces overall function evaluations.\u001b[39;00m\n\u001b[0;32m--> 383\u001b[0m sf \u001b[39m=\u001b[39m ScalarFunction(fun, x0, args, grad, hess,\n\u001b[1;32m    384\u001b[0m                     finite_diff_rel_step, bounds, epsilon\u001b[39m=\u001b[39;49mepsilon)\n\u001b[1;32m    386\u001b[0m \u001b[39mreturn\u001b[39;00m sf\n",
      "File \u001b[0;32m~/.conda/envs/tf2/lib/python3.9/site-packages/scipy/optimize/_differentiable_functions.py:158\u001b[0m, in \u001b[0;36mScalarFunction.__init__\u001b[0;34m(self, fun, x0, args, grad, hess, finite_diff_rel_step, finite_diff_bounds, epsilon)\u001b[0m\n\u001b[1;32m    155\u001b[0m     \u001b[39mself\u001b[39m\u001b[39m.\u001b[39mf \u001b[39m=\u001b[39m fun_wrapped(\u001b[39mself\u001b[39m\u001b[39m.\u001b[39mx)\n\u001b[1;32m    157\u001b[0m \u001b[39mself\u001b[39m\u001b[39m.\u001b[39m_update_fun_impl \u001b[39m=\u001b[39m update_fun\n\u001b[0;32m--> 158\u001b[0m \u001b[39mself\u001b[39;49m\u001b[39m.\u001b[39;49m_update_fun()\n\u001b[1;32m    160\u001b[0m \u001b[39m# Gradient evaluation\u001b[39;00m\n\u001b[1;32m    161\u001b[0m \u001b[39mif\u001b[39;00m \u001b[39mcallable\u001b[39m(grad):\n",
      "File \u001b[0;32m~/.conda/envs/tf2/lib/python3.9/site-packages/scipy/optimize/_differentiable_functions.py:251\u001b[0m, in \u001b[0;36mScalarFunction._update_fun\u001b[0;34m(self)\u001b[0m\n\u001b[1;32m    249\u001b[0m \u001b[39mdef\u001b[39;00m \u001b[39m_update_fun\u001b[39m(\u001b[39mself\u001b[39m):\n\u001b[1;32m    250\u001b[0m     \u001b[39mif\u001b[39;00m \u001b[39mnot\u001b[39;00m \u001b[39mself\u001b[39m\u001b[39m.\u001b[39mf_updated:\n\u001b[0;32m--> 251\u001b[0m         \u001b[39mself\u001b[39;49m\u001b[39m.\u001b[39;49m_update_fun_impl()\n\u001b[1;32m    252\u001b[0m         \u001b[39mself\u001b[39m\u001b[39m.\u001b[39mf_updated \u001b[39m=\u001b[39m \u001b[39mTrue\u001b[39;00m\n",
      "File \u001b[0;32m~/.conda/envs/tf2/lib/python3.9/site-packages/scipy/optimize/_differentiable_functions.py:155\u001b[0m, in \u001b[0;36mScalarFunction.__init__.<locals>.update_fun\u001b[0;34m()\u001b[0m\n\u001b[1;32m    154\u001b[0m \u001b[39mdef\u001b[39;00m \u001b[39mupdate_fun\u001b[39m():\n\u001b[0;32m--> 155\u001b[0m     \u001b[39mself\u001b[39m\u001b[39m.\u001b[39mf \u001b[39m=\u001b[39m fun_wrapped(\u001b[39mself\u001b[39;49m\u001b[39m.\u001b[39;49mx)\n",
      "File \u001b[0;32m~/.conda/envs/tf2/lib/python3.9/site-packages/scipy/optimize/_differentiable_functions.py:137\u001b[0m, in \u001b[0;36mScalarFunction.__init__.<locals>.fun_wrapped\u001b[0;34m(x)\u001b[0m\n\u001b[1;32m    133\u001b[0m \u001b[39mself\u001b[39m\u001b[39m.\u001b[39mnfev \u001b[39m+\u001b[39m\u001b[39m=\u001b[39m \u001b[39m1\u001b[39m\n\u001b[1;32m    134\u001b[0m \u001b[39m# Send a copy because the user may overwrite it.\u001b[39;00m\n\u001b[1;32m    135\u001b[0m \u001b[39m# Overwriting results in undefined behaviour because\u001b[39;00m\n\u001b[1;32m    136\u001b[0m \u001b[39m# fun(self.x) will change self.x, with the two no longer linked.\u001b[39;00m\n\u001b[0;32m--> 137\u001b[0m fx \u001b[39m=\u001b[39m fun(np\u001b[39m.\u001b[39;49mcopy(x), \u001b[39m*\u001b[39;49margs)\n\u001b[1;32m    138\u001b[0m \u001b[39m# Make sure the function returns a true scalar\u001b[39;00m\n\u001b[1;32m    139\u001b[0m \u001b[39mif\u001b[39;00m \u001b[39mnot\u001b[39;00m np\u001b[39m.\u001b[39misscalar(fx):\n",
      "File \u001b[0;32m~/.conda/envs/tf2/lib/python3.9/site-packages/scipy/optimize/_optimize.py:77\u001b[0m, in \u001b[0;36mMemoizeJac.__call__\u001b[0;34m(self, x, *args)\u001b[0m\n\u001b[1;32m     75\u001b[0m \u001b[39mdef\u001b[39;00m \u001b[39m__call__\u001b[39m(\u001b[39mself\u001b[39m, x, \u001b[39m*\u001b[39margs):\n\u001b[1;32m     76\u001b[0m \u001b[39m    \u001b[39m\u001b[39m\"\"\" returns the function value \"\"\"\u001b[39;00m\n\u001b[0;32m---> 77\u001b[0m     \u001b[39mself\u001b[39;49m\u001b[39m.\u001b[39;49m_compute_if_needed(x, \u001b[39m*\u001b[39;49margs)\n\u001b[1;32m     78\u001b[0m     \u001b[39mreturn\u001b[39;00m \u001b[39mself\u001b[39m\u001b[39m.\u001b[39m_value\n",
      "File \u001b[0;32m~/.conda/envs/tf2/lib/python3.9/site-packages/scipy/optimize/_optimize.py:71\u001b[0m, in \u001b[0;36mMemoizeJac._compute_if_needed\u001b[0;34m(self, x, *args)\u001b[0m\n\u001b[1;32m     69\u001b[0m \u001b[39mif\u001b[39;00m \u001b[39mnot\u001b[39;00m np\u001b[39m.\u001b[39mall(x \u001b[39m==\u001b[39m \u001b[39mself\u001b[39m\u001b[39m.\u001b[39mx) \u001b[39mor\u001b[39;00m \u001b[39mself\u001b[39m\u001b[39m.\u001b[39m_value \u001b[39mis\u001b[39;00m \u001b[39mNone\u001b[39;00m \u001b[39mor\u001b[39;00m \u001b[39mself\u001b[39m\u001b[39m.\u001b[39mjac \u001b[39mis\u001b[39;00m \u001b[39mNone\u001b[39;00m:\n\u001b[1;32m     70\u001b[0m     \u001b[39mself\u001b[39m\u001b[39m.\u001b[39mx \u001b[39m=\u001b[39m np\u001b[39m.\u001b[39masarray(x)\u001b[39m.\u001b[39mcopy()\n\u001b[0;32m---> 71\u001b[0m     fg \u001b[39m=\u001b[39m \u001b[39mself\u001b[39;49m\u001b[39m.\u001b[39;49mfun(x, \u001b[39m*\u001b[39;49margs)\n\u001b[1;32m     72\u001b[0m     \u001b[39mself\u001b[39m\u001b[39m.\u001b[39mjac \u001b[39m=\u001b[39m fg[\u001b[39m1\u001b[39m]\n\u001b[1;32m     73\u001b[0m     \u001b[39mself\u001b[39m\u001b[39m.\u001b[39m_value \u001b[39m=\u001b[39m fg[\u001b[39m0\u001b[39m]\n",
      "File \u001b[0;32m~/.conda/envs/tf2/lib/python3.9/site-packages/paramz/model.py:273\u001b[0m, in \u001b[0;36mModel._objective_grads\u001b[0;34m(self, x)\u001b[0m\n\u001b[1;32m    271\u001b[0m \u001b[39mdef\u001b[39;00m \u001b[39m_objective_grads\u001b[39m(\u001b[39mself\u001b[39m, x):\n\u001b[1;32m    272\u001b[0m     \u001b[39mtry\u001b[39;00m:\n\u001b[0;32m--> 273\u001b[0m         \u001b[39mself\u001b[39;49m\u001b[39m.\u001b[39;49moptimizer_array \u001b[39m=\u001b[39m x\n\u001b[1;32m    274\u001b[0m         obj_f, \u001b[39mself\u001b[39m\u001b[39m.\u001b[39mobj_grads \u001b[39m=\u001b[39m \u001b[39mself\u001b[39m\u001b[39m.\u001b[39mobjective_function(), \u001b[39mself\u001b[39m\u001b[39m.\u001b[39m_transform_gradients(\u001b[39mself\u001b[39m\u001b[39m.\u001b[39mobjective_function_gradients())\n\u001b[1;32m    275\u001b[0m         \u001b[39mself\u001b[39m\u001b[39m.\u001b[39m_fail_count \u001b[39m=\u001b[39m \u001b[39m0\u001b[39m\n",
      "File \u001b[0;32m~/.conda/envs/tf2/lib/python3.9/site-packages/paramz/parameterized.py:339\u001b[0m, in \u001b[0;36mParameterized.__setattr__\u001b[0;34m(self, name, val)\u001b[0m\n\u001b[1;32m    337\u001b[0m         param \u001b[39m=\u001b[39m \u001b[39mself\u001b[39m\u001b[39m.\u001b[39mparameters[pnames\u001b[39m.\u001b[39mindex(name)]\n\u001b[1;32m    338\u001b[0m         param[:] \u001b[39m=\u001b[39m val; \u001b[39mreturn\u001b[39;00m\n\u001b[0;32m--> 339\u001b[0m \u001b[39mreturn\u001b[39;00m \u001b[39mobject\u001b[39;49m\u001b[39m.\u001b[39;49m\u001b[39m__setattr__\u001b[39;49m(\u001b[39mself\u001b[39;49m, name, val)\n",
      "File \u001b[0;32m~/.conda/envs/tf2/lib/python3.9/site-packages/paramz/core/parameter_core.py:124\u001b[0m, in \u001b[0;36mOptimizationHandlable.optimizer_array\u001b[0;34m(self, p)\u001b[0m\n\u001b[1;32m    121\u001b[0m \u001b[39m#self._highest_parent_.tie.propagate_val()\u001b[39;00m\n\u001b[1;32m    123\u001b[0m \u001b[39mself\u001b[39m\u001b[39m.\u001b[39m_optimizer_copy_transformed \u001b[39m=\u001b[39m \u001b[39mFalse\u001b[39;00m\n\u001b[0;32m--> 124\u001b[0m \u001b[39mself\u001b[39;49m\u001b[39m.\u001b[39;49mtrigger_update()\n",
      "File \u001b[0;32m~/.conda/envs/tf2/lib/python3.9/site-packages/paramz/core/updateable.py:79\u001b[0m, in \u001b[0;36mUpdateable.trigger_update\u001b[0;34m(self, trigger_parent)\u001b[0m\n\u001b[1;32m     76\u001b[0m \u001b[39mif\u001b[39;00m \u001b[39mnot\u001b[39;00m \u001b[39mself\u001b[39m\u001b[39m.\u001b[39mupdate_model() \u001b[39mor\u001b[39;00m (\u001b[39mhasattr\u001b[39m(\u001b[39mself\u001b[39m, \u001b[39m\"\u001b[39m\u001b[39m_in_init_\u001b[39m\u001b[39m\"\u001b[39m) \u001b[39mand\u001b[39;00m \u001b[39mself\u001b[39m\u001b[39m.\u001b[39m_in_init_):\n\u001b[1;32m     77\u001b[0m     \u001b[39m#print \"Warning: updates are off, updating the model will do nothing\"\u001b[39;00m\n\u001b[1;32m     78\u001b[0m     \u001b[39mreturn\u001b[39;00m\n\u001b[0;32m---> 79\u001b[0m \u001b[39mself\u001b[39;49m\u001b[39m.\u001b[39;49m_trigger_params_changed(trigger_parent)\n",
      "File \u001b[0;32m~/.conda/envs/tf2/lib/python3.9/site-packages/paramz/core/parameter_core.py:134\u001b[0m, in \u001b[0;36mOptimizationHandlable._trigger_params_changed\u001b[0;34m(self, trigger_parent)\u001b[0m\n\u001b[1;32m    127\u001b[0m \u001b[39m\u001b[39m\u001b[39m\"\"\"\u001b[39;00m\n\u001b[1;32m    128\u001b[0m \u001b[39mFirst tell all children to update,\u001b[39;00m\n\u001b[1;32m    129\u001b[0m \u001b[39mthen update yourself.\u001b[39;00m\n\u001b[1;32m    130\u001b[0m \n\u001b[1;32m    131\u001b[0m \u001b[39mIf trigger_parent is True, we will tell the parent, otherwise not.\u001b[39;00m\n\u001b[1;32m    132\u001b[0m \u001b[39m\"\"\"\u001b[39;00m\n\u001b[1;32m    133\u001b[0m [p\u001b[39m.\u001b[39m_trigger_params_changed(trigger_parent\u001b[39m=\u001b[39m\u001b[39mFalse\u001b[39;00m) \u001b[39mfor\u001b[39;00m p \u001b[39min\u001b[39;00m \u001b[39mself\u001b[39m\u001b[39m.\u001b[39mparameters \u001b[39mif\u001b[39;00m \u001b[39mnot\u001b[39;00m p\u001b[39m.\u001b[39mis_fixed]\n\u001b[0;32m--> 134\u001b[0m \u001b[39mself\u001b[39;49m\u001b[39m.\u001b[39;49mnotify_observers(\u001b[39mNone\u001b[39;49;00m, \u001b[39mNone\u001b[39;49;00m \u001b[39mif\u001b[39;49;00m trigger_parent \u001b[39melse\u001b[39;49;00m \u001b[39m-\u001b[39;49mnp\u001b[39m.\u001b[39;49minf)\n",
      "File \u001b[0;32m~/.conda/envs/tf2/lib/python3.9/site-packages/paramz/core/observable.py:91\u001b[0m, in \u001b[0;36mObservable.notify_observers\u001b[0;34m(self, which, min_priority)\u001b[0m\n\u001b[1;32m     89\u001b[0m     which \u001b[39m=\u001b[39m \u001b[39mself\u001b[39m\n\u001b[1;32m     90\u001b[0m \u001b[39mif\u001b[39;00m min_priority \u001b[39mis\u001b[39;00m \u001b[39mNone\u001b[39;00m:\n\u001b[0;32m---> 91\u001b[0m     [callble(\u001b[39mself\u001b[39m, which\u001b[39m=\u001b[39mwhich) \u001b[39mfor\u001b[39;00m _, _, callble \u001b[39min\u001b[39;00m \u001b[39mself\u001b[39m\u001b[39m.\u001b[39mobservers]\n\u001b[1;32m     92\u001b[0m \u001b[39melse\u001b[39;00m:\n\u001b[1;32m     93\u001b[0m     \u001b[39mfor\u001b[39;00m p, _, callble \u001b[39min\u001b[39;00m \u001b[39mself\u001b[39m\u001b[39m.\u001b[39mobservers:\n",
      "File \u001b[0;32m~/.conda/envs/tf2/lib/python3.9/site-packages/paramz/core/observable.py:91\u001b[0m, in \u001b[0;36m<listcomp>\u001b[0;34m(.0)\u001b[0m\n\u001b[1;32m     89\u001b[0m     which \u001b[39m=\u001b[39m \u001b[39mself\u001b[39m\n\u001b[1;32m     90\u001b[0m \u001b[39mif\u001b[39;00m min_priority \u001b[39mis\u001b[39;00m \u001b[39mNone\u001b[39;00m:\n\u001b[0;32m---> 91\u001b[0m     [callble(\u001b[39mself\u001b[39;49m, which\u001b[39m=\u001b[39;49mwhich) \u001b[39mfor\u001b[39;00m _, _, callble \u001b[39min\u001b[39;00m \u001b[39mself\u001b[39m\u001b[39m.\u001b[39mobservers]\n\u001b[1;32m     92\u001b[0m \u001b[39melse\u001b[39;00m:\n\u001b[1;32m     93\u001b[0m     \u001b[39mfor\u001b[39;00m p, _, callble \u001b[39min\u001b[39;00m \u001b[39mself\u001b[39m\u001b[39m.\u001b[39mobservers:\n",
      "File \u001b[0;32m~/.conda/envs/tf2/lib/python3.9/site-packages/paramz/core/parameter_core.py:508\u001b[0m, in \u001b[0;36mParameterizable._parameters_changed_notification\u001b[0;34m(self, me, which)\u001b[0m\n\u001b[1;32m    503\u001b[0m \u001b[39m\u001b[39m\u001b[39m\"\"\"\u001b[39;00m\n\u001b[1;32m    504\u001b[0m \u001b[39mIn parameterizable we just need to make sure, that the next call to optimizer_array\u001b[39;00m\n\u001b[1;32m    505\u001b[0m \u001b[39mwill update the optimizer_array to the latest parameters\u001b[39;00m\n\u001b[1;32m    506\u001b[0m \u001b[39m\"\"\"\u001b[39;00m\n\u001b[1;32m    507\u001b[0m \u001b[39mself\u001b[39m\u001b[39m.\u001b[39m_optimizer_copy_transformed \u001b[39m=\u001b[39m \u001b[39mFalse\u001b[39;00m \u001b[39m# tells the optimizer array to update on next request\u001b[39;00m\n\u001b[0;32m--> 508\u001b[0m \u001b[39mself\u001b[39;49m\u001b[39m.\u001b[39;49mparameters_changed()\n",
      "File \u001b[0;32m~/.conda/envs/tf2/lib/python3.9/site-packages/GPy/core/gp.py:278\u001b[0m, in \u001b[0;36mGP.parameters_changed\u001b[0;34m(self)\u001b[0m\n\u001b[1;32m    269\u001b[0m \u001b[39mdef\u001b[39;00m \u001b[39mparameters_changed\u001b[39m(\u001b[39mself\u001b[39m):\n\u001b[1;32m    270\u001b[0m \u001b[39m    \u001b[39m\u001b[39m\"\"\"\u001b[39;00m\n\u001b[1;32m    271\u001b[0m \u001b[39m    Method that is called upon any changes to :class:`~GPy.core.parameterization.param.Param` variables within the model.\u001b[39;00m\n\u001b[1;32m    272\u001b[0m \u001b[39m    In particular in the GP class this method re-performs inference, recalculating the posterior and log marginal likelihood and gradients of the model\u001b[39;00m\n\u001b[0;32m   (...)\u001b[0m\n\u001b[1;32m    276\u001b[0m \u001b[39m        this method yourself, there may be unexpected consequences.\u001b[39;00m\n\u001b[1;32m    277\u001b[0m \u001b[39m    \"\"\"\u001b[39;00m\n\u001b[0;32m--> 278\u001b[0m     \u001b[39mself\u001b[39m\u001b[39m.\u001b[39mposterior, \u001b[39mself\u001b[39m\u001b[39m.\u001b[39m_log_marginal_likelihood, \u001b[39mself\u001b[39m\u001b[39m.\u001b[39mgrad_dict \u001b[39m=\u001b[39m \u001b[39mself\u001b[39;49m\u001b[39m.\u001b[39;49minference_method\u001b[39m.\u001b[39;49minference(\u001b[39mself\u001b[39;49m\u001b[39m.\u001b[39;49mkern, \u001b[39mself\u001b[39;49m\u001b[39m.\u001b[39;49mX, \u001b[39mself\u001b[39;49m\u001b[39m.\u001b[39;49mlikelihood, \u001b[39mself\u001b[39;49m\u001b[39m.\u001b[39;49mY_normalized, \u001b[39mself\u001b[39;49m\u001b[39m.\u001b[39;49mmean_function, \u001b[39mself\u001b[39;49m\u001b[39m.\u001b[39;49mY_metadata)\n\u001b[1;32m    279\u001b[0m     \u001b[39mself\u001b[39m\u001b[39m.\u001b[39mlikelihood\u001b[39m.\u001b[39mupdate_gradients(\u001b[39mself\u001b[39m\u001b[39m.\u001b[39mgrad_dict[\u001b[39m'\u001b[39m\u001b[39mdL_dthetaL\u001b[39m\u001b[39m'\u001b[39m])\n\u001b[1;32m    280\u001b[0m     \u001b[39mself\u001b[39m\u001b[39m.\u001b[39mkern\u001b[39m.\u001b[39mupdate_gradients_full(\u001b[39mself\u001b[39m\u001b[39m.\u001b[39mgrad_dict[\u001b[39m'\u001b[39m\u001b[39mdL_dK\u001b[39m\u001b[39m'\u001b[39m], \u001b[39mself\u001b[39m\u001b[39m.\u001b[39mX)\n",
      "File \u001b[0;32m~/.conda/envs/tf2/lib/python3.9/site-packages/GPy/inference/latent_function_inference/exact_gaussian_inference.py:53\u001b[0m, in \u001b[0;36mExactGaussianInference.inference\u001b[0;34m(self, kern, X, likelihood, Y, mean_function, Y_metadata, K, variance, Z_tilde)\u001b[0m\n\u001b[1;32m     50\u001b[0m YYT_factor \u001b[39m=\u001b[39m Y\u001b[39m-\u001b[39mm\n\u001b[1;32m     52\u001b[0m \u001b[39mif\u001b[39;00m K \u001b[39mis\u001b[39;00m \u001b[39mNone\u001b[39;00m:\n\u001b[0;32m---> 53\u001b[0m     K \u001b[39m=\u001b[39m kern\u001b[39m.\u001b[39;49mK(X)\n\u001b[1;32m     55\u001b[0m Ky \u001b[39m=\u001b[39m K\u001b[39m.\u001b[39mcopy()\n\u001b[1;32m     56\u001b[0m diag\u001b[39m.\u001b[39madd(Ky, variance\u001b[39m+\u001b[39m\u001b[39m1e-8\u001b[39m)\n",
      "File \u001b[0;32m~/.conda/envs/tf2/lib/python3.9/site-packages/GPy/kern/src/kernel_slice_operations.py:118\u001b[0m, in \u001b[0;36m_slice_K.<locals>.wrap\u001b[0;34m(self, X, X2, *a, **kw)\u001b[0m\n\u001b[1;32m    115\u001b[0m \u001b[39m@wraps\u001b[39m(f)\n\u001b[1;32m    116\u001b[0m \u001b[39mdef\u001b[39;00m \u001b[39mwrap\u001b[39m(\u001b[39mself\u001b[39m, X, X2 \u001b[39m=\u001b[39m \u001b[39mNone\u001b[39;00m, \u001b[39m*\u001b[39ma, \u001b[39m*\u001b[39m\u001b[39m*\u001b[39mkw):\n\u001b[1;32m    117\u001b[0m     \u001b[39mwith\u001b[39;00m _Slice_wrap(\u001b[39mself\u001b[39m, X, X2) \u001b[39mas\u001b[39;00m s:\n\u001b[0;32m--> 118\u001b[0m         ret \u001b[39m=\u001b[39m f(\u001b[39mself\u001b[39;49m, s\u001b[39m.\u001b[39;49mX, s\u001b[39m.\u001b[39;49mX2, \u001b[39m*\u001b[39;49ma, \u001b[39m*\u001b[39;49m\u001b[39m*\u001b[39;49mkw)\n\u001b[1;32m    119\u001b[0m     \u001b[39mreturn\u001b[39;00m ret\n",
      "File \u001b[0;32m~/.conda/envs/tf2/lib/python3.9/site-packages/decorator.py:232\u001b[0m, in \u001b[0;36mdecorate.<locals>.fun\u001b[0;34m(*args, **kw)\u001b[0m\n\u001b[1;32m    230\u001b[0m \u001b[39mif\u001b[39;00m \u001b[39mnot\u001b[39;00m kwsyntax:\n\u001b[1;32m    231\u001b[0m     args, kw \u001b[39m=\u001b[39m fix(args, kw, sig)\n\u001b[0;32m--> 232\u001b[0m \u001b[39mreturn\u001b[39;00m caller(func, \u001b[39m*\u001b[39;49m(extras \u001b[39m+\u001b[39;49m args), \u001b[39m*\u001b[39;49m\u001b[39m*\u001b[39;49mkw)\n",
      "File \u001b[0;32m~/.conda/envs/tf2/lib/python3.9/site-packages/paramz/caching.py:283\u001b[0m, in \u001b[0;36mCache_this.__call__.<locals>.g\u001b[0;34m(obj, *args, **kw)\u001b[0m\n\u001b[1;32m    281\u001b[0m \u001b[39melse\u001b[39;00m:\n\u001b[1;32m    282\u001b[0m     cacher \u001b[39m=\u001b[39m cache[\u001b[39mself\u001b[39m\u001b[39m.\u001b[39mf] \u001b[39m=\u001b[39m Cacher(\u001b[39mself\u001b[39m\u001b[39m.\u001b[39mf, \u001b[39mself\u001b[39m\u001b[39m.\u001b[39mlimit, \u001b[39mself\u001b[39m\u001b[39m.\u001b[39mignore_args, \u001b[39mself\u001b[39m\u001b[39m.\u001b[39mforce_kwargs, cacher_enabled\u001b[39m=\u001b[39mcache\u001b[39m.\u001b[39mcaching_enabled)\n\u001b[0;32m--> 283\u001b[0m \u001b[39mreturn\u001b[39;00m cacher(\u001b[39m*\u001b[39;49margs, \u001b[39m*\u001b[39;49m\u001b[39m*\u001b[39;49mkw)\n",
      "File \u001b[0;32m~/.conda/envs/tf2/lib/python3.9/site-packages/paramz/caching.py:179\u001b[0m, in \u001b[0;36mCacher.__call__\u001b[0;34m(self, *args, **kw)\u001b[0m\n\u001b[1;32m    176\u001b[0m \u001b[39mif\u001b[39;00m changed \u001b[39mor\u001b[39;00m not_seen:\n\u001b[1;32m    177\u001b[0m     \u001b[39m# If we need to compute, we compute the operation, but fail gracefully, if the operation has an error:\u001b[39;00m\n\u001b[1;32m    178\u001b[0m     \u001b[39mtry\u001b[39;00m:\n\u001b[0;32m--> 179\u001b[0m         new_output \u001b[39m=\u001b[39m \u001b[39mself\u001b[39;49m\u001b[39m.\u001b[39;49moperation(\u001b[39m*\u001b[39;49margs, \u001b[39m*\u001b[39;49m\u001b[39m*\u001b[39;49mkw)\n\u001b[1;32m    180\u001b[0m     \u001b[39mexcept\u001b[39;00m:\n\u001b[1;32m    181\u001b[0m         \u001b[39mself\u001b[39m\u001b[39m.\u001b[39mreset()\n",
      "File \u001b[0;32m~/.conda/envs/tf2/lib/python3.9/site-packages/GPy/kern/src/prod.py:65\u001b[0m, in \u001b[0;36mProd.K\u001b[0;34m(self, X, X2, which_parts)\u001b[0m\n\u001b[1;32m     62\u001b[0m \u001b[39melif\u001b[39;00m \u001b[39mnot\u001b[39;00m \u001b[39misinstance\u001b[39m(which_parts, (\u001b[39mlist\u001b[39m, \u001b[39mtuple\u001b[39m)):\n\u001b[1;32m     63\u001b[0m     \u001b[39m# if only one part is given\u001b[39;00m\n\u001b[1;32m     64\u001b[0m     which_parts \u001b[39m=\u001b[39m [which_parts]\n\u001b[0;32m---> 65\u001b[0m \u001b[39mreturn\u001b[39;00m reduce(np\u001b[39m.\u001b[39;49mmultiply, (p\u001b[39m.\u001b[39;49mK(X, X2) \u001b[39mfor\u001b[39;49;00m p \u001b[39min\u001b[39;49;00m which_parts))\n",
      "File \u001b[0;32m~/.conda/envs/tf2/lib/python3.9/site-packages/GPy/kern/src/prod.py:65\u001b[0m, in \u001b[0;36m<genexpr>\u001b[0;34m(.0)\u001b[0m\n\u001b[1;32m     62\u001b[0m \u001b[39melif\u001b[39;00m \u001b[39mnot\u001b[39;00m \u001b[39misinstance\u001b[39m(which_parts, (\u001b[39mlist\u001b[39m, \u001b[39mtuple\u001b[39m)):\n\u001b[1;32m     63\u001b[0m     \u001b[39m# if only one part is given\u001b[39;00m\n\u001b[1;32m     64\u001b[0m     which_parts \u001b[39m=\u001b[39m [which_parts]\n\u001b[0;32m---> 65\u001b[0m \u001b[39mreturn\u001b[39;00m reduce(np\u001b[39m.\u001b[39mmultiply, (p\u001b[39m.\u001b[39;49mK(X, X2) \u001b[39mfor\u001b[39;00m p \u001b[39min\u001b[39;00m which_parts))\n",
      "File \u001b[0;32m~/.conda/envs/tf2/lib/python3.9/site-packages/GPy/kern/src/kernel_slice_operations.py:118\u001b[0m, in \u001b[0;36m_slice_K.<locals>.wrap\u001b[0;34m(self, X, X2, *a, **kw)\u001b[0m\n\u001b[1;32m    115\u001b[0m \u001b[39m@wraps\u001b[39m(f)\n\u001b[1;32m    116\u001b[0m \u001b[39mdef\u001b[39;00m \u001b[39mwrap\u001b[39m(\u001b[39mself\u001b[39m, X, X2 \u001b[39m=\u001b[39m \u001b[39mNone\u001b[39;00m, \u001b[39m*\u001b[39ma, \u001b[39m*\u001b[39m\u001b[39m*\u001b[39mkw):\n\u001b[1;32m    117\u001b[0m     \u001b[39mwith\u001b[39;00m _Slice_wrap(\u001b[39mself\u001b[39m, X, X2) \u001b[39mas\u001b[39;00m s:\n\u001b[0;32m--> 118\u001b[0m         ret \u001b[39m=\u001b[39m f(\u001b[39mself\u001b[39;49m, s\u001b[39m.\u001b[39;49mX, s\u001b[39m.\u001b[39;49mX2, \u001b[39m*\u001b[39;49ma, \u001b[39m*\u001b[39;49m\u001b[39m*\u001b[39;49mkw)\n\u001b[1;32m    119\u001b[0m     \u001b[39mreturn\u001b[39;00m ret\n",
      "File \u001b[0;32m~/.conda/envs/tf2/lib/python3.9/site-packages/decorator.py:232\u001b[0m, in \u001b[0;36mdecorate.<locals>.fun\u001b[0;34m(*args, **kw)\u001b[0m\n\u001b[1;32m    230\u001b[0m \u001b[39mif\u001b[39;00m \u001b[39mnot\u001b[39;00m kwsyntax:\n\u001b[1;32m    231\u001b[0m     args, kw \u001b[39m=\u001b[39m fix(args, kw, sig)\n\u001b[0;32m--> 232\u001b[0m \u001b[39mreturn\u001b[39;00m caller(func, \u001b[39m*\u001b[39;49m(extras \u001b[39m+\u001b[39;49m args), \u001b[39m*\u001b[39;49m\u001b[39m*\u001b[39;49mkw)\n",
      "File \u001b[0;32m~/.conda/envs/tf2/lib/python3.9/site-packages/paramz/caching.py:283\u001b[0m, in \u001b[0;36mCache_this.__call__.<locals>.g\u001b[0;34m(obj, *args, **kw)\u001b[0m\n\u001b[1;32m    281\u001b[0m \u001b[39melse\u001b[39;00m:\n\u001b[1;32m    282\u001b[0m     cacher \u001b[39m=\u001b[39m cache[\u001b[39mself\u001b[39m\u001b[39m.\u001b[39mf] \u001b[39m=\u001b[39m Cacher(\u001b[39mself\u001b[39m\u001b[39m.\u001b[39mf, \u001b[39mself\u001b[39m\u001b[39m.\u001b[39mlimit, \u001b[39mself\u001b[39m\u001b[39m.\u001b[39mignore_args, \u001b[39mself\u001b[39m\u001b[39m.\u001b[39mforce_kwargs, cacher_enabled\u001b[39m=\u001b[39mcache\u001b[39m.\u001b[39mcaching_enabled)\n\u001b[0;32m--> 283\u001b[0m \u001b[39mreturn\u001b[39;00m cacher(\u001b[39m*\u001b[39;49margs, \u001b[39m*\u001b[39;49m\u001b[39m*\u001b[39;49mkw)\n",
      "File \u001b[0;32m~/.conda/envs/tf2/lib/python3.9/site-packages/paramz/caching.py:179\u001b[0m, in \u001b[0;36mCacher.__call__\u001b[0;34m(self, *args, **kw)\u001b[0m\n\u001b[1;32m    176\u001b[0m \u001b[39mif\u001b[39;00m changed \u001b[39mor\u001b[39;00m not_seen:\n\u001b[1;32m    177\u001b[0m     \u001b[39m# If we need to compute, we compute the operation, but fail gracefully, if the operation has an error:\u001b[39;00m\n\u001b[1;32m    178\u001b[0m     \u001b[39mtry\u001b[39;00m:\n\u001b[0;32m--> 179\u001b[0m         new_output \u001b[39m=\u001b[39m \u001b[39mself\u001b[39;49m\u001b[39m.\u001b[39;49moperation(\u001b[39m*\u001b[39;49margs, \u001b[39m*\u001b[39;49m\u001b[39m*\u001b[39;49mkw)\n\u001b[1;32m    180\u001b[0m     \u001b[39mexcept\u001b[39;00m:\n\u001b[1;32m    181\u001b[0m         \u001b[39mself\u001b[39m\u001b[39m.\u001b[39mreset()\n",
      "File \u001b[0;32m~/.conda/envs/tf2/lib/python3.9/site-packages/GPy/kern/src/stationary.py:114\u001b[0m, in \u001b[0;36mStationary.K\u001b[0;34m(self, X, X2)\u001b[0m\n\u001b[1;32m    105\u001b[0m \u001b[39m@Cache_this\u001b[39m(limit\u001b[39m=\u001b[39m\u001b[39m3\u001b[39m, ignore_args\u001b[39m=\u001b[39m())\n\u001b[1;32m    106\u001b[0m \u001b[39mdef\u001b[39;00m \u001b[39mK\u001b[39m(\u001b[39mself\u001b[39m, X, X2\u001b[39m=\u001b[39m\u001b[39mNone\u001b[39;00m):\n\u001b[1;32m    107\u001b[0m \u001b[39m    \u001b[39m\u001b[39m\"\"\"\u001b[39;00m\n\u001b[1;32m    108\u001b[0m \u001b[39m    Kernel function applied on inputs X and X2.\u001b[39;00m\n\u001b[1;32m    109\u001b[0m \u001b[39m    In the stationary case there is an inner function depending on the\u001b[39;00m\n\u001b[0;32m   (...)\u001b[0m\n\u001b[1;32m    112\u001b[0m \u001b[39m    K(X, X2) = K_of_r((X-X2)**2)\u001b[39;00m\n\u001b[1;32m    113\u001b[0m \u001b[39m    \"\"\"\u001b[39;00m\n\u001b[0;32m--> 114\u001b[0m     r \u001b[39m=\u001b[39m \u001b[39mself\u001b[39;49m\u001b[39m.\u001b[39;49m_scaled_dist(X, X2)\n\u001b[1;32m    115\u001b[0m     \u001b[39mreturn\u001b[39;00m \u001b[39mself\u001b[39m\u001b[39m.\u001b[39mK_of_r(r)\n",
      "File \u001b[0;32m~/.conda/envs/tf2/lib/python3.9/site-packages/decorator.py:232\u001b[0m, in \u001b[0;36mdecorate.<locals>.fun\u001b[0;34m(*args, **kw)\u001b[0m\n\u001b[1;32m    230\u001b[0m \u001b[39mif\u001b[39;00m \u001b[39mnot\u001b[39;00m kwsyntax:\n\u001b[1;32m    231\u001b[0m     args, kw \u001b[39m=\u001b[39m fix(args, kw, sig)\n\u001b[0;32m--> 232\u001b[0m \u001b[39mreturn\u001b[39;00m caller(func, \u001b[39m*\u001b[39;49m(extras \u001b[39m+\u001b[39;49m args), \u001b[39m*\u001b[39;49m\u001b[39m*\u001b[39;49mkw)\n",
      "File \u001b[0;32m~/.conda/envs/tf2/lib/python3.9/site-packages/paramz/caching.py:283\u001b[0m, in \u001b[0;36mCache_this.__call__.<locals>.g\u001b[0;34m(obj, *args, **kw)\u001b[0m\n\u001b[1;32m    281\u001b[0m \u001b[39melse\u001b[39;00m:\n\u001b[1;32m    282\u001b[0m     cacher \u001b[39m=\u001b[39m cache[\u001b[39mself\u001b[39m\u001b[39m.\u001b[39mf] \u001b[39m=\u001b[39m Cacher(\u001b[39mself\u001b[39m\u001b[39m.\u001b[39mf, \u001b[39mself\u001b[39m\u001b[39m.\u001b[39mlimit, \u001b[39mself\u001b[39m\u001b[39m.\u001b[39mignore_args, \u001b[39mself\u001b[39m\u001b[39m.\u001b[39mforce_kwargs, cacher_enabled\u001b[39m=\u001b[39mcache\u001b[39m.\u001b[39mcaching_enabled)\n\u001b[0;32m--> 283\u001b[0m \u001b[39mreturn\u001b[39;00m cacher(\u001b[39m*\u001b[39;49margs, \u001b[39m*\u001b[39;49m\u001b[39m*\u001b[39;49mkw)\n",
      "File \u001b[0;32m~/.conda/envs/tf2/lib/python3.9/site-packages/paramz/caching.py:179\u001b[0m, in \u001b[0;36mCacher.__call__\u001b[0;34m(self, *args, **kw)\u001b[0m\n\u001b[1;32m    176\u001b[0m \u001b[39mif\u001b[39;00m changed \u001b[39mor\u001b[39;00m not_seen:\n\u001b[1;32m    177\u001b[0m     \u001b[39m# If we need to compute, we compute the operation, but fail gracefully, if the operation has an error:\u001b[39;00m\n\u001b[1;32m    178\u001b[0m     \u001b[39mtry\u001b[39;00m:\n\u001b[0;32m--> 179\u001b[0m         new_output \u001b[39m=\u001b[39m \u001b[39mself\u001b[39;49m\u001b[39m.\u001b[39;49moperation(\u001b[39m*\u001b[39;49margs, \u001b[39m*\u001b[39;49m\u001b[39m*\u001b[39;49mkw)\n\u001b[1;32m    180\u001b[0m     \u001b[39mexcept\u001b[39;00m:\n\u001b[1;32m    181\u001b[0m         \u001b[39mself\u001b[39m\u001b[39m.\u001b[39mreset()\n",
      "File \u001b[0;32m~/.conda/envs/tf2/lib/python3.9/site-packages/GPy/kern/src/stationary.py:168\u001b[0m, in \u001b[0;36mStationary._scaled_dist\u001b[0;34m(self, X, X2)\u001b[0m\n\u001b[1;32m    166\u001b[0m     \u001b[39mreturn\u001b[39;00m \u001b[39mself\u001b[39m\u001b[39m.\u001b[39m_unscaled_dist(X\u001b[39m/\u001b[39m\u001b[39mself\u001b[39m\u001b[39m.\u001b[39mlengthscale, X2)\n\u001b[1;32m    167\u001b[0m \u001b[39melse\u001b[39;00m:\n\u001b[0;32m--> 168\u001b[0m     \u001b[39mreturn\u001b[39;00m \u001b[39mself\u001b[39;49m\u001b[39m.\u001b[39;49m_unscaled_dist(X, X2)\u001b[39m/\u001b[39;49m\u001b[39mself\u001b[39;49m\u001b[39m.\u001b[39;49mlengthscale\n",
      "File \u001b[0;32m~/.conda/envs/tf2/lib/python3.9/site-packages/paramz/core/observable_array.py:75\u001b[0m, in \u001b[0;36mObsAr.__array_wrap__\u001b[0;34m(self, out_arr, context)\u001b[0m\n\u001b[1;32m     72\u001b[0m     \u001b[39mself\u001b[39m\u001b[39m.\u001b[39mobservers \u001b[39m=\u001b[39m \u001b[39mgetattr\u001b[39m(obj, \u001b[39m'\u001b[39m\u001b[39mobservers\u001b[39m\u001b[39m'\u001b[39m, \u001b[39mNone\u001b[39;00m)\n\u001b[1;32m     73\u001b[0m     \u001b[39mself\u001b[39m\u001b[39m.\u001b[39m_update_on \u001b[39m=\u001b[39m \u001b[39mgetattr\u001b[39m(obj, \u001b[39m'\u001b[39m\u001b[39m_update_on\u001b[39m\u001b[39m'\u001b[39m, \u001b[39mNone\u001b[39;00m)\n\u001b[0;32m---> 75\u001b[0m \u001b[39mdef\u001b[39;00m \u001b[39m__array_wrap__\u001b[39m(\u001b[39mself\u001b[39m, out_arr, context\u001b[39m=\u001b[39m\u001b[39mNone\u001b[39;00m):\n\u001b[1;32m     76\u001b[0m     \u001b[39m#np.ndarray.__array_wrap__(self, out_arr, context)\u001b[39;00m\n\u001b[1;32m     77\u001b[0m     \u001b[39m#return out_arr\u001b[39;00m\n\u001b[1;32m     78\u001b[0m     \u001b[39mreturn\u001b[39;00m out_arr\u001b[39m.\u001b[39mview(np\u001b[39m.\u001b[39mndarray)\n\u001b[1;32m     80\u001b[0m \u001b[39mdef\u001b[39;00m \u001b[39m_setup_observers\u001b[39m(\u001b[39mself\u001b[39m):\n\u001b[1;32m     81\u001b[0m     \u001b[39m# do not setup anything, as observable arrays do not have default observers\u001b[39;00m\n",
      "\u001b[0;31mKeyboardInterrupt\u001b[0m: "
     ]
    }
   ],
   "source": [
    "m.optimize()"
   ]
  },
  {
   "cell_type": "code",
   "execution_count": null,
   "metadata": {},
   "outputs": [
    {
     "name": "stdout",
     "output_type": "stream",
     "text": [
      "\n",
      "Name : gp\n",
      "Objective : 1716.0306183906905\n",
      "Number of Parameters : 5\n",
      "Number of Optimization Parameters : 4\n",
      "Updates : True\n",
      "Parameters:\n",
      "  \u001b[1mgp.                                  \u001b[0;0m  |                  value  |  constraints  |  priors\n",
      "  \u001b[1mICM.rbf.variance                     \u001b[0;0m  |                    1.0  |   +ve fixed   |        \n",
      "  \u001b[1mICM.rbf.lengthscale                  \u001b[0;0m  |     0.2009444678716138  |      +ve      |        \n",
      "  \u001b[1mICM.B.W                              \u001b[0;0m  |         [357.11718725]  |               |        \n",
      "  \u001b[1mICM.B.kappa                          \u001b[0;0m  |  8.363381134468531e-22  |      +ve      |        \n",
      "  \u001b[1mmixed_noise.Gaussian_noise_0.variance\u001b[0;0m  |    0.08526921456379184  |      +ve      |        \n",
      "W matrix\n",
      "   \u001b[1mindex\u001b[0;0m  |  gp.ICM.B.W  |  constraints  |  priors\n",
      "  \u001b[1m[0 0]\u001b[0;0m  |  357.11718725  |               |        \n",
      "\n",
      "kappa vector\n",
      "   \u001b[1mindex\u001b[0;0m  |  gp.ICM.B.kappa  |  constraints  |  priors\n",
      "  \u001b[1m[0]  \u001b[0;0m  |      0.00000000  |      +ve      |        \n",
      "\n",
      "B matrix\n",
      " [[127532.68543135]]\n"
     ]
    }
   ],
   "source": [
    "print(m)\n",
    "print('W matrix\\n',icm.B.W)\n",
    "print('\\nkappa vector\\n',icm.B.kappa)\n",
    "print('\\nB matrix\\n',icm.B.B)"
   ]
  },
  {
   "cell_type": "code",
   "execution_count": null,
   "metadata": {},
   "outputs": [],
   "source": [
    "newX = X_test"
   ]
  },
  {
   "cell_type": "code",
   "execution_count": null,
   "metadata": {},
   "outputs": [],
   "source": [
    "newX = np.concatenate((newX,np.zeros((np.shape(X_test)[0],1))),1)\n",
    "noise_dict = {'output_index':newX[:,-1].astype(int)}\n",
    "ys,var=m.predict(newX,Y_metadata=noise_dict)\n",
    "\n",
    "# Temper_test_=scalerT.inverse_transform(ys)\n"
   ]
  },
  {
   "cell_type": "code",
   "execution_count": null,
   "metadata": {},
   "outputs": [
    {
     "data": {
      "text/plain": [
       "array([[2156.4906172 ],\n",
       "       [1823.55383264],\n",
       "       [2078.51654978],\n",
       "       ...,\n",
       "       [1522.50336047],\n",
       "       [1580.54019145],\n",
       "       [1965.46363427]])"
      ]
     },
     "execution_count": 25,
     "metadata": {},
     "output_type": "execute_result"
    }
   ],
   "source": [
    "ys"
   ]
  },
  {
   "cell_type": "code",
   "execution_count": null,
   "metadata": {},
   "outputs": [
    {
     "data": {
      "text/plain": [
       "array([[2156.94569457],\n",
       "       [1823.08230823],\n",
       "       [2078.46784678],\n",
       "       ...,\n",
       "       [1522.05220522],\n",
       "       [1580.0180018 ],\n",
       "       [1965.47654765]])"
      ]
     },
     "execution_count": 26,
     "metadata": {},
     "output_type": "execute_result"
    }
   ],
   "source": [
    "Y_test"
   ]
  },
  {
   "cell_type": "code",
   "execution_count": null,
   "metadata": {},
   "outputs": [],
   "source": [
    "from sklearn import metrics"
   ]
  },
  {
   "cell_type": "code",
   "execution_count": null,
   "metadata": {},
   "outputs": [
    {
     "data": {
      "text/plain": [
       "2.6946422538712178e-08"
      ]
     },
     "execution_count": 28,
     "metadata": {},
     "output_type": "execute_result"
    }
   ],
   "source": [
    "conc_1 = metrics.mean_squared_log_error(np.array(ys), np.array(Y_test))\n",
    "conc_1"
   ]
  },
  {
   "cell_type": "code",
   "execution_count": null,
   "metadata": {},
   "outputs": [
    {
     "name": "stdout",
     "output_type": "stream",
     "text": [
      "The mean squared error between the real and predicted values are: 0.08794395427100946\n"
     ]
    }
   ],
   "source": [
    "conc_1 = metrics.mean_squared_error(np.array(ys), np.array(Y_test))\n",
    "print(f'The mean squared error between the real and predicted values are: {conc_1}')"
   ]
  }
 ],
 "metadata": {
  "kernelspec": {
   "display_name": "torch",
   "language": "python",
   "name": "python3"
  },
  "language_info": {
   "codemirror_mode": {
    "name": "ipython",
    "version": 3
   },
   "file_extension": ".py",
   "mimetype": "text/x-python",
   "name": "python",
   "nbconvert_exporter": "python",
   "pygments_lexer": "ipython3",
   "version": "3.9.18"
  }
 },
 "nbformat": 4,
 "nbformat_minor": 2
}
