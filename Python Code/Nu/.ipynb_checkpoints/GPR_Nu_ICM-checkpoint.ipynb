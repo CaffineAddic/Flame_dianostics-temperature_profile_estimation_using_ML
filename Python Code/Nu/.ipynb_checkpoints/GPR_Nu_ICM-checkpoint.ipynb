{
 "cells": [
  {
   "cell_type": "code",
   "execution_count": 1,
   "metadata": {},
   "outputs": [],
   "source": [
    "import numpy as np\n",
    "import matplotlib.pyplot as plt\n",
    "import os\n",
    "from sklearn.preprocessing import StandardScaler\n",
    "\n",
    "\n",
    "import GPy"
   ]
  },
  {
   "cell_type": "code",
   "execution_count": 2,
   "metadata": {},
   "outputs": [],
   "source": [
    "os.chdir('/home/saumya/Documents/Spec_data/Temp_Nu')"
   ]
  },
  {
   "cell_type": "code",
   "execution_count": 3,
   "metadata": {},
   "outputs": [],
   "source": [
    "x_dat = np.load('abs_Nu.npy').astype(np.half)\n",
    "\n",
    "x_dat_ss = x_dat\n",
    "# x_dat_t = StandardScaler().fit(x_dat)\n",
    "\n",
    "# x_dat_ss = x_dat_t.transform(x_dat)\n",
    "\n",
    "# x_dat = np.reshape(x_dat, -1)[:, None]"
   ]
  },
  {
   "cell_type": "code",
   "execution_count": 4,
   "metadata": {},
   "outputs": [
    {
     "data": {
      "text/plain": [
       "(10000, 3000)"
      ]
     },
     "execution_count": 4,
     "metadata": {},
     "output_type": "execute_result"
    }
   ],
   "source": [
    "x_dat.shape"
   ]
  },
  {
   "cell_type": "code",
   "execution_count": 5,
   "metadata": {},
   "outputs": [],
   "source": [
    "y_dat = np.load('/home/saumya/Documents/Spec_data/profiles/Temp_profile.npy').astype(np.half)\n",
    "\n",
    "\n",
    "y_dat_ss = y_dat\n",
    "# y_dat_t = StandardScaler().fit(y_dat)\n",
    "\n",
    "# y_dat_ss = y_dat_t.transform(y_dat)\n",
    "# y_dat = np.reshape(y_dat, -1)[:, None]"
   ]
  },
  {
   "cell_type": "code",
   "execution_count": 6,
   "metadata": {},
   "outputs": [
    {
     "data": {
      "text/plain": [
       "[<matplotlib.lines.Line2D at 0x77601f3bfc20>]"
      ]
     },
     "execution_count": 6,
     "metadata": {},
     "output_type": "execute_result"
    },
    {
     "data": {
      "image/png": "[encoded data removed]",
      "text/plain": [
       "<Figure size 640x480 with 1 Axes>"
      ]
     },
     "metadata": {},
     "output_type": "display_data"
    }
   ],
   "source": [
    "plt.plot(y_dat_ss[0])"
   ]
  },
  {
   "cell_type": "code",
   "execution_count": 7,
   "metadata": {},
   "outputs": [],
   "source": [
    "from sklearn.model_selection import train_test_split"
   ]
  },
  {
   "cell_type": "code",
   "execution_count": 8,
   "metadata": {},
   "outputs": [],
   "source": [
    "def train_val_test_split(X, y, val_size):\n",
    "    # test_size = 1 - train_size - val_size\n",
    "    X_train_val, X_test, y_train_val, y_test = train_test_split(X, y, test_size = val_size)\n",
    "    # relative_train_size = train_size / (val_size + train_size)\n",
    "    # X_train, X_val, y_train, y_val = train_test_split(X_train_val, y_train_val,\n",
    "                                                    #   train_size = relative_train_size, test_size = 1-relative_train_size)\n",
    "    return X_train_val, X_test, y_train_val, y_test"
   ]
  },
  {
   "cell_type": "code",
   "execution_count": 9,
   "metadata": {},
   "outputs": [],
   "source": [
    "X_train, X_test, Y_train, Y_test = train_val_test_split(x_dat, y_dat_ss, .2)"
   ]
  },
  {
   "cell_type": "code",
   "execution_count": 10,
   "metadata": {},
   "outputs": [],
   "source": [
    "# LMC set up\n",
    "ks = [GPy.kern.Matern32(np.shape(X_train)[1]), GPy.kern.Bias(np.shape(X_train)[1]), GPy.kern.Linear(np.shape(X_train)[1])] \n",
    "icm = GPy.util.multioutput.LCM(input_dim=np.shape(X_train)[1],num_outputs=1,kernels_list=ks)"
   ]
  },
  {
   "cell_type": "code",
   "execution_count": 11,
   "metadata": {},
   "outputs": [
    {
     "name": "stdout",
     "output_type": "stream",
     "text": [
      "  \u001b[1msum.                  \u001b[0;0m  |          value  |  constraints  |  priors\n",
      "  \u001b[1mICM0.Mat32.variance   \u001b[0;0m  |            1.0  |      +ve      |        \n",
      "  \u001b[1mICM0.Mat32.lengthscale\u001b[0;0m  |            1.0  |      +ve      |        \n",
      "  \u001b[1mICM0.B.W              \u001b[0;0m  |  [-0.52084377]  |               |        \n",
      "  \u001b[1mICM0.B.kappa          \u001b[0;0m  |            0.5  |      +ve      |        \n",
      "  \u001b[1mICM1.bias.variance    \u001b[0;0m  |            1.0  |      +ve      |        \n",
      "  \u001b[1mICM1.B.W              \u001b[0;0m  |   [-0.7397176]  |               |        \n",
      "  \u001b[1mICM1.B.kappa          \u001b[0;0m  |            0.5  |      +ve      |        \n",
      "  \u001b[1mICM2.linear.variances \u001b[0;0m  |            1.0  |      +ve      |        \n",
      "  \u001b[1mICM2.B.W              \u001b[0;0m  |   [1.03647375]  |               |        \n",
      "  \u001b[1mICM2.B.kappa          \u001b[0;0m  |            0.5  |      +ve      |        \n"
     ]
    }
   ],
   "source": [
    "print(icm)\n",
    "# "
   ]
  },
  {
   "cell_type": "code",
   "execution_count": 12,
   "metadata": {},
   "outputs": [
    {
     "name": "stdout",
     "output_type": "stream",
     "text": [
      "\n",
      "Name : gp\n",
      "Objective : 36228689965.27295\n",
      "Number of Parameters : 11\n",
      "Number of Optimization Parameters : 11\n",
      "Updates : True\n",
      "Parameters:\n",
      "  \u001b[1mgp.                                  \u001b[0;0m  |          value  |  constraints  |  priors\n",
      "  \u001b[1msum.ICM0.Mat32.variance              \u001b[0;0m  |            1.0  |      +ve      |        \n",
      "  \u001b[1msum.ICM0.Mat32.lengthscale           \u001b[0;0m  |            1.0  |      +ve      |        \n",
      "  \u001b[1msum.ICM0.B.W                         \u001b[0;0m  |  [-0.52084377]  |               |        \n",
      "  \u001b[1msum.ICM0.B.kappa                     \u001b[0;0m  |            0.5  |      +ve      |        \n",
      "  \u001b[1msum.ICM1.bias.variance               \u001b[0;0m  |            1.0  |      +ve      |        \n",
      "  \u001b[1msum.ICM1.B.W                         \u001b[0;0m  |   [-0.7397176]  |               |        \n",
      "  \u001b[1msum.ICM1.B.kappa                     \u001b[0;0m  |            0.5  |      +ve      |        \n",
      "  \u001b[1msum.ICM2.linear.variances            \u001b[0;0m  |            1.0  |      +ve      |        \n",
      "  \u001b[1msum.ICM2.B.W                         \u001b[0;0m  |   [1.03647375]  |               |        \n",
      "  \u001b[1msum.ICM2.B.kappa                     \u001b[0;0m  |            0.5  |      +ve      |        \n",
      "  \u001b[1mmixed_noise.Gaussian_noise_0.variance\u001b[0;0m  |            1.0  |      +ve      |        \n"
     ]
    }
   ],
   "source": [
    "m = GPy.models.GPCoregionalizedRegression([X_train],[Y_train],kernel=icm)\n",
    "# m['.*rbf.var'].constrain_fixed(1.)\n",
    "\n",
    "\n",
    "# m['.*ICM.*var'].unconstrain()\n",
    "# m['.*ICM0.*var'].constrain_fixed(1.)\n",
    "# m['.*ICM0.*W'].constrain_fixed(0)\n",
    "# m['.*ICM1.*var'].constrain_fixed(1.)\n",
    "# m['.*ICM1.*W'].constrain_fixed(0)\n",
    "\n",
    "\n",
    "# constrain if converge to reasonless extrema\n",
    "# m['mixed_noise.Gaussian_noise_0.variance'].constrain_bounded(0,1e-5)\n",
    "# m['mixed_noise.Gaussian_noise_1. variance'].constrain_bounded(0,1e-5)\n",
    "# m['mixed_noise.Gaussian_noise_2.variance'].constrain_bounded(0,1e-5)\n",
    "print(m)"
   ]
  },
  {
   "cell_type": "code",
   "execution_count": 13,
   "metadata": {},
   "outputs": [],
   "source": [
    "# print('W matrix\\n',icm.B.W)\n",
    "# print('\\nkappa vector\\n',icm.B.kappa)"
   ]
  },
  {
   "cell_type": "code",
   "execution_count": 14,
   "metadata": {},
   "outputs": [
    {
     "data": {
      "text/plain": [
       "<paramz.optimization.optimization.opt_lbfgsb at 0x77601ed77fb0>"
      ]
     },
     "execution_count": 14,
     "metadata": {},
     "output_type": "execute_result"
    }
   ],
   "source": [
    "m.optimize()"
   ]
  },
  {
   "cell_type": "code",
   "execution_count": 15,
   "metadata": {},
   "outputs": [
    {
     "name": "stdout",
     "output_type": "stream",
     "text": [
      "\n",
      "Name : gp\n",
      "Objective : 15772147.178966835\n",
      "Number of Parameters : 11\n",
      "Number of Optimization Parameters : 11\n",
      "Updates : True\n",
      "Parameters:\n",
      "  \u001b[1mgp.                                  \u001b[0;0m  |                  value  |  constraints  |  priors\n",
      "  \u001b[1msum.ICM0.Mat32.variance              \u001b[0;0m  |      16.24260736620808  |      +ve      |        \n",
      "  \u001b[1msum.ICM0.Mat32.lengthscale           \u001b[0;0m  |  3.820444458384001e-06  |      +ve      |        \n",
      "  \u001b[1msum.ICM0.B.W                         \u001b[0;0m  |          [-42.1634908]  |               |        \n",
      "  \u001b[1msum.ICM0.B.kappa                     \u001b[0;0m  |   0.027982793583210926  |      +ve      |        \n",
      "  \u001b[1msum.ICM1.bias.variance               \u001b[0;0m  |     1431.3658947384984  |      +ve      |        \n",
      "  \u001b[1msum.ICM1.B.W                         \u001b[0;0m  |       [-2191.88535292]  |               |        \n",
      "  \u001b[1msum.ICM1.B.kappa                     \u001b[0;0m  |  5.057730410298989e-40  |      +ve      |        \n",
      "  \u001b[1msum.ICM2.linear.variances            \u001b[0;0m  |      1268.683273508255  |      +ve      |        \n",
      "  \u001b[1msum.ICM2.B.W                         \u001b[0;0m  |        [1774.95605931]  |               |        \n",
      "  \u001b[1msum.ICM2.B.kappa                     \u001b[0;0m  |     122.59285777289374  |      +ve      |        \n",
      "  \u001b[1mmixed_noise.Gaussian_noise_0.variance\u001b[0;0m  |      809.7733104788671  |      +ve      |        \n"
     ]
    }
   ],
   "source": [
    "print(m)\n",
    "# print('W matrix\\n',icm.B.W)  \n",
    "\n",
    "# print('\\nkappa vector\\n',icm.B.kappa)\n",
    "# print('\\nB matrix\\n',icm.B.B)"
   ]
  },
  {
   "cell_type": "code",
   "execution_count": 16,
   "metadata": {},
   "outputs": [],
   "source": [
    "newX = X_test\n",
    "newX = np.concatenate((newX,np.zeros((np.shape(X_test)[0],1))),1)\n",
    "noise_dict = {'output_index':newX[:,-1].astype(int)}\n",
    "ys,var=m.predict(newX,Y_metadata=noise_dict)\n",
    "\n",
    "# Temper_test_=scalerT.inverse_transform(ys)\n"
   ]
  },
  {
   "cell_type": "code",
   "execution_count": 17,
   "metadata": {
    "scrolled": true
   },
   "outputs": [
    {
     "data": {
      "text/plain": [
       "array([[1549.78826582, 1555.14304185, 1560.49814677, ..., 1581.94505024,\n",
       "        1576.57988024, 1571.23543978],\n",
       "       [1116.96763968, 1119.1364311 , 1121.32005835, ..., 1129.16306329,\n",
       "        1126.97106647, 1124.78091359],\n",
       "       [1263.1142385 , 1266.28939807, 1269.48100877, ..., 1264.53083301,\n",
       "        1261.36313844, 1258.20516515],\n",
       "       ...,\n",
       "       [1321.61276364, 1325.18728113, 1328.7768929 , ..., 1330.53596711,\n",
       "        1326.94988799, 1323.37521958],\n",
       "       [1220.57312751, 1223.48593831, 1226.41096854, ..., 1216.39933562,\n",
       "        1213.51679683, 1210.64978337],\n",
       "       [1236.50617504, 1239.44083762, 1242.39149392, ..., 1260.17069864,\n",
       "        1257.13098955, 1254.09114742]])"
      ]
     },
     "execution_count": 17,
     "metadata": {},
     "output_type": "execute_result"
    }
   ],
   "source": [
    "ys"
   ]
  },
  {
   "cell_type": "code",
   "execution_count": 26,
   "metadata": {},
   "outputs": [
    {
     "data": {
      "text/plain": [
       "[<matplotlib.lines.Line2D at 0x77601ebb3470>]"
      ]
     },
     "execution_count": 26,
     "metadata": {},
     "output_type": "execute_result"
    },
    {
     "data": {
      "image/png": "[encoded data removed]",
      "text/plain": [
       "<Figure size 640x480 with 1 Axes>"
      ]
     },
     "metadata": {},
     "output_type": "display_data"
    }
   ],
   "source": [
    "plt.plot(ys[10])\n",
    "plt.plot(Y_test[1])"
   ]
  },
  {
   "cell_type": "code",
   "execution_count": 19,
   "metadata": {},
   "outputs": [
    {
     "data": {
      "text/plain": [
       "array([[1549.78826582, 1555.14304185, 1560.49814677, ..., 1581.94505024,\n",
       "        1576.57988024, 1571.23543978],\n",
       "       [1116.96763968, 1119.1364311 , 1121.32005835, ..., 1129.16306329,\n",
       "        1126.97106647, 1124.78091359],\n",
       "       [1263.1142385 , 1266.28939807, 1269.48100877, ..., 1264.53083301,\n",
       "        1261.36313844, 1258.20516515],\n",
       "       ...,\n",
       "       [1321.61276364, 1325.18728113, 1328.7768929 , ..., 1330.53596711,\n",
       "        1326.94988799, 1323.37521958],\n",
       "       [1220.57312751, 1223.48593831, 1226.41096854, ..., 1216.39933562,\n",
       "        1213.51679683, 1210.64978337],\n",
       "       [1236.50617504, 1239.44083762, 1242.39149392, ..., 1260.17069864,\n",
       "        1257.13098955, 1254.09114742]])"
      ]
     },
     "execution_count": 19,
     "metadata": {},
     "output_type": "execute_result"
    }
   ],
   "source": [
    "ys"
   ]
  },
  {
   "cell_type": "code",
   "execution_count": 20,
   "metadata": {},
   "outputs": [],
   "source": [
    "from sklearn import metrics"
   ]
  },
  {
   "cell_type": "code",
   "execution_count": 21,
   "metadata": {},
   "outputs": [
    {
     "name": "stdout",
     "output_type": "stream",
     "text": [
      "The mean squared error between the real and predicted values are: 2921540.0036115358%\n"
     ]
    }
   ],
   "source": [
    "conc_1 = metrics.mean_squared_error(np.array(ys), np.array(Y_test))\n",
    "print(f'The mean squared error between the real and predicted values are: {conc_1*100}%')"
   ]
  },
  {
   "cell_type": "code",
   "execution_count": null,
   "metadata": {},
   "outputs": [],
   "source": []
  }
 ],
 "metadata": {
  "kernelspec": {
   "display_name": "Python 3 (ipykernel)",
   "language": "python",
   "name": "python3"
  },
  "language_info": {
   "codemirror_mode": {
    "name": "ipython",
    "version": 3
   },
   "file_extension": ".py",
   "mimetype": "text/x-python",
   "name": "python",
   "nbconvert_exporter": "python",
   "pygments_lexer": "ipython3",
   "version": "3.12.2"
  }
 },
 "nbformat": 4,
 "nbformat_minor": 4
}
