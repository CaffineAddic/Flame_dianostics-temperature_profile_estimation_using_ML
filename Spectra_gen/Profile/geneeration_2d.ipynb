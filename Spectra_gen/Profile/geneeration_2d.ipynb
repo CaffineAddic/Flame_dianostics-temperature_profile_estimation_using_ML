{
 "cells": [
  {
   "cell_type": "code",
   "execution_count": 1,
   "metadata": {},
   "outputs": [],
   "source": [
    "import h5py\n",
    "import numpy as np\n",
    "import rdrand\n",
    "import matplotlib.pyplot as plt\n",
    "plt.ioff()\n",
    "r = rdrand.RdRandom(rdrand.RdSeedom())"
   ]
  },
  {
   "cell_type": "code",
   "execution_count": 2,
   "metadata": {},
   "outputs": [],
   "source": [
    "grid_size = 60\n",
    "grid_refinement = 5\n",
    "modes = 3\n",
    "nos = 10000\n",
    "T_min = 1000.0\n",
    "T_max = 2000.0\n",
    "filename = \"Temp_profile\""
   ]
  },
  {
   "cell_type": "code",
   "execution_count": 3,
   "metadata": {},
   "outputs": [],
   "source": [
    "T_data = np.zeros((nos, grid_size*grid_refinement))\n",
    "x = np.linspace(0, 1, grid_size*grid_refinement)\n",
    "max_T_data = 0.0"
   ]
  },
  {
   "cell_type": "code",
   "execution_count": 4,
   "metadata": {},
   "outputs": [
    {
     "data": {
      "text/plain": [
       "(300,)"
      ]
     },
     "execution_count": 4,
     "metadata": {},
     "output_type": "execute_result"
    }
   ],
   "source": [
    "x.shape"
   ]
  },
  {
   "cell_type": "code",
   "execution_count": 5,
   "metadata": {},
   "outputs": [],
   "source": [
    "i = 0\n",
    "cont_num = 0\n",
    "while i < nos:\n",
    "    peak_x_0 = r.uniform(0.1, 0.9)\n",
    "    peak_variance = r.uniform(0.15, 0.45)\n",
    "    T_data[i] = T_data[i] + \\\n",
    "        r.uniform(0.3, 1.0)*np.exp(-((x-peak_x_0)**2)/(2*peak_variance**2))\n",
    "\n",
    "\n",
    "    for j in range(modes-1):\n",
    "        peak_r = r.uniform(peak_variance**0.5, 1)\n",
    "        peak_dir = r.uniform(0, 2*np.pi)\n",
    "        peak_x = peak_x_0+peak_r*np.cos(peak_dir)\n",
    "        if peak_x >= 0.9:\n",
    "            peak_x -= 0.8\n",
    "        elif peak_x <= 0.1:\n",
    "            peak_x = 0.9-np.abs(0.1-peak_x)\n",
    "        peak_variance = r.uniform(0.15, 0.45)\n",
    "        T_data[i] = T_data[i] + \\\n",
    "            r.uniform(0, 1)*np.exp(-((x-peak_x)**2)/(2*peak_variance**2))\n",
    "    if np.max(T_data[i]) > 1:\n",
    "        T_data[i] = 0\n",
    "        continue\n",
    "\n",
    "    max_T_data = max(max_T_data, np.max(T_data[i]))\n",
    "    i = i+1    \n",
    "\n",
    "    \n",
    "T_data = T_data*(T_max - T_min) + T_min"
   ]
  },
  {
   "cell_type": "code",
   "execution_count": 6,
   "metadata": {},
   "outputs": [
    {
     "name": "stdout",
     "output_type": "stream",
     "text": [
      "10000\n"
     ]
    }
   ],
   "source": [
    "print(np.sum([np.max(T_data[i]) > 1 for i in range(nos)]))"
   ]
  },
  {
   "cell_type": "code",
   "execution_count": 7,
   "metadata": {},
   "outputs": [
    {
     "data": {
      "text/plain": [
       "(300,)"
      ]
     },
     "execution_count": 7,
     "metadata": {},
     "output_type": "execute_result"
    }
   ],
   "source": [
    "T_data[r.randint(0,nos-1)].shape"
   ]
  },
  {
   "cell_type": "code",
   "execution_count": 8,
   "metadata": {},
   "outputs": [
    {
     "data": {
      "image/png": "[encoded data removed]",
      "text/plain": [
       "<Figure size 640x480 with 1 Axes>"
      ]
     },
     "metadata": {},
     "output_type": "display_data"
    }
   ],
   "source": [
    "plt.plot(T_data[r.randint(0,nos-1)])\n",
    "plt.show()"
   ]
  },
  {
   "cell_type": "code",
   "execution_count": 9,
   "metadata": {},
   "outputs": [
    {
     "data": {
      "text/plain": [
       "(10000, 300)"
      ]
     },
     "execution_count": 9,
     "metadata": {},
     "output_type": "execute_result"
    }
   ],
   "source": [
    "T_data.shape"
   ]
  },
  {
   "cell_type": "code",
   "execution_count": 10,
   "metadata": {},
   "outputs": [],
   "source": [
    "# # %%\n",
    "# with h5py.File(filename, \"w\") as f:\n",
    "#     f.create_dataset(\"data\", data=T_data)\n",
    "#     f.create_dataset(\"T_min\", data=T_min)\n",
    "#     f.create_dataset(\"T_max\", data=T_max)"
   ]
  },
  {
   "cell_type": "code",
   "execution_count": 11,
   "metadata": {},
   "outputs": [],
   "source": [
    "import os \n",
    "\n",
    "os.chdir('/home/saumya/Documents/Spec_data/profiles/')"
   ]
  },
  {
   "cell_type": "code",
   "execution_count": 12,
   "metadata": {},
   "outputs": [],
   "source": [
    "np.save(filename, T_data)"
   ]
  }
 ],
 "metadata": {
  "kernelspec": {
   "display_name": "tf2",
   "language": "python",
   "name": "python3"
  },
  "language_info": {
   "codemirror_mode": {
    "name": "ipython",
    "version": 3
   },
   "file_extension": ".py",
   "mimetype": "text/x-python",
   "name": "python",
   "nbconvert_exporter": "python",
   "pygments_lexer": "ipython3",
   "version": "3.9.18"
  }
 },
 "nbformat": 4,
 "nbformat_minor": 2
}
