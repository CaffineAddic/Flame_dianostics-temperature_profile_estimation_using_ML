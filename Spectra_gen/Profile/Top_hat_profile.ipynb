{
 "cells": [
  {
   "cell_type": "code",
   "execution_count": 1,
   "metadata": {},
   "outputs": [],
   "source": [
    "import numpy as np\n",
    "import matplotlib.pyplot as plt\n",
    "\n",
    "import decimal\n",
    "\n",
    "\n",
    "decimal.getcontext().prec = 5"
   ]
  },
  {
   "cell_type": "code",
   "execution_count": 2,
   "metadata": {},
   "outputs": [],
   "source": [
    "def bolts(A2, A3, x, x_o):\n",
    "    A1 = 303\n",
    "    a = []\n",
    "    for i in range(len(A2)):\n",
    "        b = A1 + (A2[i] - A1)/(1+np.exp((x-x_o[i])/A3[i]))\n",
    "        a.append(b)\n",
    "    return(np.array(a))"
   ]
  },
  {
   "cell_type": "code",
   "execution_count": 3,
   "metadata": {},
   "outputs": [],
   "source": [
    "# def bolts_int(A2, A3, x, x_o):\n",
    "#     A1 = 303\n",
    "#     b = A2 + (A2-A1)/(1+np.exp((x-x_o)/A3))\n",
    "#     return b"
   ]
  },
  {
   "cell_type": "code",
   "execution_count": 4,
   "metadata": {},
   "outputs": [],
   "source": [
    "A2 = np.linspace(303, 773, 50)\n",
    "A3 = np.linspace(0.01, 1, 50)\n",
    "x_o = np.linspace(0, 55, 50)\n",
    "x = np.linspace(0, 55, 300)\n",
    "\n",
    "mol = np.linspace(.1, 0.3, 10)"
   ]
  },
  {
   "cell_type": "code",
   "execution_count": 5,
   "metadata": {},
   "outputs": [],
   "source": [
    "# A2 = 1700\n",
    "\n",
    "# A3 = 0.1\n",
    "\n",
    "# x =  np.linspace(-0, 3, 1000)\n",
    "\n",
    "# x_o = 2#6.5/7*3"
   ]
  },
  {
   "cell_type": "code",
   "execution_count": 6,
   "metadata": {},
   "outputs": [],
   "source": [
    "def repeat(arr, count):\n",
    "    return np.ravel(np.stack([arr for _ in range(count)], axis=0))"
   ]
  },
  {
   "cell_type": "code",
   "execution_count": 7,
   "metadata": {},
   "outputs": [],
   "source": [
    "# X_o = repeat(x_o, 1000)\n",
    "\n",
    "# A_2 = repeat(A2, 10)\n",
    "\n",
    "# A_3 = np.repeat(A3, 1000)\n",
    "\n",
    "# Mol = repeat(mol, 1000)"
   ]
  },
  {
   "cell_type": "code",
   "execution_count": 8,
   "metadata": {},
   "outputs": [
    {
     "name": "stderr",
     "output_type": "stream",
     "text": [
      "/tmp/ipykernel_48488/4250135426.py:5: RuntimeWarning: overflow encountered in exp\n",
      "  b = A1 + (A2[i] - A1)/(1+np.exp((x-x_o[i])/A3[i]))\n"
     ]
    }
   ],
   "source": [
    "a2 = bolts(A2, A3, x, x_o)"
   ]
  },
  {
   "cell_type": "code",
   "execution_count": 17,
   "metadata": {},
   "outputs": [
    {
     "data": {
      "text/plain": [
       "0.7171428571428571"
      ]
     },
     "execution_count": 17,
     "metadata": {},
     "output_type": "execute_result"
    }
   ],
   "source": [
    "A3[35]"
   ]
  },
  {
   "cell_type": "code",
   "execution_count": 16,
   "metadata": {},
   "outputs": [
    {
     "data": {
      "text/plain": [
       "[<matplotlib.lines.Line2D at 0x7f935c57b700>]"
      ]
     },
     "execution_count": 16,
     "metadata": {},
     "output_type": "execute_result"
    },
    {
     "data": {
      "image/png": "[encoded data removed]",
      "text/plain": [
       "<Figure size 640x480 with 1 Axes>"
      ]
     },
     "metadata": {},
     "output_type": "display_data"
    }
   ],
   "source": [
    "plt.plot(a2[35])"
   ]
  },
  {
   "cell_type": "code",
   "execution_count": 11,
   "metadata": {},
   "outputs": [],
   "source": [
    "np.save('profile', a2)"
   ]
  },
  {
   "cell_type": "code",
   "execution_count": 12,
   "metadata": {},
   "outputs": [],
   "source": [
    "# np.save('mol_fra', Mol)"
   ]
  },
  {
   "cell_type": "code",
   "execution_count": 13,
   "metadata": {},
   "outputs": [
    {
     "ename": "NameError",
     "evalue": "name 'A_2' is not defined",
     "output_type": "error",
     "traceback": [
      "\u001b[0;31m---------------------------------------------------------------------------\u001b[0m",
      "\u001b[0;31mNameError\u001b[0m                                 Traceback (most recent call last)",
      "\u001b[1;32m/home/saumya/Documents/Flame_dianostics-temperature_profile_estimation_using_ML/Spectra_gen/Profile/Top_hat_profile.ipynb Cell 13\u001b[0m line \u001b[0;36m1\n\u001b[0;32m----> <a href='vscode-notebook-cell:/home/saumya/Documents/Flame_dianostics-temperature_profile_estimation_using_ML/Spectra_gen/Profile/Top_hat_profile.ipynb#X15sZmlsZQ%3D%3D?line=0'>1</a>\u001b[0m asdf \u001b[39m=\u001b[39m np\u001b[39m.\u001b[39mcolumn_stack((A_2, A_3, X_o))\n",
      "\u001b[0;31mNameError\u001b[0m: name 'A_2' is not defined"
     ]
    }
   ],
   "source": [
    "asdf = np.column_stack((A_2, A_3, X_o))"
   ]
  },
  {
   "cell_type": "code",
   "execution_count": null,
   "metadata": {},
   "outputs": [
    {
     "data": {
      "text/plain": [
       "array([673.73073073,   0.89      ,   2.66666667])"
      ]
     },
     "execution_count": 29,
     "metadata": {},
     "output_type": "execute_result"
    }
   ],
   "source": [
    "asdf[8788]"
   ]
  },
  {
   "cell_type": "code",
   "execution_count": null,
   "metadata": {},
   "outputs": [],
   "source": [
    "np.save('param', asdf)"
   ]
  },
  {
   "cell_type": "code",
   "execution_count": 18,
   "metadata": {},
   "outputs": [
    {
     "name": "stdout",
     "output_type": "stream",
     "text": [
      "[[(array([0, 1, 2, 3, 4, 5, 6, 7, 8, 9]), array([0, 1, 2, 3, 4, 5, 6, 7, 8, 9]), array([0, 1, 2, 3, 4, 5, 6, 7, 8, 9]))\n",
      "  (array([0, 1, 2, 3, 4, 5, 6, 7, 8, 9]), array([0, 1, 2, 3, 4, 5, 6, 7, 8, 9]), array([0, 1, 2, 3, 4, 5, 6, 7, 8, 9]))\n",
      "  (array([0, 1, 2, 3, 4, 5, 6, 7, 8, 9]), array([0, 1, 2, 3, 4, 5, 6, 7, 8, 9]), array([0, 1, 2, 3, 4, 5, 6, 7, 8, 9]))\n",
      "  (array([0, 1, 2, 3, 4, 5, 6, 7, 8, 9]), array([0, 1, 2, 3, 4, 5, 6, 7, 8, 9]), array([0, 1, 2, 3, 4, 5, 6, 7, 8, 9]))\n",
      "  (array([0, 1, 2, 3, 4, 5, 6, 7, 8, 9]), array([0, 1, 2, 3, 4, 5, 6, 7, 8, 9]), array([0, 1, 2, 3, 4, 5, 6, 7, 8, 9]))\n",
      "  (array([0, 1, 2, 3, 4, 5, 6, 7, 8, 9]), array([0, 1, 2, 3, 4, 5, 6, 7, 8, 9]), array([0, 1, 2, 3, 4, 5, 6, 7, 8, 9]))\n",
      "  0 0 0 0]\n",
      " [(array([0, 1, 2, 3, 4, 5, 6, 7, 8, 9]), array([0, 1, 2, 3, 4, 5, 6, 7, 8, 9]))\n",
      "  (array([0, 1, 2, 3, 4, 5, 6, 7, 8, 9]), array([0, 1, 2, 3, 4, 5, 6, 7, 8, 9]))\n",
      "  (array([0, 1, 2, 3, 4, 5, 6, 7, 8, 9]), array([0, 1, 2, 3, 4, 5, 6, 7, 8, 9]))\n",
      "  0 0 0 0 0 0 0]\n",
      " [0 0 0 0 0 0 0 0 0 0]]\n"
     ]
    }
   ],
   "source": [
    "import numpy as np\n",
    "import itertools\n",
    "\n",
    "# Define the three NumPy arrays with values 0 to 9\n",
    "arr1 = np.array([0, 1, 2, 3, 4, 5, 6, 7, 8, 9])\n",
    "arr2 = arr1.copy()\n",
    "arr3 = arr1.copy()\n",
    "\n",
    "# Create all permutations and combinations of the three arrays\n",
    "permutations = list(itertools.permutations([arr1, arr2, arr3]))\n",
    "combinations = list(itertools.combinations([arr1, arr2, arr3], 2))\n",
    "\n",
    "# Create a 3x10 array to store the results\n",
    "result_array = np.zeros((3, 10), dtype=object)\n",
    "\n",
    "# Fill the result array with permutations and combinations\n",
    "for i, perm in enumerate(permutations[:10]):\n",
    "    result_array[0, i] = perm\n",
    "\n",
    "for i, comb in enumerate(combinations[:10]):\n",
    "    result_array[1, i] = comb\n",
    "\n",
    "# Display the result array\n",
    "print(result_array)"
   ]
  },
  {
   "cell_type": "code",
   "execution_count": null,
   "metadata": {},
   "outputs": [],
   "source": []
  }
 ],
 "metadata": {
  "kernelspec": {
   "display_name": "tf",
   "language": "python",
   "name": "python3"
  },
  "language_info": {
   "codemirror_mode": {
    "name": "ipython",
    "version": 3
   },
   "file_extension": ".py",
   "mimetype": "text/x-python",
   "name": "python",
   "nbconvert_exporter": "python",
   "pygments_lexer": "ipython3",
   "version": "3.9.18"
  }
 },
 "nbformat": 4,
 "nbformat_minor": 2
}
