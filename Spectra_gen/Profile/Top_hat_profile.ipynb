{
 "cells": [
  {
   "cell_type": "code",
   "execution_count": 7,
   "metadata": {},
   "outputs": [],
   "source": [
    "import numpy as np\n",
    "import matplotlib.pyplot as plt\n",
    "\n",
    "import decimal\n",
    "\n",
    "\n",
    "# decimal.getcontext().prec = 5"
   ]
  },
  {
   "cell_type": "code",
   "execution_count": 8,
   "metadata": {},
   "outputs": [],
   "source": [
    "def bolts(A2, A3, x, x_o):\n",
    "    A1 = 303\n",
    "    a = []\n",
    "    y = []\n",
    "    for i in A2:\n",
    "        for k in x_o:\n",
    "            for j in A3:\n",
    "                b = A1 + (i - A1)/(1+np.exp((x-k)/j))\n",
    "                a.append(b)\n",
    "                y.append([i , j, k])\n",
    "    return(np.array(a), np.array(y))"
   ]
  },
  {
   "cell_type": "code",
   "execution_count": 9,
   "metadata": {},
   "outputs": [],
   "source": [
    "def bolts_int(A2, A3, x, x_o):\n",
    "    A1 = 303\n",
    "    b = A1 + (A2-A1)/(1+np.exp((x-x_o)/A3))\n",
    "    return b"
   ]
  },
  {
   "cell_type": "code",
   "execution_count": 10,
   "metadata": {},
   "outputs": [],
   "source": [
    "A2 = 700\n",
    "A3 = .5\n",
    "x_o = 22"
   ]
  },
  {
   "cell_type": "code",
   "execution_count": 11,
   "metadata": {},
   "outputs": [],
   "source": [
    "A2 = np.linspace(303, 773, 25)\n",
    "A3 = np.linspace(0.1, 1, 5)\n",
    "x_o = np.linspace(1, 55, 50)\n",
    "x = np.linspace(0, 55, 5500)\n",
    "\n",
    "# mol = np.linspace(.1, 0.3, 10)"
   ]
  },
  {
   "cell_type": "code",
   "execution_count": 12,
   "metadata": {},
   "outputs": [
    {
     "data": {
      "text/plain": [
       "array([ 1.        ,  2.10204082,  3.20408163,  4.30612245,  5.40816327,\n",
       "        6.51020408,  7.6122449 ,  8.71428571,  9.81632653, 10.91836735,\n",
       "       12.02040816, 13.12244898, 14.2244898 , 15.32653061, 16.42857143,\n",
       "       17.53061224, 18.63265306, 19.73469388, 20.83673469, 21.93877551,\n",
       "       23.04081633, 24.14285714, 25.24489796, 26.34693878, 27.44897959,\n",
       "       28.55102041, 29.65306122, 30.75510204, 31.85714286, 32.95918367,\n",
       "       34.06122449, 35.16326531, 36.26530612, 37.36734694, 38.46938776,\n",
       "       39.57142857, 40.67346939, 41.7755102 , 42.87755102, 43.97959184,\n",
       "       45.08163265, 46.18367347, 47.28571429, 48.3877551 , 49.48979592,\n",
       "       50.59183673, 51.69387755, 52.79591837, 53.89795918, 55.        ])"
      ]
     },
     "execution_count": 12,
     "metadata": {},
     "output_type": "execute_result"
    }
   ],
   "source": [
    "x_o"
   ]
  },
  {
   "cell_type": "code",
   "execution_count": 13,
   "metadata": {},
   "outputs": [],
   "source": [
    "a2 = bolts(A2, A3, x, x_o)"
   ]
  },
  {
   "cell_type": "code",
   "execution_count": 14,
   "metadata": {},
   "outputs": [],
   "source": [
    "e1, e2 = a2"
   ]
  },
  {
   "cell_type": "code",
   "execution_count": 15,
   "metadata": {},
   "outputs": [],
   "source": [
    "e1 = np.array(e1)"
   ]
  },
  {
   "cell_type": "code",
   "execution_count": 16,
   "metadata": {},
   "outputs": [],
   "source": [
    "e2 = np.array(e2)"
   ]
  },
  {
   "cell_type": "code",
   "execution_count": 17,
   "metadata": {},
   "outputs": [
    {
     "data": {
      "text/plain": [
       "array([[303.        , 303.        , 303.        , ..., 303.        ,\n",
       "        303.        , 303.        ],\n",
       "       [303.        , 303.        , 303.        , ..., 303.        ,\n",
       "        303.        , 303.        ],\n",
       "       [303.        , 303.        , 303.        , ..., 303.        ,\n",
       "        303.        , 303.        ],\n",
       "       ...,\n",
       "       [773.        , 773.        , 773.        , ..., 542.27303325,\n",
       "        540.13669325, 538.        ],\n",
       "       [773.        , 773.        , 773.        , ..., 541.03264112,\n",
       "        539.5163837 , 538.        ],\n",
       "       [773.        , 773.        , 773.        , ..., 540.35034898,\n",
       "        539.17520388, 538.        ]])"
      ]
     },
     "execution_count": 17,
     "metadata": {},
     "output_type": "execute_result"
    }
   ],
   "source": [
    "e1"
   ]
  },
  {
   "cell_type": "code",
   "execution_count": 18,
   "metadata": {},
   "outputs": [
    {
     "data": {
      "text/plain": [
       "array([[3.03e+02, 1.00e-01, 1.00e+00],\n",
       "       [3.03e+02, 3.25e-01, 1.00e+00],\n",
       "       [3.03e+02, 5.50e-01, 1.00e+00],\n",
       "       ...,\n",
       "       [7.73e+02, 5.50e-01, 5.50e+01],\n",
       "       [7.73e+02, 7.75e-01, 5.50e+01],\n",
       "       [7.73e+02, 1.00e+00, 5.50e+01]])"
      ]
     },
     "execution_count": 18,
     "metadata": {},
     "output_type": "execute_result"
    }
   ],
   "source": [
    "e2"
   ]
  },
  {
   "cell_type": "code",
   "execution_count": 19,
   "metadata": {},
   "outputs": [
    {
     "data": {
      "text/plain": [
       "[<matplotlib.lines.Line2D at 0x7fb6dbf2d4f0>]"
      ]
     },
     "execution_count": 19,
     "metadata": {},
     "output_type": "execute_result"
    },
    {
     "data": {
      "image/png": "[encoded data removed]",
      "text/plain": [
       "<Figure size 640x480 with 1 Axes>"
      ]
     },
     "metadata": {},
     "output_type": "display_data"
    }
   ],
   "source": [
    "plt.plot(e1[900])"
   ]
  },
  {
   "cell_type": "code",
   "execution_count": 20,
   "metadata": {},
   "outputs": [],
   "source": [
    "from scipy import signal\n",
    "\n",
    "r1 = []\n",
    "for i in e1:\n",
    "    downsampled =  signal.resample(i, 1000)\n",
    "    r1.append(downsampled)\n",
    "\n",
    "r1 = np.array(r1).astype(np.half)"
   ]
  },
  {
   "cell_type": "code",
   "execution_count": 21,
   "metadata": {},
   "outputs": [
    {
     "data": {
      "text/plain": [
       "(6250, 1000)"
      ]
     },
     "execution_count": 21,
     "metadata": {},
     "output_type": "execute_result"
    }
   ],
   "source": [
    "r1.shape"
   ]
  },
  {
   "cell_type": "code",
   "execution_count": 22,
   "metadata": {},
   "outputs": [],
   "source": [
    "np.save('final_profile', r1)"
   ]
  },
  {
   "cell_type": "code",
   "execution_count": 23,
   "metadata": {},
   "outputs": [],
   "source": [
    "np.save('final_param', e2)"
   ]
  },
  {
   "cell_type": "code",
   "execution_count": 24,
   "metadata": {},
   "outputs": [],
   "source": [
    "test = bolts_int(7.73e+02, 1.00e-01, x, 1.00e+00)"
   ]
  },
  {
   "cell_type": "code",
   "execution_count": 25,
   "metadata": {},
   "outputs": [
    {
     "data": {
      "text/plain": [
       "[<matplotlib.lines.Line2D at 0x7fb6c1f29e20>]"
      ]
     },
     "execution_count": 25,
     "metadata": {},
     "output_type": "execute_result"
    },
    {
     "data": {
      "image/png": "[encoded data removed]",
      "text/plain": [
       "<Figure size 640x480 with 1 Axes>"
      ]
     },
     "metadata": {},
     "output_type": "display_data"
    }
   ],
   "source": [
    "plt.plot(test)"
   ]
  },
  {
   "cell_type": "code",
   "execution_count": null,
   "metadata": {},
   "outputs": [],
   "source": []
  }
 ],
 "metadata": {
  "kernelspec": {
   "display_name": "tf",
   "language": "python",
   "name": "python3"
  },
  "language_info": {
   "codemirror_mode": {
    "name": "ipython",
    "version": 3
   },
   "file_extension": ".py",
   "mimetype": "text/x-python",
   "name": "python",
   "nbconvert_exporter": "python",
   "pygments_lexer": "ipython3",
   "version": "3.12.3"
  }
 },
 "nbformat": 4,
 "nbformat_minor": 2
}
