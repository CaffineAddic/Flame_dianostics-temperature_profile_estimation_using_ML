{
 "cells": [
  {
   "cell_type": "code",
   "execution_count": 3,
   "metadata": {},
   "outputs": [],
   "source": [
    "import numpy as np\n",
    "import matplotlib.pyplot as plt\n",
    "\n",
    "import decimal\n",
    "\n",
    "\n",
    "decimal.getcontext().prec = 5"
   ]
  },
  {
   "cell_type": "code",
   "execution_count": 4,
   "metadata": {},
   "outputs": [],
   "source": [
    "def bolts(A2, A3, x, x_o):\n",
    "    A1 = 303\n",
    "    a = []\n",
    "    for i in range(len(A2)):\n",
    "        b = A1 + (A2[i] - A1)/(1+np.exp((x-x_o[i])/A3[i]))\n",
    "        a.append(b)\n",
    "    return(np.array(a))"
   ]
  },
  {
   "cell_type": "code",
   "execution_count": 5,
   "metadata": {},
   "outputs": [],
   "source": [
    "def bolts_int(A2, A3, x, x_o):\n",
    "    A1 = 303\n",
    "    b = A1 + (A2-A1)/(1+np.exp((x-x_o)/A3))\n",
    "    return b"
   ]
  },
  {
   "cell_type": "code",
   "execution_count": 6,
   "metadata": {},
   "outputs": [],
   "source": [
    "A2 = 1300\n",
    "A3 = .5\n",
    "x_o = 22"
   ]
  },
  {
   "cell_type": "code",
   "execution_count": 7,
   "metadata": {},
   "outputs": [],
   "source": [
    "# A2 = np.linspace(303, 773, 50)\n",
    "# A3 = np.linspace(0.01, 1, 50)\n",
    "# x_o = np.linspace(0, 55, 50)\n",
    "x = np.linspace(0, 55, 300)\n",
    "\n",
    "# mol = np.linspace(.1, 0.3, 10)"
   ]
  },
  {
   "cell_type": "code",
   "execution_count": 8,
   "metadata": {},
   "outputs": [],
   "source": [
    "a2 = bolts_int(A2, A3, x, x_o)"
   ]
  },
  {
   "cell_type": "code",
   "execution_count": 9,
   "metadata": {},
   "outputs": [
    {
     "data": {
      "text/plain": [
       "[<matplotlib.lines.Line2D at 0x7f4b186d23f0>]"
      ]
     },
     "execution_count": 9,
     "metadata": {},
     "output_type": "execute_result"
    },
    {
     "data": {
      "image/png": "[encoded data removed]",
      "text/plain": [
       "<Figure size 640x480 with 1 Axes>"
      ]
     },
     "metadata": {},
     "output_type": "display_data"
    }
   ],
   "source": [
    "plt.plot(a2)"
   ]
  },
  {
   "cell_type": "code",
   "execution_count": 11,
   "metadata": {},
   "outputs": [],
   "source": [
    "np.save('profile_test_1',a2)"
   ]
  },
  {
   "cell_type": "code",
   "execution_count": null,
   "metadata": {},
   "outputs": [],
   "source": [
    "# np.save('mol_fra', Mol)"
   ]
  },
  {
   "cell_type": "code",
   "execution_count": null,
   "metadata": {},
   "outputs": [
    {
     "ename": "NameError",
     "evalue": "name 'A_2' is not defined",
     "output_type": "error",
     "traceback": [
      "\u001b[0;31m---------------------------------------------------------------------------\u001b[0m",
      "\u001b[0;31mNameError\u001b[0m                                 Traceback (most recent call last)",
      "\u001b[1;32m/home/saumya/Documents/Flame_dianostics-temperature_profile_estimation_using_ML/Spectra_gen/Profile/Top_hat_profile.ipynb Cell 13\u001b[0m line \u001b[0;36m1\n\u001b[0;32m----> <a href='vscode-notebook-cell:/home/saumya/Documents/Flame_dianostics-temperature_profile_estimation_using_ML/Spectra_gen/Profile/Top_hat_profile.ipynb#X15sZmlsZQ%3D%3D?line=0'>1</a>\u001b[0m asdf \u001b[39m=\u001b[39m np\u001b[39m.\u001b[39mcolumn_stack((A_2, A_3, X_o))\n",
      "\u001b[0;31mNameError\u001b[0m: name 'A_2' is not defined"
     ]
    }
   ],
   "source": [
    "asdf = np.column_stack((A_2, A_3, X_o))"
   ]
  },
  {
   "cell_type": "code",
   "execution_count": null,
   "metadata": {},
   "outputs": [
    {
     "data": {
      "text/plain": [
       "array([673.73073073,   0.89      ,   2.66666667])"
      ]
     },
     "execution_count": 29,
     "metadata": {},
     "output_type": "execute_result"
    }
   ],
   "source": [
    "asdf[8788]"
   ]
  },
  {
   "cell_type": "code",
   "execution_count": null,
   "metadata": {},
   "outputs": [],
   "source": [
    "np.save('param', asdf)"
   ]
  },
  {
   "cell_type": "code",
   "execution_count": null,
   "metadata": {},
   "outputs": [
    {
     "name": "stdout",
     "output_type": "stream",
     "text": [
      "[[(array([0, 1, 2, 3, 4, 5, 6, 7, 8, 9]), array([0, 1, 2, 3, 4, 5, 6, 7, 8, 9]), array([0, 1, 2, 3, 4, 5, 6, 7, 8, 9]))\n",
      "  (array([0, 1, 2, 3, 4, 5, 6, 7, 8, 9]), array([0, 1, 2, 3, 4, 5, 6, 7, 8, 9]), array([0, 1, 2, 3, 4, 5, 6, 7, 8, 9]))\n",
      "  (array([0, 1, 2, 3, 4, 5, 6, 7, 8, 9]), array([0, 1, 2, 3, 4, 5, 6, 7, 8, 9]), array([0, 1, 2, 3, 4, 5, 6, 7, 8, 9]))\n",
      "  (array([0, 1, 2, 3, 4, 5, 6, 7, 8, 9]), array([0, 1, 2, 3, 4, 5, 6, 7, 8, 9]), array([0, 1, 2, 3, 4, 5, 6, 7, 8, 9]))\n",
      "  (array([0, 1, 2, 3, 4, 5, 6, 7, 8, 9]), array([0, 1, 2, 3, 4, 5, 6, 7, 8, 9]), array([0, 1, 2, 3, 4, 5, 6, 7, 8, 9]))\n",
      "  (array([0, 1, 2, 3, 4, 5, 6, 7, 8, 9]), array([0, 1, 2, 3, 4, 5, 6, 7, 8, 9]), array([0, 1, 2, 3, 4, 5, 6, 7, 8, 9]))\n",
      "  0 0 0 0]\n",
      " [(array([0, 1, 2, 3, 4, 5, 6, 7, 8, 9]), array([0, 1, 2, 3, 4, 5, 6, 7, 8, 9]))\n",
      "  (array([0, 1, 2, 3, 4, 5, 6, 7, 8, 9]), array([0, 1, 2, 3, 4, 5, 6, 7, 8, 9]))\n",
      "  (array([0, 1, 2, 3, 4, 5, 6, 7, 8, 9]), array([0, 1, 2, 3, 4, 5, 6, 7, 8, 9]))\n",
      "  0 0 0 0 0 0 0]\n",
      " [0 0 0 0 0 0 0 0 0 0]]\n"
     ]
    }
   ],
   "source": [
    "import numpy as np\n",
    "import itertools\n",
    "\n",
    "# Define the three NumPy arrays with values 0 to 9\n",
    "arr1 = np.array([0, 1, 2, 3, 4, 5, 6, 7, 8, 9])\n",
    "arr2 = arr1.copy()\n",
    "arr3 = arr1.copy()\n",
    "\n",
    "# Create all permutations and combinations of the three arrays\n",
    "permutations = list(itertools.permutations([arr1, arr2, arr3]))\n",
    "combinations = list(itertools.combinations([arr1, arr2, arr3], 2))\n",
    "\n",
    "# Create a 3x10 array to store the results\n",
    "result_array = np.zeros((3, 10), dtype=object)\n",
    "\n",
    "# Fill the result array with permutations and combinations\n",
    "for i, perm in enumerate(permutations[:10]):\n",
    "    result_array[0, i] = perm\n",
    "\n",
    "for i, comb in enumerate(combinations[:10]):\n",
    "    result_array[1, i] = comb\n",
    "\n",
    "# Display the result array\n",
    "print(result_array)"
   ]
  },
  {
   "cell_type": "code",
   "execution_count": null,
   "metadata": {},
   "outputs": [],
   "source": []
  }
 ],
 "metadata": {
  "kernelspec": {
   "display_name": "tf",
   "language": "python",
   "name": "python3"
  },
  "language_info": {
   "codemirror_mode": {
    "name": "ipython",
    "version": 3
   },
   "file_extension": ".py",
   "mimetype": "text/x-python",
   "name": "python",
   "nbconvert_exporter": "python",
   "pygments_lexer": "ipython3",
   "version": "3.12.3"
  }
 },
 "nbformat": 4,
 "nbformat_minor": 2
}
