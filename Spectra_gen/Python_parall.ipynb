{
 "cells": [
  {
   "cell_type": "code",
   "execution_count": 4,
   "metadata": {},
   "outputs": [
    {
     "name": "stdout",
     "output_type": "stream",
     "text": [
      "Program finished in 0.10538015400015865 seconds - using multiprocessing\n",
      "---\n"
     ]
    }
   ],
   "source": [
    "from multiprocessing import Pool\n",
    "import time\n",
    "import math\n",
    "import numpy as np\n",
    "\n",
    "N = 5000000\n",
    "\n",
    "def cube(x):\n",
    "    # y = 10 + 10j\n",
    "    return math.sqrt(x)\n",
    "\n",
    "if __name__ == \"__main__\":\n",
    "    # first way, using multiprocessing\n",
    "    start_time = time.perf_counter()\n",
    "    with Pool() as pool:\n",
    "      result = pool.map(cube, np.linspace(1500, 2200, 10))\n",
    "    finish_time = time.perf_counter()\n",
    "    print(\"Program finished in {} seconds - using multiprocessing\".format(finish_time-start_time))\n",
    "    print(\"---\")\n",
    "    # # second way, serial computation\n",
    "    # start_time = time.perf_counter()\n",
    "    # result = []\n",
    "    # for x in np.linspace(1500, 2200, 40000):\n",
    "    #   result.append(cube(x))\n",
    "    # finish_time = time.perf_counter()\n",
    "    # print(\"Program finished in {} seconds\".format(finish_time-start_time))\n"
   ]
  },
  {
   "cell_type": "code",
   "execution_count": 5,
   "metadata": {},
   "outputs": [
    {
     "data": {
      "text/plain": [
       "[38.72983346207417,\n",
       " 39.72125095937662,\n",
       " 40.688518719112345,\n",
       " 41.63331998932265,\n",
       " 42.55715111601235,\n",
       " 43.46134936801766,\n",
       " 44.3471156521669,\n",
       " 45.21553322083512,\n",
       " 46.06758320361751,\n",
       " 46.9041575982343]"
      ]
     },
     "execution_count": 5,
     "metadata": {},
     "output_type": "execute_result"
    }
   ],
   "source": [
    "result"
   ]
  },
  {
   "cell_type": "code",
   "execution_count": null,
   "metadata": {},
   "outputs": [
    {
     "data": {
      "text/plain": [
       "range(10, 5000000)"
      ]
     },
     "metadata": {},
     "output_type": "display_data"
    }
   ],
   "source": [
    "range(10,N)"
   ]
  },
  {
   "cell_type": "code",
   "execution_count": null,
   "metadata": {},
   "outputs": [],
   "source": [
    "import numpy as np\n",
    "\n",
    "\n",
    "a = np.linspace(1500, 2200, 40000)"
   ]
  },
  {
   "cell_type": "code",
   "execution_count": null,
   "metadata": {},
   "outputs": [
    {
     "data": {
      "text/plain": [
       "1675.0043751093776"
      ]
     },
     "metadata": {},
     "output_type": "display_data"
    }
   ],
   "source": [
    "a[-30000]"
   ]
  },
  {
   "cell_type": "code",
   "execution_count": null,
   "metadata": {},
   "outputs": [],
   "source": []
  }
 ],
 "metadata": {
  "kernelspec": {
   "display_name": "tf",
   "language": "python",
   "name": "python3"
  },
  "language_info": {
   "codemirror_mode": {
    "name": "ipython",
    "version": 3
   },
   "file_extension": ".py",
   "mimetype": "text/x-python",
   "name": "python",
   "nbconvert_exporter": "python",
   "pygments_lexer": "ipython3",
   "version": "3.9.18"
  }
 },
 "nbformat": 4,
 "nbformat_minor": 2
}
