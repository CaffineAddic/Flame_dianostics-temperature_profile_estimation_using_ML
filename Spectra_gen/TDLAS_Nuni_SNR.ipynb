{
 "cells": [
  {
   "cell_type": "markdown",
   "id": "5cfc925a-8e3f-4141-869d-53944f56cdf9",
   "metadata": {},
   "source": [
    "# Python translation to the TDLAS MATLAB code with annotation and validation"
   ]
  },
  {
   "cell_type": "markdown",
   "id": "7bc618fd",
   "metadata": {},
   "source": [
    "# Python translation to the TDLAS MATLAB code with annotation and validation"
   ]
  },
  {
   "cell_type": "markdown",
   "id": "14f9a35a-a90a-4b52-bc93-c5a7d3dd8feb",
   "metadata": {},
   "source": [
    "The script version of code contains individual py files, for function definitions, input definitions and main code.  Here, they are combined in systematic order along with anootations on the equations and methods being used in the code\n",
    "\n",
    "The variable and function names used in this script are the same as the ones used in MATLAB, the variable names may not be appropriate at some locations."
   ]
  },
  {
   "cell_type": "markdown",
   "id": "3787ce10-7df9-4c33-b510-4ff00e97017b",
   "metadata": {},
   "source": [
    "## Input parameters definition"
   ]
  },
  {
   "cell_type": "markdown",
   "id": "e8d527d2-d638-4c31-8907-1bf09a62676d",
   "metadata": {},
   "source": [
    "This section contains the definitions of parameters that are used in the computation"
   ]
  },
  {
   "cell_type": "code",
   "execution_count": 1,
   "id": "1f97212a-f079-419a-b5cd-48e15e890b15",
   "metadata": {
    "metadata": {}
   },
   "outputs": [],
   "source": [
    "# HITRAN database filename\n",
    "\n",
    "loc_file = '/home/saumya/Documents/Flame_dianostics-temperature_profile_estimation_using_ML/spec_data/data_new/'\n",
    "\n",
    "HITRAN_filename       = loc_file + '01_7000-7500_HITEMP2010_7443.2-7445.5.par'\n",
    "\n",
    "# partition filename\n",
    "PART_filename         = \"q1.txt\"\n",
    "\n",
    "# minimum and maximum wave numbers in cm^-1\n",
    "nu_1_min              = 7443.9\n",
    "nu_1_max              = 7445.1\n",
    "\n",
    "# number of terms between min ans max wave numbers to be considered\n",
    "N_nu_range            = 3000\n",
    "\n",
    "# total radial distance in cm and radial step size\n",
    "total_radial_distance = 55\n",
    "freq = 1000\n",
    "delta_x               = 55/freq\n",
    "\n",
    "# parameters for temperature and mole fraction fields construction-------------\n",
    "# maximum flame temperature and ambient temperature\n",
    "T_mag_uni_field       = A1 = 950.0\n",
    "A2                    = 300.0\n",
    "\n",
    "# location where flame temperature reaches half the maximum temperature\n",
    "X0                    = 6.0*total_radial_distance/7.0\n",
    "\n",
    "# gradient of the transition region\n",
    "A3                    = 0.06\n",
    "\n",
    "# maximum and ambient mole fraction of water vapour\n",
    "x_mag_uni_field       = B1 = 0.095\n",
    "B2                    = 0.028"
   ]
  },
  {
   "cell_type": "markdown",
   "id": "562d43b7-43d3-491e-af0e-3c76a6e19e59",
   "metadata": {},
   "source": [
    "Following are the constants used in the work"
   ]
  },
  {
   "cell_type": "code",
   "execution_count": 2,
   "id": "3688177e-32b8-4c7a-99c0-c512f4ceebb7",
   "metadata": {
    "metadata": {}
   },
   "outputs": [],
   "source": [
    "# reference temperature\n",
    "T0 = 296.0\n",
    "\n",
    "# Plank's constant\n",
    "h  = 6.62607004e-34\n",
    "\n",
    "# speed of light in cm/s in vacuum\n",
    "c  = 29979245800\n",
    "\n",
    "# Boltzmann constant\n",
    "k  = 1.38064852e-23\n",
    "\n",
    "# molar mass of water\n",
    "M  = 18.01\n",
    "\n",
    "P  = 1 #  <----------- DOUBT   /unit =  ATM\n",
    "\n",
    "# Avogadro number\n",
    "Na = 6.02214076e23"
   ]
  },
  {
   "cell_type": "markdown",
   "id": "b2f793f3-8546-41f9-9a86-d80b1e3a087c",
   "metadata": {},
   "source": [
    "___\n",
    "\n",
    "## Importing libraries/modules "
   ]
  },
  {
   "cell_type": "markdown",
   "id": "194beba4-e62d-42d6-9043-293cb85bd37b",
   "metadata": {},
   "source": [
    "The needed modules and libraries are imported in this section"
   ]
  },
  {
   "cell_type": "code",
   "execution_count": 3,
   "id": "81b01c05-5964-4d45-968f-8c2c8e0d762a",
   "metadata": {
    "metadata": {}
   },
   "outputs": [],
   "source": [
    "import numpy as np\n",
    "import pandas as pd\n",
    "import matplotlib.pyplot as plt\n",
    "from scipy.special import wofz     # Voigt function\n",
    "\n",
    "\n",
    "\n",
    "from multiprocessing import Pool\n",
    "from tqdm import *"
   ]
  },
  {
   "cell_type": "markdown",
   "id": "bde97264-0675-4e5a-80c5-f4bc17932524",
   "metadata": {
    "tags": []
   },
   "source": [
    "___\n",
    "\n",
    "## Function definitions"
   ]
  },
  {
   "cell_type": "markdown",
   "id": "54e65869-9ce8-4ebc-a9c7-627507634410",
   "metadata": {
    "tags": []
   },
   "source": [
    "### HITRAN database reader function"
   ]
  },
  {
   "cell_type": "markdown",
   "id": "643304b4-a14f-4ea5-a6bb-adebf05436cd",
   "metadata": {},
   "source": [
    "This function was developed to read the Hi-resolution Tranmission database file for the chosen species of H2O.\n",
    "This will return the pandas dataframe with all the columns "
   ]
  },
  {
   "cell_type": "code",
   "execution_count": 4,
   "id": "390c87c3-989f-43b0-a9d5-9039a58954d6",
   "metadata": {
    "metadata": {}
   },
   "outputs": [],
   "source": [
    "def HITRAN_reader(fname):\n",
    "\n",
    "    # reading all file contents\n",
    "    fid = open(fname,\"r\")\n",
    "    lines = fid.readlines()\n",
    "\n",
    "    # preparing lists to store line values\n",
    "    molNo_list = []; isoNo_list = []; transitionWaveNo_list = []\n",
    "    lineIntensity_list = []; einsteinACoeff_list = []; airBroadenedWidth_list = []\n",
    "    selfBroadenedWidth_list = []; lowEState_list = []; tempCoeff_list = []\n",
    "    pressureShift_list = []; upperVibQuanta_list = []; lowerVibQuanta_list = []\n",
    "    upperLocalQuanta_list = []; lowerLocalQuanta_list = []; errorCodes_list = []\n",
    "    referenceCodes_list = []; flagLineMixing_list = []\n",
    "    upperStatisticalWeight_list = []; lowerStatisticalWeight_list = []\n",
    "\n",
    "\n",
    "    # looping through the lines to read individual data\n",
    "    for line in lines:\n",
    "        # setting starting read position on the string\n",
    "        idx = 0\n",
    "\n",
    "        # reading molecule number\n",
    "        molNo = int(float(line[idx:idx+2]))\n",
    "        idx+=2\n",
    "\n",
    "        # isotopologue number\n",
    "        isoNo = int(float(line[idx:idx+1]))\n",
    "        idx+=1\n",
    "\n",
    "        # transition wavenumber / vaccum wavenumber\n",
    "        transitionWaveNo = float(line[idx:idx+12])\n",
    "        idx+=12\n",
    "\n",
    "        # line intensity\n",
    "        lineIntensity = float(line[idx:idx+10])\n",
    "        idx+=10\n",
    "\n",
    "        # einstein A-coefficient\n",
    "        einsteinACoeff = float(line[idx:idx+10])\n",
    "        idx+=10\n",
    "\n",
    "        # air-broadened half width / air-broadened width\n",
    "        airBroadenedWidth = float(line[idx:idx+5])\n",
    "        idx+=5\n",
    "\n",
    "        # self-broadened half width / self-broadened width\n",
    "        selfBroadenedWidth = float(line[idx:idx+5])\n",
    "        idx+=5\n",
    "\n",
    "        # lower energy state\n",
    "        lowEState = float(line[idx:idx+10])\n",
    "        idx+=10\n",
    "\n",
    "        # temperature dependence coefficient\n",
    "        tempCoeff = float(line[idx:idx+4])\n",
    "        idx+=4\n",
    "\n",
    "        # pressure shift / air-pressure-induced line shift\n",
    "        pressureShift = float(line[idx:idx+8])\n",
    "        idx+=8\n",
    "\n",
    "        # upper vibrational quanta / upper-state \"global\" quanta\n",
    "        upperVibQuanta = line[idx:idx+15]\n",
    "        idx+=15\n",
    "\n",
    "        # lower vibrational quanta / lower-state \"global\" quanta\n",
    "        lowerVibQuanta = line[idx:idx+15]\n",
    "        idx+=15\n",
    "\n",
    "        # upper local quanta / upper-state \"local\" quanta\n",
    "        upperLocalQuanta = line[idx:idx+15]\n",
    "        idx+=15\n",
    "\n",
    "        # lower local quanta / lower-state \"local\" quanta\n",
    "        lowerLocalQuanta = line[idx:idx+15]\n",
    "        idx+=15\n",
    "\n",
    "        # error codes / uncertainity indices\n",
    "        errorCodes = line[idx:idx+6]\n",
    "        idx+=6\n",
    "\n",
    "        # reference codes / reference indices\n",
    "        referenceCodes = line[idx:idx+12]\n",
    "        idx+=12\n",
    "\n",
    "        # flag for lineMixing / Flag\n",
    "        flagLineMixing = line[idx:idx+1]\n",
    "        idx+=1\n",
    "\n",
    "        # upper statistical weight / statistical weight for the upper state\n",
    "        upperStatisticalWeight = float(line[idx:idx+7])\n",
    "        idx+=7\n",
    "\n",
    "        # lower statistical weight / statistical weight for the lower state\n",
    "        lowerStatisticalWeight = float(line[idx:idx+7])\n",
    "        idx+=7\n",
    "\n",
    "        # appending read values to the lists\n",
    "        molNo_list.append(molNo)\n",
    "        isoNo_list.append(isoNo)\n",
    "        transitionWaveNo_list.append(transitionWaveNo)\n",
    "        lineIntensity_list.append(lineIntensity)\n",
    "        einsteinACoeff_list.append(einsteinACoeff)\n",
    "        airBroadenedWidth_list.append(airBroadenedWidth)\n",
    "        selfBroadenedWidth_list.append(selfBroadenedWidth)\n",
    "        lowEState_list.append(lowEState)\n",
    "        tempCoeff_list.append(tempCoeff)\n",
    "        pressureShift_list.append(pressureShift)\n",
    "        upperVibQuanta_list.append(upperVibQuanta)\n",
    "        lowerVibQuanta_list.append(lowerVibQuanta)\n",
    "        upperLocalQuanta_list.append(upperLocalQuanta)\n",
    "        lowerLocalQuanta_list.append(lowerLocalQuanta)\n",
    "        errorCodes_list.append(errorCodes)\n",
    "        referenceCodes_list.append(referenceCodes)\n",
    "        flagLineMixing_list.append(flagLineMixing)\n",
    "        upperStatisticalWeight_list.append(upperStatisticalWeight)\n",
    "        lowerStatisticalWeight_list.append(lowerStatisticalWeight)\n",
    "\n",
    "        #  break\n",
    "\n",
    "    # column names for pandas dataframe\n",
    "    colNames = [\"moleculeNumber\",\"isotopologueNumber\",\"transisionWaveNumber\",\n",
    "                \"lineIntensity\",\"einsteinACoefficient\",\"airBroadenedWidth\",\n",
    "                \"selfBroadenedWidth\",\"lowerStateEnergy\",\"temperatureDependence\",\n",
    "                \"pressureShift\",\"upperVibrationalQuanta\",\"lowerVibrationalQuanta\",\n",
    "                \"upperLocalQuanta\",\"lowerLocalQuanta\",\"errorCodes\",\n",
    "                \"referenceCodes\",\"flagForLineMixing\",\"upperStatisticalWeight\",\n",
    "                \"lowerStatisticalWeight\"]\n",
    "\n",
    "    # preparing dataframe\n",
    "    fid = pd.DataFrame(np.transpose([molNo_list,isoNo_list,transitionWaveNo_list,\n",
    "                                     lineIntensity_list,einsteinACoeff_list,\n",
    "                                     airBroadenedWidth_list,selfBroadenedWidth_list,\n",
    "                                     lowEState_list,tempCoeff_list,pressureShift_list,\n",
    "                                     upperVibQuanta_list,lowerVibQuanta_list,\n",
    "                                     upperLocalQuanta_list,lowerLocalQuanta_list,\n",
    "                                     errorCodes_list,referenceCodes_list,flagLineMixing_list,\n",
    "                                     upperStatisticalWeight_list,lowerStatisticalWeight_list]),\n",
    "                       columns = colNames)\n",
    "\n",
    "    # writing dataframe to csv file\n",
    "    fid.to_csv(\"HITEMP_data.csv\", index = None)\n",
    "\n",
    "    # returning dataframe\n",
    "    return fid"
   ]
  },
  {
   "cell_type": "markdown",
   "id": "dddebca8-315a-40d0-b36e-2c2fd4a6fd82",
   "metadata": {},
   "source": [
    "### Partition function interpolator"
   ]
  },
  {
   "cell_type": "markdown",
   "id": "52e38124-24cb-45e2-94e9-8dea13b97292",
   "metadata": {},
   "source": [
    "This function interpolates the partition function values over a range of temperatures and obtains the interpolated value for the given temperature"
   ]
  },
  {
   "cell_type": "code",
   "execution_count": 5,
   "id": "6517a4c5-3cb0-41ef-b07e-33f1176f06aa",
   "metadata": {
    "metadata": {}
   },
   "outputs": [],
   "source": [
    "def Q_func(T, T_series, Q_series):\n",
    "    \"\"\"\n",
    "    This function obtains the value of partition function for given temperature\n",
    "    through linear interpolation\n",
    "\n",
    "    T        - given input temperature\n",
    "    T_series - series of temperature values from database\n",
    "    Q_series - series of partition function values corresponding to each\n",
    "               temperature in the database\n",
    "    \"\"\"\n",
    "\n",
    "    return np.interp(T,T_series,Q_series)"
   ]
  },
  {
   "cell_type": "markdown",
   "id": "f214c4eb-a0ba-4d5b-a34b-d7de87c6f105",
   "metadata": {},
   "source": [
    "### Line strength function"
   ]
  },
  {
   "cell_type": "markdown",
   "id": "24639663-6950-4a2a-9de8-7bd24a6f3a98",
   "metadata": {},
   "source": [
    "This function computes the line strength using the following equation \n",
    "$$ S(T) = S(T_0) \\frac{Q(T_0)}{Q(T)}\\frac{T_0}{T} exp\\left(\\frac{-h c E\"}{k}\\left(\\frac{1}{T}-\\frac{1}{T_0}\\right)\\right)\\frac{\\left[1 - exp\\left(\\frac{-h c \\nu_0}{k T}\\right)\\right]}{\\left[1 - exp\\left(\\frac{-h c \\nu_0}{k T_0}\\right)\\right]}$$"
   ]
  },
  {
   "cell_type": "code",
   "execution_count": 6,
   "id": "52426625-020b-416f-9b28-cf36433b186e",
   "metadata": {
    "metadata": {}
   },
   "outputs": [],
   "source": [
    "def lineStrength(S0, nu0, Edd, T, fid_Q):\n",
    "    \"\"\"\n",
    "    This function computes the line strength of a particular transition\n",
    "    at a given temperature\n",
    "\n",
    "    equation has been split into 4 parts for ease of programming\n",
    "    \"\"\"\n",
    "\n",
    "    part_1 = Q_func(T0,fid_Q[\"T\"],fid_Q[\"Q\"])/Q_func(T,fid_Q[\"T\"],fid_Q[\"Q\"])\n",
    "    part_2 = T0/T*np.exp(-h*c/k*Edd*(1/T - 1/T0))\n",
    "    part_3 = 1 - np.exp(-h*c*nu0/k/T)\n",
    "    part_4 = 1 - np.exp(-h*c*nu0/k/T0)\n",
    "\n",
    "    S = S0*part_1*part_2*part_3/part_4\n",
    "\n",
    "    return S"
   ]
  },
  {
   "cell_type": "markdown",
   "id": "ff779cda-13dc-42a4-b973-c5e39e3902e1",
   "metadata": {},
   "source": [
    "### Spectral absorption coefficient function"
   ]
  },
  {
   "cell_type": "markdown",
   "id": "a50fcd4d-1c3f-4c68-9561-80222e3e4c84",
   "metadata": {},
   "source": [
    "This function computes the spectral absorption coefficient for a given x over all the wave numbers\n",
    "\n",
    "Here, \n",
    "the $a$  equation is given below, it describes the gausian half-width at half maximum value\n",
    "$$ a = 2 \\sqrt{log(2)} \\frac{\\nu - \\nu_0}{\\alpha_G} $$\n",
    "\n",
    "the $w$ equation which describes the lorenztian half-width at half maximum is given below\n",
    "$$ w = \\sqrt{log(2)} \\frac{\\alpha_L}{\\alpha_G} $$\n",
    "\n",
    "Then the $\\phi$ function value is computed with the equation described below\n",
    "$$ \\phi(\\nu) = \\frac{2}{\\alpha_G}\\sqrt{\\frac{log(2)}{\\pi}}V(z) \\; \\; \\; \\forall \\; \\; \\; z = a + w i $$\n",
    "\n",
    "Finally, the value of spectral absorption coefficient is computed by the dot product of (line intensity, mole fraction and presure) and the $\\phi$ function as given below\n",
    "$$ K(x) = \\left(S(T) \\times \\chi \\times P\\right) . \\phi(\\nu,T) $$\n",
    "\n",
    "The name of the function is given as per the MATLAB code, \n"
   ]
  },
  {
   "cell_type": "code",
   "execution_count": 7,
   "id": "0df39ea5-36b1-49ce-8264-7f6644175014",
   "metadata": {
    "metadata": {}
   },
   "outputs": [],
   "source": [
    "def voigt(dat, nu0, s, delnu_g, delnu_l):\n",
    "    \"\"\"\n",
    "    this function computes value of K (spectral absorption coefficient)\n",
    "    at given X location for all wave numbers.\n",
    "\n",
    "    The name of this program function is given  as per the matlab code\n",
    "    \"\"\"\n",
    "\n",
    "    # computing difference between chosen wavenumber ranges and wave number\n",
    "    # from the HITRAN database\n",
    "    \"\"\" for this, the matrix is obtained by subtracting each element of one\n",
    "    arrau over each other elements of the other array\"\"\"\n",
    "    vv0 = nu0 - dat.reshape(dat.shape[0],1) #  it is (nu-nu0) in the equation\n",
    "\n",
    "    # computing \"a\" equation from problem definition\n",
    "    \"\"\"\n",
    "    DOUBT:\n",
    "    here a 2 is missing in the code but present in the pblm definition\n",
    "    \"\"\"\n",
    "    a = np.sqrt(np.log(2))*vv0/delnu_g\n",
    "\n",
    "    # computing \"w\" equation from problem definition\n",
    "    w = np.sqrt(np.log(2))*np.ones([dat.shape[0],1])*delnu_l/delnu_g\n",
    "\n",
    "    # combining w and a into a complex function to feed it to voigt function\n",
    "    z = a+w*1j\n",
    "\n",
    "    # computing phi function\n",
    "    \"\"\"\n",
    "    DOUBT:\n",
    "    here a 2 is missing in the code but present in the pblm definition\n",
    "    \"\"\"\n",
    "    phi = 1/delnu_g*np.sqrt(np.log(2)/np.pi)*wofz(z)\n",
    "\n",
    "    # computing the K function in problem definition for current X value\n",
    "    K = np.matmul(np.real(phi),s)\n",
    "\n",
    "    return K\n"
   ]
  },
  {
   "cell_type": "markdown",
   "id": "30c2e9c4-7e8c-4efd-9d59-300fd595e3fa",
   "metadata": {},
   "source": [
    "___\n",
    "\n",
    "## Computing the Non-uniform Absorption Spectra"
   ]
  },
  {
   "cell_type": "markdown",
   "id": "642ca750-5946-49c1-a895-8e62fecfc1ff",
   "metadata": {},
   "source": [
    "Reading the HITRAN database and the partition function table"
   ]
  },
  {
   "cell_type": "code",
   "execution_count": 8,
   "id": "bd34385a-656c-443d-aa1a-8bd07e6245f9",
   "metadata": {
    "metadata": {}
   },
   "outputs": [],
   "source": [
    "# reading data from HITRAN file\n",
    "fid_HITRAN = HITRAN_reader(HITRAN_filename)\n",
    "\n",
    "# reading Partition function table\n",
    "fid_Q = pd.read_csv(PART_filename, header = None, delim_whitespace = True,\n",
    "                    names = [\"T\",\"Q\"])"
   ]
  },
  {
   "cell_type": "markdown",
   "id": "13c379fd-c1e3-419a-86a0-2caedaeab0ed",
   "metadata": {},
   "source": [
    "Extracting individual columns of data from the database and computing a range of wave numbers between the given min and max ranges"
   ]
  },
  {
   "cell_type": "code",
   "execution_count": 9,
   "id": "fa468d14-5442-4da8-88f6-3cad3fc14a38",
   "metadata": {
    "metadata": {}
   },
   "outputs": [],
   "source": [
    "# reading data from the database file\n",
    "# center wavenumber\n",
    "nu0  = fid_HITRAN[\"transisionWaveNumber\"].to_numpy().astype(\"float64\")\n",
    "# reference line strength\n",
    "s0   = fid_HITRAN[\"lineIntensity\"].to_numpy().astype(\"float64\")\n",
    "# air-broadened width\n",
    "g_a0 = fid_HITRAN[\"airBroadenedWidth\"].to_numpy().astype(\"float64\")\n",
    "# self-broadened width\n",
    "g_s0 = fid_HITRAN[\"selfBroadenedWidth\"].to_numpy().astype(\"float64\")\n",
    "# lower state energy\n",
    "Edd0 = fid_HITRAN[\"lowerStateEnergy\"].to_numpy().astype(\"float64\")\n",
    "# temperature dependence exponent\n",
    "n    = fid_HITRAN[\"temperatureDependence\"].to_numpy().astype(\"float64\")\n",
    "# pressure shift coefficient\n",
    "d0   = fid_HITRAN[\"pressureShift\"].to_numpy().astype(\"float64\")\n",
    "\n",
    "# computing a range of wave numbers\n",
    "dat1 = np.linspace(nu_1_min, nu_1_max, N_nu_range)"
   ]
  },
  {
   "cell_type": "markdown",
   "id": "ac6fdd19-3c2c-4037-8b39-c182262be39e",
   "metadata": {},
   "source": [
    "Filtering the entries from database based on the following criteria\n",
    "- line intensity should be greater than $10^{-30}$\n",
    "- dropping extreme wave numbers "
   ]
  },
  {
   "cell_type": "code",
   "execution_count": 10,
   "id": "09db7a58-daee-474a-b23f-547e340a8a80",
   "metadata": {
    "metadata": {}
   },
   "outputs": [],
   "source": [
    "# selecting the indices of entries with nu0 falling b/w extreme nu values and\n",
    "# with line intensity <= 10^-30\n",
    "index1 = (nu0 > nu_1_min) & (nu0 < nu_1_max)\n",
    "index2 = s0 > 1e-35\n",
    "index  = index1 & index2\n",
    "\n",
    "nu1   = nu0[index]\n",
    "s01   = s0[index]\n",
    "g_a01 = g_a0[index]\n",
    "g_s01 = g_s0[index]\n",
    "Edd1  = Edd0[index]\n",
    "n1    = n[index]\n",
    "d01   = d0[index]"
   ]
  },
  {
   "cell_type": "markdown",
   "id": "6adbff74-e886-4a27-922c-1e91a4b9e2ef",
   "metadata": {},
   "source": [
    "pressure is taken to be contstant, hence, multiplying the line strength with pressure and some conversion factor"
   ]
  },
  {
   "cell_type": "code",
   "execution_count": 11,
   "id": "06ef1bcb-236d-4d2f-a2f2-13d906d06dc7",
   "metadata": {
    "metadata": {}
   },
   "outputs": [],
   "source": [
    "S0 = s01*2.479371939e19*P #  <-------------- DOUBT       UNIT CONVERSION"
   ]
  },
  {
   "cell_type": "code",
   "execution_count": 12,
   "id": "9a2fa4c7",
   "metadata": {
    "metadata": {}
   },
   "outputs": [],
   "source": [
    "def repeat(arr, count):\n",
    "    return np.ravel(np.stack([arr for _ in range(count)], axis=0))"
   ]
  },
  {
   "cell_type": "code",
   "execution_count": 13,
   "id": "1336d716",
   "metadata": {
    "metadata": {}
   },
   "outputs": [],
   "source": [
    "def run_apply_async_multiprocessing(func, argument_list, num_processes):\n",
    "\n",
    "    pool = Pool(processes=num_processes)\n",
    "\n",
    "    jobs = [pool.apply_async(func=func, args=(*argument,)) if isinstance(argument, tuple) else pool.apply_async(func=func, args=(argument,)) for argument in argument_list]\n",
    "    pool.close()\n",
    "    result_list_tqdm = []\n",
    "    for job in tqdm(jobs):\n",
    "        result_list_tqdm.append(job.get())\n",
    "\n",
    "    return result_list_tqdm"
   ]
  },
  {
   "cell_type": "markdown",
   "id": "a1ec7d5b-6a16-4d83-9385-113e2cbf3e79",
   "metadata": {},
   "source": [
    "Constructing the temperature and mole fraction profiles along with discretizing the x-locations"
   ]
  },
  {
   "cell_type": "code",
   "execution_count": 14,
   "id": "36e5cb05",
   "metadata": {
    "metadata": {}
   },
   "outputs": [],
   "source": [
    "def calc_abs(loc=700, xor=0.026, *args, **kwargs):\n",
    "    # temperature and mole fraction fields construction----------------------------\n",
    "\n",
    "    # loc_pro = loc\n",
    "    # name = 'Temp_profile.npy'\n",
    "\n",
    "    # Temp_pofiles = np.load(loc_pro + name)\n",
    "\n",
    "    # discretized radial distance\n",
    "    X = np.arange(0,total_radial_distance+delta_x,delta_x)\n",
    "\n",
    "    # non uniform temperature field\n",
    "    # Tnon = A2+(A1-A2)/(1+np.exp((X-X0)/A3))\n",
    "\n",
    "    Tnon = loc*np.ones((freq))\n",
    "\n",
    "    # Tnon = Temp_pofiles[100]\n",
    "\n",
    "    # non uniform mole fraction field\n",
    "    # xnon = B2+(B1-B2)/(1+np.exp((X-X0)/A3))\n",
    "\n",
    "    xnon = np.ones((freq))*xor\n",
    "\n",
    "\n",
    "    # obtaining the size of s0 and Tnon for 2D array pre-allocations\n",
    "    ns = S0.shape[0]\n",
    "    nt = Tnon.shape[0] - 1 #  <----------------- DOUBT, nt+1 is actually nx,,    it is due to section of absorbance... \n",
    "\n",
    "    # preallocating 2d arrays\n",
    "    s       = np.zeros([nt,ns]) # line strength\n",
    "    d       = np.zeros([nt,ns]) # pressure shift coefficient\n",
    "    g_a     = np.zeros([nt,ns]) # air broadened width\n",
    "    g_s     = np.zeros([nt,ns]) # self broadened width\n",
    "    nu0_s   = np.zeros([nt,ns]) # shifted center-wavenumber\n",
    "    delnu_g = np.zeros([nt,ns]) # gaussian half-width at halft maximum\n",
    "    delnu_l = np.zeros([nt,ns]) # lorentzian half-width at halft maximum\n",
    "\n",
    "    # computing spatial step size\n",
    "    dx = np.diff(X)\n",
    "\n",
    "\n",
    "    # looping through all x-locations and given line intensities\n",
    "    for i in range(ns):\n",
    "        for j in range(nt):\n",
    "            # getting current mole fractionp.shape(Abs).shapen value\n",
    "            x = xnon[j]\n",
    "\n",
    "            # computing the pressure shift coefficient\n",
    "            d[j,i] = d01[i]*(T0/Tnon[j])**0.96\n",
    "\n",
    "            # air broadened width\n",
    "            g_a[j,i] = g_a01[i]*(T0/Tnon[j])**n1[i]\n",
    "\n",
    "            # self broadened width\n",
    "            g_s[j,i] = g_s01[i]*(T0/Tnon[j])**0.75\n",
    "\n",
    "            # shifted center wave nuber\n",
    "            nu0_s[j,i] = nu1[i] + P*(1-x)*d[j,i]\n",
    "\n",
    "            # line strength\n",
    "            s[j,i] = lineStrength(S0[i], nu0_s[j,i], Edd1[i], Tnon[j], fid_Q)*dx[j]*x\n",
    "\n",
    "            # gaussian HWHM\n",
    "            delnu_g[j,i] = np.sqrt(2*k*np.log(2)*Na/c**2*1000*10**4)*nu0_s[j,i]*np.sqrt(Tnon[j]/M)\n",
    "            # delnu_g[j,i] = 0.5*7.162242257e-7*nu0_s[j,i]*np.sqrt(Tnon[j]/M)\n",
    "\n",
    "            # lorentian HWHM\n",
    "            delnu_l[j,i] = P*(x*g_s[j,i]+(1-x)*g_a[j,i])\n",
    "\n",
    "\n",
    "\n",
    "    # pre-allocating absorbance array for all wave numbers\n",
    "    \"\"\"\n",
    "    it is -ln(I(nu)/I_0)\n",
    "    \"\"\"\n",
    "    Absorbance = np.zeros([N_nu_range])\n",
    "\n",
    "    # computing absorbance coef\n",
    "    # ficient K for each x and suming it up for total\n",
    "    for i in range(X.shape[0]-2): #  <-------------- DOUBT\n",
    "        Absorbance += voigt(dat1, nu0_s[i,:], s[i,:], delnu_g[i,:], delnu_l[i,:])\n",
    "\n",
    "    return Absorbance.astype(np.half)*2"
   ]
  },
  {
   "cell_type": "code",
   "execution_count": 15,
   "id": "fe44e1a3",
   "metadata": {
    "metadata": {}
   },
   "outputs": [],
   "source": [
    "# tp = np.load('/home/saumya/Documents/Flame_dianostics-temperature_profile_estimation_using_ML/FINAL_VISUAL/DOWN_temp.npy')"
   ]
  },
  {
   "cell_type": "code",
   "execution_count": 16,
   "id": "a1f40a26",
   "metadata": {
    "metadata": {}
   },
   "outputs": [],
   "source": [
    "a2 = calc_abs()"
   ]
  },
  {
   "cell_type": "code",
   "execution_count": 17,
   "id": "98d6358f",
   "metadata": {
    "metadata": {}
   },
   "outputs": [
    {
     "data": {
      "text/plain": [
       "[<matplotlib.lines.Line2D at 0x7fc594200640>]"
      ]
     },
     "execution_count": 17,
     "metadata": {},
     "output_type": "execute_result"
    },
    {
     "data": {
      "image/png": "[encoded data removed]",
      "text/plain": [
       "<Figure size 640x480 with 1 Axes>"
      ]
     },
     "metadata": {},
     "output_type": "display_data"
    }
   ],
   "source": [
    "plt.plot(a2)"
   ]
  },
  {
   "cell_type": "code",
   "execution_count": 18,
   "id": "703e07a4",
   "metadata": {
    "metadata": {}
   },
   "outputs": [],
   "source": [
    "# pro_loc = '/home/saumya/Documents/Flame_dianostics-temperature_profile_estimation_using_ML/Spectra_gen/Profile/profile_SNR.npy'\n",
    "\n",
    "# profile = np.load(pro_loc)\n",
    "# profile = profile[:10]\n",
    "\n",
    "# data_ph = [ i for i in profile]"
   ]
  },
  {
   "cell_type": "code",
   "execution_count": 19,
   "id": "5490e4d4",
   "metadata": {
    "metadata": {}
   },
   "outputs": [],
   "source": [
    "# temp_pro = np.linspace(1500, 2200, 1000)\n",
    "\n",
    "# temp_pro = np.repeat(temp_pro, 10)\n",
    "\n",
    "# xor_pro = np.linspace(0.1, 0.3, 10)\n",
    "\n",
    "# xor_pro = repeat(xor_pro, 1000) \n",
    "\n",
    "# data_ph = [ i for i in zip(temp_pro, xor_pro)] \n",
    "# data_ph = argument_list = [(random.randint(1500, 2200), random.randint(1, 3)/ 10) for _ in range(num_jobs)]"
   ]
  },
  {
   "cell_type": "code",
   "execution_count": 20,
   "id": "8021bc21",
   "metadata": {
    "metadata": {}
   },
   "outputs": [],
   "source": [
    "# print(\"Running apply_async multiprocessing for multi-argument functions ...\")\n",
    "\n",
    "\n",
    "# Abs = run_apply_async_multiprocessing(func=calc_abs, argument_list=data_ph, num_processes=12)\n",
    "# # assert result_list == data_ph"
   ]
  },
  {
   "cell_type": "code",
   "execution_count": 21,
   "id": "5a9d22dc",
   "metadata": {
    "metadata": {}
   },
   "outputs": [],
   "source": [
    "# for i in xor_pro:\n",
    "#     np.append(Abs, imap_unordered_bar(calc_abs, [temp_pro, xor_pro]))"
   ]
  },
  {
   "cell_type": "code",
   "execution_count": 22,
   "id": "b9f58783",
   "metadata": {
    "metadata": {}
   },
   "outputs": [],
   "source": [
    "# absorption = calc_abs(profile[0])"
   ]
  },
  {
   "cell_type": "code",
   "execution_count": 23,
   "id": "234b5522",
   "metadata": {
    "metadata": {}
   },
   "outputs": [],
   "source": [
    "# Tnon = np.ones_like(Tnon)*Tnon.max()\n",
    "\n",
    "# xnon = np.ones_like(xnon)*xnon.max()"
   ]
  },
  {
   "cell_type": "markdown",
   "id": "bce60f96-228d-4dda-8a55-95058e0abcb8",
   "metadata": {},
   "source": [
    "Creating 2D matrices with size being the number of line strength entities and the number of x-locations,\n",
    "and computing the spatial step size"
   ]
  },
  {
   "cell_type": "code",
   "execution_count": 24,
   "id": "8ed227f1-9fd4-416b-81f1-734a833c114e",
   "metadata": {
    "metadata": {}
   },
   "outputs": [],
   "source": [
    "# # obtaining the size of s0 and Tnon for 2D array pre-allocations\n",
    "# ns = S0.shape[0]\n",
    "# nt = Tnon.shape[0] - 1 #  <----------------- DOUBT, nt+1 is actually nx,,    it is due to section of absorbance... \n",
    "\n",
    "# # preallocating 2d arrays\n",
    "# s       = np.zeros([nt,ns]) # line strength\n",
    "# d       = np.zeros([nt,ns]) # pressure shift coefficient\n",
    "# g_a     = np.zeros([nt,ns]) # air broadened width\n",
    "# g_s     = np.zeros([nt,ns]) # self broadened width\n",
    "# nu0_s   = np.zeros([nt,ns]) # shifted center-wavenumber\n",
    "# delnu_g = np.zeros([nt,ns]) # gaussian half-width at halft maximum\n",
    "# delnu_l = np.zeros([nt,ns]) # lorentzian half-width at halft maximum\n",
    "\n",
    "# # computing spatial step size\n",
    "# dx = np.diff(X)"
   ]
  },
  {
   "cell_type": "markdown",
   "id": "992db943-71e2-4e6b-ba08-0f7381f9209d",
   "metadata": {},
   "source": [
    "Looping through all the filtered database entries and the x-locations and computing the following \n",
    "- Pressure shift coefficient\n",
    "$$ \\delta_{p} = \\delta_0 \\left(\\frac{T_0}{T}\\right)^{0.96} $$\n",
    "- Air broadened width\n",
    "$$ \\gamma_{air}(T) = \\gamma_{air}(T_0)\\left(\\frac{T_0}{T}\\right)^{n_{air}} $$\n",
    "- Self broadened width\n",
    "$$ \\gamma_{self}(T) = \\gamma_{self}(T_0) \\left(\\frac{T_0}{T}\\right)^{0.75} $$\n",
    "- Shifted center wave number\n",
    "$$ \\nu_0 = \\nu + P (1-\\chi) \\delta_{p} $$\n",
    "- Line strength with product of mole fraction and spatial step size\n",
    "$$ S(T) = S(T_0) \\frac{Q(T_0)}{Q(T)}\\frac{T_0}{T} exp\\left(\\frac{-h c E\"}{k}\\left(\\frac{1}{T}-\\frac{1}{T_0}\\right)\\right)\\frac{\\left[1 - exp\\left(\\frac{-h c \\nu_0}{k T}\\right)\\right]}{\\left[1 - exp\\left(\\frac{-h c \\nu_0}{k T_0}\\right)\\right]}$$\n",
    "$$ S(T) \\chi dx $$\n",
    "- Gaussian half width at half maximum (1000 is a unit conversion factor for $N_a$ and $10^4$ for $c$ in cm/s)\n",
    "$$ \\alpha_G = \\nu_0\\left(\\frac{2 N_a k T log(2) \\times 1000 \\times 10^4}{m c^2}\\right)^{\\frac{1}{2}} $$\n",
    "- Lorentzian half width at half maximum \n",
    "$$ \\alpha_L = P \\left(\\chi \\gamma_{self} + (1 - \\chi) \\gamma_{air}\\right) $$"
   ]
  },
  {
   "cell_type": "code",
   "execution_count": 25,
   "id": "610243fc-6e75-45d8-8e95-21303a1e9ab2",
   "metadata": {
    "metadata": {}
   },
   "outputs": [],
   "source": [
    "# # looping through all x-locations and given line intensities\n",
    "# for i in range(ns):\n",
    "#     for j in range(nt):\n",
    "#         # getting current mole fraction value\n",
    "#         x = xnon[j]\n",
    "\n",
    "#         # computing the pressure shift coefficient\n",
    "#         d[j,i] = d01[i]*(T0/Tnon[j])**0.96\n",
    "\n",
    "#         # air broadened width\n",
    "#         g_a[j,i] = g_a01[i]*(T0/Tnon[j])**n1[i]\n",
    "\n",
    "#         # self broadened width\n",
    "#         g_s[j,i] = g_s01[i]*(T0/Tnon[j])**0.75\n",
    "\n",
    "#         # shifted center wave nuber\n",
    "#         nu0_s[j,i] = nu1[i] + P*(1-x)*d[j,i]\n",
    "\n",
    "#         # line strength\n",
    "#         s[j,i] = lineStrength(S0[i], nu0_s[j,i], Edd1[i], Tnon[j], fid_Q)*dx[j]*x\n",
    "\n",
    "#         # gaussian HWHM\n",
    "#         delnu_g[j,i] = np.sqrt(2*k*np.log(2)*Na/c**2*1000*10**4)*nu0_s[j,i]*np.sqrt(Tnon[j]/M)\n",
    "#         # delnu_g[j,i] = 0.5*7.162242257e-7*nu0_s[j,i]*np.sqrt(Tnon[j]/M)\n",
    "\n",
    "#         # lorentian HWHM\n",
    "#         delnu_l[j,i] = P*(x*g_s[j,i]+(1-x)*g_a[j,i])"
   ]
  },
  {
   "cell_type": "markdown",
   "id": "591c89dc-6669-4c1a-8be8-36e8d63d0e02",
   "metadata": {},
   "source": [
    "Computing the absorption spectra\n",
    "$$ K(x) = P \\chi(x) \\sum_{i = 1}^{N_x} S(T_i) \\phi(\\nu_i,T_i) $$"
   ]
  },
  {
   "cell_type": "code",
   "execution_count": 26,
   "id": "0327394e-8e42-480c-834a-4b2da31754fb",
   "metadata": {
    "metadata": {}
   },
   "outputs": [],
   "source": [
    "# # pre-allocating absorbance array for all wave numbers\n",
    "# \"\"\"\n",
    "# it is -ln(I(nu)/I_0)\n",
    "# \"\"\"\n",
    "# Absorbance = np.zeros([N_nu_range])\n",
    "\n",
    "# # computing absorbance coefficient K for each x and suming it up for total\n",
    "# for i in range(X.shape[0]-2): #  <-------------- DOUBT\n",
    "#     Absorbance += voigt(dat1, nu0_s[i,:], s[i,:], delnu_g[i,:], delnu_l[i,:])"
   ]
  },
  {
   "cell_type": "markdown",
   "id": "f4b0e2e5-ca13-41b2-9b9e-61f1ef17c950",
   "metadata": {},
   "source": [
    "___\n",
    "\n",
    "## Post-processing "
   ]
  },
  {
   "cell_type": "markdown",
   "id": "924587cc-09b3-4ce3-be32-f142713b9857",
   "metadata": {},
   "source": [
    "Preparing pandas dataframe with computed values, and compute error percentage with MATLAB output, then write computed values to a csv file"
   ]
  },
  {
   "cell_type": "code",
   "execution_count": 27,
   "id": "8450c9d7-6c88-4571-bb6a-fe82ee40c628",
   "metadata": {
    "metadata": {}
   },
   "outputs": [],
   "source": [
    "# # reading matlab output file\n",
    "# fid_mat = pd.read_csv(\"absorbance_matlab.csv\", header = None,\n",
    "#                       names = [\"wavenumber\", \"absorbance\"])\n",
    "\n",
    "# # writing computed values to file along with matlab\n",
    "# fid_ab = pd.DataFrame(np.transpose([dat1, Absorbance]), columns = [\"wavenumber\",\n",
    "#                                                             \"absorbance\"])\n",
    "# fid_ab[\"absorbance_matlab\"] = fid_mat[\"absorbance\"]\n",
    "# fid_ab[\"error_percentage\"] = abs((fid_ab[\"absorbance_matlab\"]-fid_ab[\"absorbance\"])/fid_ab[\"absorbance_matlab\"])*100.0\n",
    "# fid_ab.to_csv(\"absorbance_pythonOutput.csv\", index = None)"
   ]
  },
  {
   "cell_type": "markdown",
   "id": "fb004f0a-acae-4537-a733-625c66389746",
   "metadata": {},
   "source": [
    "Plotting comparison and error graphs"
   ]
  },
  {
   "cell_type": "code",
   "execution_count": 28,
   "id": "0b0d78bd-db34-495c-867a-1b94e7a2cc15",
   "metadata": {
    "metadata": {}
   },
   "outputs": [],
   "source": [
    "# # plotting absorbance graph\n",
    "# plt.figure()\n",
    "# plt.plot(dat1, absorption, '-b', label = \"Python\")\n",
    "# # plt.plot(fid_mat[\"wavenumber\"], fid_mat[\"absorbance\"], '-r', label = \"MATLAB\")\n",
    "# plt.grid()\n",
    "# plt.legend()\n",
    "# plt.xlabel(\"wave numbers\")\n",
    "# plt.ylabel(\"Absorbance\")\n",
    "# plt.title(\"Absorbance comparison\")\n",
    "# plt.savefig(\"absorbance.png\", dpi = 150)\n",
    "\n",
    "# # # plotting error percentage between matlab and python\n",
    "# # plt.figure()\n",
    "# # plt.plot(fid_ab[\"wavenumber\"],fid_ab[\"error_percentage\"], '-b')\n",
    "# # plt.grid()\n",
    "# # plt.xlabel(\"wave number\")\n",
    "# # plt.ylabel(\"error percentage\")\n",
    "# # plt.title(\"Error percentage w.r.t. matlab output\")\n",
    "# # plt.savefig(\"error.png\", dpi = 150)\n",
    "\n",
    "# # plt.show()\n"
   ]
  },
  {
   "cell_type": "code",
   "execution_count": 29,
   "id": "b9ce2d70",
   "metadata": {
    "metadata": {}
   },
   "outputs": [],
   "source": [
    "# # plotting absorbance graph\n",
    "# plt.figure()\n",
    "# plt.plot(dat1, Abs[9], '-b', label = \"Python\")\n",
    "# # plt.plot(fid_mat[\"wavenumber\"], fid_mat[\"absorbance\"], '-r', label = \"MATLAB\")\n",
    "# plt.grid()\n",
    "# plt.legend()\n",
    "# plt.xlabel(\"wave numbers\")\n",
    "# plt.ylabel(\"Absorbance\")\n",
    "# plt.title(\"Absorbance comparison\")\n",
    "# plt.savefig(\"absorbance.png\", dpi = 150)"
   ]
  },
  {
   "cell_type": "code",
   "execution_count": 30,
   "id": "e110b89b",
   "metadata": {
    "metadata": {}
   },
   "outputs": [],
   "source": [
    "# import os\n",
    "\n",
    "\n",
    "# os.chdir('/home/saumya/Documents/Spec_data/Temp_uniform_Mol_uniform/')"
   ]
  },
  {
   "cell_type": "code",
   "execution_count": 31,
   "id": "53e8b7cb",
   "metadata": {
    "metadata": {}
   },
   "outputs": [],
   "source": [
    "# np.save('abs_SNR_clean', Abs)"
   ]
  },
  {
   "cell_type": "code",
   "execution_count": 32,
   "id": "0bb2b3f3",
   "metadata": {
    "metadata": {}
   },
   "outputs": [],
   "source": [
    "# plt.plot(Abs[1])"
   ]
  },
  {
   "cell_type": "code",
   "execution_count": 33,
   "id": "a81fe523",
   "metadata": {
    "metadata": {}
   },
   "outputs": [],
   "source": [
    "def signalPower(x):\n",
    "    return np.average(x**2)"
   ]
  },
  {
   "cell_type": "code",
   "execution_count": 34,
   "id": "46a6def4",
   "metadata": {
    "metadata": {}
   },
   "outputs": [],
   "source": [
    "def SNR(signal, noise):\n",
    "    powS = signalPower(signal)\n",
    "    powN = signalPower(noise)\n",
    "    return 10*np.log10((powS-powN)/powN)"
   ]
  },
  {
   "cell_type": "code",
   "execution_count": 35,
   "id": "fac54061",
   "metadata": {
    "metadata": {}
   },
   "outputs": [],
   "source": [
    "def add_adgn(sig, SNR):\n",
    "    # Set a target SNR\n",
    "    x_volts = sig\n",
    "    x_watts = x_volts ** 2\n",
    "    x_db = 10 * np.log10(x_watts)\n",
    "    target_snr_db = SNR\n",
    "    # Calculate signal power and convert to dB \n",
    "    sig_avg_watts = np.mean(x_watts)\n",
    "    sig_avg_db = 10 * np.log10(sig_avg_watts)\n",
    "    # Calculate noise according to [2] then convert to watts\n",
    "    noise_avg_db = sig_avg_db - target_snr_db\n",
    "    noise_avg_watts = 10 ** (noise_avg_db / 10)\n",
    "    # Generate an sample of white noise\n",
    "    mean_noise = 0\n",
    "    noise_volts = np.random.normal(mean_noise, np.sqrt(noise_avg_watts), len(x_watts))\n",
    "    # Noise up the original signal\n",
    "    y_volts = x_volts + noise_volts\n",
    "    return y_volts"
   ]
  },
  {
   "cell_type": "code",
   "execution_count": 36,
   "id": "0c976e73",
   "metadata": {
    "metadata": {}
   },
   "outputs": [],
   "source": [
    "SNR = 33.5505"
   ]
  },
  {
   "cell_type": "code",
   "execution_count": 37,
   "id": "a5f42dad",
   "metadata": {
    "metadata": {}
   },
   "outputs": [],
   "source": [
    "# u = []\n",
    "# for i in Abs:\n",
    "#     y = add_adgn(i, SNR)\n",
    "#     u.append(y)\n",
    "\n",
    "# u = np.array(u)"
   ]
  },
  {
   "cell_type": "code",
   "execution_count": 38,
   "id": "b110b36f",
   "metadata": {
    "metadata": {}
   },
   "outputs": [],
   "source": [
    "a2L = add_adgn(a2, SNR)"
   ]
  },
  {
   "cell_type": "code",
   "execution_count": 41,
   "id": "0c9c4cf1",
   "metadata": {
    "metadata": {}
   },
   "outputs": [],
   "source": [
    "import scienceplots\n",
    "\n",
    "plt.style.use(['science','ieee'])"
   ]
  },
  {
   "cell_type": "code",
   "execution_count": 43,
   "id": "bbf448d2",
   "metadata": {
    "metadata": {}
   },
   "outputs": [
    {
     "data": {
      "image/png": "[encoded data removed]",
      "text/plain": [
       "<Figure size 1980x1500 with 1 Axes>"
      ]
     },
     "metadata": {},
     "output_type": "display_data"
    }
   ],
   "source": [
    "\n",
    "plt.plot(dat1,a2L)\n",
    "plt.title('Absorbance of H2O (AWGN noise added)')\n",
    "plt.ylabel('Voltage (mV)')\n",
    "plt.xlabel('Wavelenght (nm)')\n",
    "# plt.grid()\n",
    "plt.savefig('NoisyH20')"
   ]
  },
  {
   "cell_type": "code",
   "execution_count": null,
   "id": "3b9b5fec",
   "metadata": {},
   "outputs": [],
   "source": []
  }
 ],
 "metadata": {
  "kernelspec": {
   "display_name": "Python 3 (ipykernel)",
   "language": "python",
   "name": "python3"
  },
  "language_info": {
   "codemirror_mode": {
    "name": "ipython",
    "version": 3
   },
   "file_extension": ".py",
   "mimetype": "text/x-python",
   "name": "python",
   "nbconvert_exporter": "python",
   "pygments_lexer": "ipython3",
   "version": "3.9.18"
  }
 },
 "nbformat": 4,
 "nbformat_minor": 5
}
